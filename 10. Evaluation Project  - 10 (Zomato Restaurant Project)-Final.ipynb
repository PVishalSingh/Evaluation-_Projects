{
 "cells": [
  {
   "attachments": {
    "image.png": {
     "image/png": "[encoded data removed]"
    }
   },
   "cell_type": "markdown",
   "id": "2e812d60",
   "metadata": {},
   "source": [
    "# 10. Evaluation Project  - (Zomato Restaurant Project)\n",
    "# ![image.png](attachment:image.png)"
   ]
  },
  {
   "cell_type": "markdown",
   "id": "562b7ce7",
   "metadata": {},
   "source": [
    "# <span style=\"color:red\">By :- Punit Vishal Singh</span>"
   ]
  },
  {
   "cell_type": "markdown",
   "id": "7faaadec",
   "metadata": {},
   "source": [
    "# <span style=\"color:blue\">-----------------------------------------------------------------------------------------------------------------</span>"
   ]
  },
  {
   "cell_type": "markdown",
   "id": "8ad5ff68",
   "metadata": {},
   "source": [
    "### <span style=\"color:red\">__Description:__</span>\n",
    "\n",
    "Zomato Data Analysis is one of the most useful analysis for foodies who want to taste the best\n",
    "cuisines of every part of the world which lies in their budget. This analysis is also for those who\n",
    "want to find the value for money restaurants in various parts of the country for the cuisines.\n",
    "Additionally, this analysis caters the needs of people who are striving to get the best cuisine of\n",
    "the country and which locality of that country serves that cuisines with maximum number of\n",
    "restaurants.\n",
    "\n",
    "__Data Storage:__\n",
    "This problem statement contains two datasets- __Zomato.csv and country_code.csv.__\n",
    "Country_code.csv contains two variables:\n",
    "1. Country code\n",
    "2. Country name\n",
    "The collected data has been stored in the Comma Separated Value file Zomato.csv. Each\n",
    "restaurant in the dataset is uniquely identified by its Restaurant Id. Every Restaurant contains the\n",
    "following variables:\n",
    "- Restaurant Id: Unique id of every restaurant across various cities of the world\n",
    "- Restaurant Name: Name of the restaurant\n",
    "- Country Code: Country in which restaurant is located\n",
    "- City: City in which restaurant is located\n",
    "- Address: Address of the restaurant\n",
    "- Locality: Location in the city\n",
    "- Locality Verbose: Detailed description of the locality\n",
    "- Longitude: Longitude coordinate of the restaurant&#39;s location\n",
    "- Latitude: Latitude coordinate of the restaurant&#39;s location\n",
    "- Cuisines: Cuisines offered by the restaurant\n",
    "- Average Cost for two: Cost for two people in different currencies ��\n",
    "- Currency: Currency of the country\n",
    "- Has Table booking: yes/no\n",
    "- Has Online delivery: yes/ no\n",
    "- Is delivering: yes/ no\n",
    "- Switch to order menu: yes/no\n",
    "- Price range: range of price of food\n",
    "- Aggregate Rating: Average rating out of 5\n",
    "- Rating color: depending upon the average rating color\n",
    "- Rating text: text on the basis of rating of rating\n",
    "- Votes: Number of ratings casted by people"
   ]
  },
  {
   "cell_type": "markdown",
   "id": "5d789f64",
   "metadata": {},
   "source": [
    "# <span style=\"color:red\">------------------------------------------------> Objective <----------------------------------------------</span>"
   ]
  },
  {
   "cell_type": "markdown",
   "id": "7d20e174",
   "metadata": {},
   "source": [
    "1. Predict Average Cost for two\n",
    "2. Pridict Price range"
   ]
  },
  {
   "cell_type": "markdown",
   "id": "c0ad6318",
   "metadata": {},
   "source": [
    "### <span style=\"color:green\">Import Packages</span>"
   ]
  },
  {
   "cell_type": "code",
   "execution_count": 1,
   "id": "7046a186",
   "metadata": {},
   "outputs": [],
   "source": [
    "import numpy as np\n",
    "import pandas as pd\n",
    "import matplotlib.pyplot as plt\n",
    "import seaborn as sns\n"
   ]
  },
  {
   "cell_type": "markdown",
   "id": "68716287",
   "metadata": {},
   "source": [
    "### <span style=\"color:green\">Loading The Dataset...............</span>"
   ]
  },
  {
   "cell_type": "code",
   "execution_count": 2,
   "id": "186efa81",
   "metadata": {},
   "outputs": [
    {
     "data": {
      "text/html": [
       "<div>\n",
       "<style scoped>\n",
       "    .dataframe tbody tr th:only-of-type {\n",
       "        vertical-align: middle;\n",
       "    }\n",
       "\n",
       "    .dataframe tbody tr th {\n",
       "        vertical-align: top;\n",
       "    }\n",
       "\n",
       "    .dataframe thead th {\n",
       "        text-align: right;\n",
       "    }\n",
       "</style>\n",
       "<table border=\"1\" class=\"dataframe\">\n",
       "  <thead>\n",
       "    <tr style=\"text-align: right;\">\n",
       "      <th></th>\n",
       "      <th>Country Code</th>\n",
       "      <th>Country</th>\n",
       "    </tr>\n",
       "  </thead>\n",
       "  <tbody>\n",
       "    <tr>\n",
       "      <th>0</th>\n",
       "      <td>1</td>\n",
       "      <td>India</td>\n",
       "    </tr>\n",
       "    <tr>\n",
       "      <th>1</th>\n",
       "      <td>14</td>\n",
       "      <td>Australia</td>\n",
       "    </tr>\n",
       "    <tr>\n",
       "      <th>2</th>\n",
       "      <td>30</td>\n",
       "      <td>Brazil</td>\n",
       "    </tr>\n",
       "    <tr>\n",
       "      <th>3</th>\n",
       "      <td>37</td>\n",
       "      <td>Canada</td>\n",
       "    </tr>\n",
       "    <tr>\n",
       "      <th>4</th>\n",
       "      <td>94</td>\n",
       "      <td>Indonesia</td>\n",
       "    </tr>\n",
       "    <tr>\n",
       "      <th>5</th>\n",
       "      <td>148</td>\n",
       "      <td>New Zealand</td>\n",
       "    </tr>\n",
       "    <tr>\n",
       "      <th>6</th>\n",
       "      <td>162</td>\n",
       "      <td>Phillipines</td>\n",
       "    </tr>\n",
       "    <tr>\n",
       "      <th>7</th>\n",
       "      <td>166</td>\n",
       "      <td>Qatar</td>\n",
       "    </tr>\n",
       "    <tr>\n",
       "      <th>8</th>\n",
       "      <td>184</td>\n",
       "      <td>Singapore</td>\n",
       "    </tr>\n",
       "    <tr>\n",
       "      <th>9</th>\n",
       "      <td>189</td>\n",
       "      <td>South Africa</td>\n",
       "    </tr>\n",
       "    <tr>\n",
       "      <th>10</th>\n",
       "      <td>191</td>\n",
       "      <td>Sri Lanka</td>\n",
       "    </tr>\n",
       "    <tr>\n",
       "      <th>11</th>\n",
       "      <td>208</td>\n",
       "      <td>Turkey</td>\n",
       "    </tr>\n",
       "    <tr>\n",
       "      <th>12</th>\n",
       "      <td>214</td>\n",
       "      <td>UAE</td>\n",
       "    </tr>\n",
       "    <tr>\n",
       "      <th>13</th>\n",
       "      <td>215</td>\n",
       "      <td>United Kingdom</td>\n",
       "    </tr>\n",
       "    <tr>\n",
       "      <th>14</th>\n",
       "      <td>216</td>\n",
       "      <td>United States</td>\n",
       "    </tr>\n",
       "  </tbody>\n",
       "</table>\n",
       "</div>"
      ],
      "text/plain": [
       "    Country Code         Country\n",
       "0              1           India\n",
       "1             14       Australia\n",
       "2             30          Brazil\n",
       "3             37          Canada\n",
       "4             94       Indonesia\n",
       "5            148     New Zealand\n",
       "6            162     Phillipines\n",
       "7            166           Qatar\n",
       "8            184       Singapore\n",
       "9            189    South Africa\n",
       "10           191       Sri Lanka\n",
       "11           208          Turkey\n",
       "12           214             UAE\n",
       "13           215  United Kingdom\n",
       "14           216   United States"
      ]
     },
     "execution_count": 2,
     "metadata": {},
     "output_type": "execute_result"
    }
   ],
   "source": [
    "df1 = pd.read_excel (r\"C:\\Users\\Visual singh\\3. Datatrained Projects\\Evaluation Project\\Evaluation Projects By Datatrained\\Country-Code.xlsx\")\n",
    "df1"
   ]
  },
  {
   "cell_type": "code",
   "execution_count": 3,
   "id": "ddb21191",
   "metadata": {},
   "outputs": [
    {
     "data": {
      "text/html": [
       "<div>\n",
       "<style scoped>\n",
       "    .dataframe tbody tr th:only-of-type {\n",
       "        vertical-align: middle;\n",
       "    }\n",
       "\n",
       "    .dataframe tbody tr th {\n",
       "        vertical-align: top;\n",
       "    }\n",
       "\n",
       "    .dataframe thead th {\n",
       "        text-align: right;\n",
       "    }\n",
       "</style>\n",
       "<table border=\"1\" class=\"dataframe\">\n",
       "  <thead>\n",
       "    <tr style=\"text-align: right;\">\n",
       "      <th></th>\n",
       "      <th>Restaurant ID</th>\n",
       "      <th>Restaurant Name</th>\n",
       "      <th>Country Code</th>\n",
       "      <th>City</th>\n",
       "      <th>Address</th>\n",
       "      <th>Locality</th>\n",
       "      <th>Locality Verbose</th>\n",
       "      <th>Longitude</th>\n",
       "      <th>Latitude</th>\n",
       "      <th>Cuisines</th>\n",
       "      <th>...</th>\n",
       "      <th>Currency</th>\n",
       "      <th>Has Table booking</th>\n",
       "      <th>Has Online delivery</th>\n",
       "      <th>Is delivering now</th>\n",
       "      <th>Switch to order menu</th>\n",
       "      <th>Price range</th>\n",
       "      <th>Aggregate rating</th>\n",
       "      <th>Rating color</th>\n",
       "      <th>Rating text</th>\n",
       "      <th>Votes</th>\n",
       "    </tr>\n",
       "  </thead>\n",
       "  <tbody>\n",
       "    <tr>\n",
       "      <th>0</th>\n",
       "      <td>6317637</td>\n",
       "      <td>Le Petit Souffle</td>\n",
       "      <td>162</td>\n",
       "      <td>Makati City</td>\n",
       "      <td>Third Floor, Century City Mall, Kalayaan Avenu...</td>\n",
       "      <td>Century City Mall, Poblacion, Makati City</td>\n",
       "      <td>Century City Mall, Poblacion, Makati City, Mak...</td>\n",
       "      <td>121.027535</td>\n",
       "      <td>14.565443</td>\n",
       "      <td>French, Japanese, Desserts</td>\n",
       "      <td>...</td>\n",
       "      <td>Botswana Pula(P)</td>\n",
       "      <td>Yes</td>\n",
       "      <td>No</td>\n",
       "      <td>No</td>\n",
       "      <td>No</td>\n",
       "      <td>3</td>\n",
       "      <td>4.8</td>\n",
       "      <td>Dark Green</td>\n",
       "      <td>Excellent</td>\n",
       "      <td>314</td>\n",
       "    </tr>\n",
       "    <tr>\n",
       "      <th>1</th>\n",
       "      <td>6304287</td>\n",
       "      <td>Izakaya Kikufuji</td>\n",
       "      <td>162</td>\n",
       "      <td>Makati City</td>\n",
       "      <td>Little Tokyo, 2277 Chino Roces Avenue, Legaspi...</td>\n",
       "      <td>Little Tokyo, Legaspi Village, Makati City</td>\n",
       "      <td>Little Tokyo, Legaspi Village, Makati City, Ma...</td>\n",
       "      <td>121.014101</td>\n",
       "      <td>14.553708</td>\n",
       "      <td>Japanese</td>\n",
       "      <td>...</td>\n",
       "      <td>Botswana Pula(P)</td>\n",
       "      <td>Yes</td>\n",
       "      <td>No</td>\n",
       "      <td>No</td>\n",
       "      <td>No</td>\n",
       "      <td>3</td>\n",
       "      <td>4.5</td>\n",
       "      <td>Dark Green</td>\n",
       "      <td>Excellent</td>\n",
       "      <td>591</td>\n",
       "    </tr>\n",
       "    <tr>\n",
       "      <th>2</th>\n",
       "      <td>6300002</td>\n",
       "      <td>Heat - Edsa Shangri-La</td>\n",
       "      <td>162</td>\n",
       "      <td>Mandaluyong City</td>\n",
       "      <td>Edsa Shangri-La, 1 Garden Way, Ortigas, Mandal...</td>\n",
       "      <td>Edsa Shangri-La, Ortigas, Mandaluyong City</td>\n",
       "      <td>Edsa Shangri-La, Ortigas, Mandaluyong City, Ma...</td>\n",
       "      <td>121.056831</td>\n",
       "      <td>14.581404</td>\n",
       "      <td>Seafood, Asian, Filipino, Indian</td>\n",
       "      <td>...</td>\n",
       "      <td>Botswana Pula(P)</td>\n",
       "      <td>Yes</td>\n",
       "      <td>No</td>\n",
       "      <td>No</td>\n",
       "      <td>No</td>\n",
       "      <td>4</td>\n",
       "      <td>4.4</td>\n",
       "      <td>Green</td>\n",
       "      <td>Very Good</td>\n",
       "      <td>270</td>\n",
       "    </tr>\n",
       "    <tr>\n",
       "      <th>3</th>\n",
       "      <td>6318506</td>\n",
       "      <td>Ooma</td>\n",
       "      <td>162</td>\n",
       "      <td>Mandaluyong City</td>\n",
       "      <td>Third Floor, Mega Fashion Hall, SM Megamall, O...</td>\n",
       "      <td>SM Megamall, Ortigas, Mandaluyong City</td>\n",
       "      <td>SM Megamall, Ortigas, Mandaluyong City, Mandal...</td>\n",
       "      <td>121.056475</td>\n",
       "      <td>14.585318</td>\n",
       "      <td>Japanese, Sushi</td>\n",
       "      <td>...</td>\n",
       "      <td>Botswana Pula(P)</td>\n",
       "      <td>No</td>\n",
       "      <td>No</td>\n",
       "      <td>No</td>\n",
       "      <td>No</td>\n",
       "      <td>4</td>\n",
       "      <td>4.9</td>\n",
       "      <td>Dark Green</td>\n",
       "      <td>Excellent</td>\n",
       "      <td>365</td>\n",
       "    </tr>\n",
       "    <tr>\n",
       "      <th>4</th>\n",
       "      <td>6314302</td>\n",
       "      <td>Sambo Kojin</td>\n",
       "      <td>162</td>\n",
       "      <td>Mandaluyong City</td>\n",
       "      <td>Third Floor, Mega Atrium, SM Megamall, Ortigas...</td>\n",
       "      <td>SM Megamall, Ortigas, Mandaluyong City</td>\n",
       "      <td>SM Megamall, Ortigas, Mandaluyong City, Mandal...</td>\n",
       "      <td>121.057508</td>\n",
       "      <td>14.584450</td>\n",
       "      <td>Japanese, Korean</td>\n",
       "      <td>...</td>\n",
       "      <td>Botswana Pula(P)</td>\n",
       "      <td>Yes</td>\n",
       "      <td>No</td>\n",
       "      <td>No</td>\n",
       "      <td>No</td>\n",
       "      <td>4</td>\n",
       "      <td>4.8</td>\n",
       "      <td>Dark Green</td>\n",
       "      <td>Excellent</td>\n",
       "      <td>229</td>\n",
       "    </tr>\n",
       "    <tr>\n",
       "      <th>...</th>\n",
       "      <td>...</td>\n",
       "      <td>...</td>\n",
       "      <td>...</td>\n",
       "      <td>...</td>\n",
       "      <td>...</td>\n",
       "      <td>...</td>\n",
       "      <td>...</td>\n",
       "      <td>...</td>\n",
       "      <td>...</td>\n",
       "      <td>...</td>\n",
       "      <td>...</td>\n",
       "      <td>...</td>\n",
       "      <td>...</td>\n",
       "      <td>...</td>\n",
       "      <td>...</td>\n",
       "      <td>...</td>\n",
       "      <td>...</td>\n",
       "      <td>...</td>\n",
       "      <td>...</td>\n",
       "      <td>...</td>\n",
       "      <td>...</td>\n",
       "    </tr>\n",
       "    <tr>\n",
       "      <th>9546</th>\n",
       "      <td>5915730</td>\n",
       "      <td>NamlÛ± Gurme</td>\n",
       "      <td>208</td>\n",
       "      <td>ï¿½ï¿½stanbul</td>\n",
       "      <td>Kemankeï¿½ï¿½ Karamustafa Paï¿½ï¿½a Mahallesi,...</td>\n",
       "      <td>Karakï¿½_y</td>\n",
       "      <td>Karakï¿½_y, ï¿½ï¿½stanbul</td>\n",
       "      <td>28.977392</td>\n",
       "      <td>41.022793</td>\n",
       "      <td>Turkish</td>\n",
       "      <td>...</td>\n",
       "      <td>Turkish Lira(TL)</td>\n",
       "      <td>No</td>\n",
       "      <td>No</td>\n",
       "      <td>No</td>\n",
       "      <td>No</td>\n",
       "      <td>3</td>\n",
       "      <td>4.1</td>\n",
       "      <td>Green</td>\n",
       "      <td>Very Good</td>\n",
       "      <td>788</td>\n",
       "    </tr>\n",
       "    <tr>\n",
       "      <th>9547</th>\n",
       "      <td>5908749</td>\n",
       "      <td>Ceviz Aï¿½ï¿½acÛ±</td>\n",
       "      <td>208</td>\n",
       "      <td>ï¿½ï¿½stanbul</td>\n",
       "      <td>Koï¿½ï¿½uyolu Mahallesi, Muhittin ï¿½ï¿½stï¿½_...</td>\n",
       "      <td>Koï¿½ï¿½uyolu</td>\n",
       "      <td>Koï¿½ï¿½uyolu, ï¿½ï¿½stanbul</td>\n",
       "      <td>29.041297</td>\n",
       "      <td>41.009847</td>\n",
       "      <td>World Cuisine, Patisserie, Cafe</td>\n",
       "      <td>...</td>\n",
       "      <td>Turkish Lira(TL)</td>\n",
       "      <td>No</td>\n",
       "      <td>No</td>\n",
       "      <td>No</td>\n",
       "      <td>No</td>\n",
       "      <td>3</td>\n",
       "      <td>4.2</td>\n",
       "      <td>Green</td>\n",
       "      <td>Very Good</td>\n",
       "      <td>1034</td>\n",
       "    </tr>\n",
       "    <tr>\n",
       "      <th>9548</th>\n",
       "      <td>5915807</td>\n",
       "      <td>Huqqa</td>\n",
       "      <td>208</td>\n",
       "      <td>ï¿½ï¿½stanbul</td>\n",
       "      <td>Kuruï¿½_eï¿½ï¿½me Mahallesi, Muallim Naci Cadd...</td>\n",
       "      <td>Kuruï¿½_eï¿½ï¿½me</td>\n",
       "      <td>Kuruï¿½_eï¿½ï¿½me, ï¿½ï¿½stanbul</td>\n",
       "      <td>29.034640</td>\n",
       "      <td>41.055817</td>\n",
       "      <td>Italian, World Cuisine</td>\n",
       "      <td>...</td>\n",
       "      <td>Turkish Lira(TL)</td>\n",
       "      <td>No</td>\n",
       "      <td>No</td>\n",
       "      <td>No</td>\n",
       "      <td>No</td>\n",
       "      <td>4</td>\n",
       "      <td>3.7</td>\n",
       "      <td>Yellow</td>\n",
       "      <td>Good</td>\n",
       "      <td>661</td>\n",
       "    </tr>\n",
       "    <tr>\n",
       "      <th>9549</th>\n",
       "      <td>5916112</td>\n",
       "      <td>Aï¿½ï¿½ï¿½k Kahve</td>\n",
       "      <td>208</td>\n",
       "      <td>ï¿½ï¿½stanbul</td>\n",
       "      <td>Kuruï¿½_eï¿½ï¿½me Mahallesi, Muallim Naci Cadd...</td>\n",
       "      <td>Kuruï¿½_eï¿½ï¿½me</td>\n",
       "      <td>Kuruï¿½_eï¿½ï¿½me, ï¿½ï¿½stanbul</td>\n",
       "      <td>29.036019</td>\n",
       "      <td>41.057979</td>\n",
       "      <td>Restaurant Cafe</td>\n",
       "      <td>...</td>\n",
       "      <td>Turkish Lira(TL)</td>\n",
       "      <td>No</td>\n",
       "      <td>No</td>\n",
       "      <td>No</td>\n",
       "      <td>No</td>\n",
       "      <td>4</td>\n",
       "      <td>4.0</td>\n",
       "      <td>Green</td>\n",
       "      <td>Very Good</td>\n",
       "      <td>901</td>\n",
       "    </tr>\n",
       "    <tr>\n",
       "      <th>9550</th>\n",
       "      <td>5927402</td>\n",
       "      <td>Walter's Coffee Roastery</td>\n",
       "      <td>208</td>\n",
       "      <td>ï¿½ï¿½stanbul</td>\n",
       "      <td>Cafeaï¿½ï¿½a Mahallesi, BademaltÛ± Sokak, No 2...</td>\n",
       "      <td>Moda</td>\n",
       "      <td>Moda, ï¿½ï¿½stanbul</td>\n",
       "      <td>29.026016</td>\n",
       "      <td>40.984776</td>\n",
       "      <td>Cafe</td>\n",
       "      <td>...</td>\n",
       "      <td>Turkish Lira(TL)</td>\n",
       "      <td>No</td>\n",
       "      <td>No</td>\n",
       "      <td>No</td>\n",
       "      <td>No</td>\n",
       "      <td>2</td>\n",
       "      <td>4.0</td>\n",
       "      <td>Green</td>\n",
       "      <td>Very Good</td>\n",
       "      <td>591</td>\n",
       "    </tr>\n",
       "  </tbody>\n",
       "</table>\n",
       "<p>9551 rows × 21 columns</p>\n",
       "</div>"
      ],
      "text/plain": [
       "      Restaurant ID           Restaurant Name  Country Code              City  \\\n",
       "0           6317637          Le Petit Souffle           162       Makati City   \n",
       "1           6304287          Izakaya Kikufuji           162       Makati City   \n",
       "2           6300002    Heat - Edsa Shangri-La           162  Mandaluyong City   \n",
       "3           6318506                      Ooma           162  Mandaluyong City   \n",
       "4           6314302               Sambo Kojin           162  Mandaluyong City   \n",
       "...             ...                       ...           ...               ...   \n",
       "9546        5915730              NamlÛ± Gurme           208     ï¿½ï¿½stanbul   \n",
       "9547        5908749         Ceviz Aï¿½ï¿½acÛ±           208     ï¿½ï¿½stanbul   \n",
       "9548        5915807                     Huqqa           208     ï¿½ï¿½stanbul   \n",
       "9549        5916112         Aï¿½ï¿½ï¿½k Kahve           208     ï¿½ï¿½stanbul   \n",
       "9550        5927402  Walter's Coffee Roastery           208     ï¿½ï¿½stanbul   \n",
       "\n",
       "                                                Address  \\\n",
       "0     Third Floor, Century City Mall, Kalayaan Avenu...   \n",
       "1     Little Tokyo, 2277 Chino Roces Avenue, Legaspi...   \n",
       "2     Edsa Shangri-La, 1 Garden Way, Ortigas, Mandal...   \n",
       "3     Third Floor, Mega Fashion Hall, SM Megamall, O...   \n",
       "4     Third Floor, Mega Atrium, SM Megamall, Ortigas...   \n",
       "...                                                 ...   \n",
       "9546  Kemankeï¿½ï¿½ Karamustafa Paï¿½ï¿½a Mahallesi,...   \n",
       "9547  Koï¿½ï¿½uyolu Mahallesi, Muhittin ï¿½ï¿½stï¿½_...   \n",
       "9548  Kuruï¿½_eï¿½ï¿½me Mahallesi, Muallim Naci Cadd...   \n",
       "9549  Kuruï¿½_eï¿½ï¿½me Mahallesi, Muallim Naci Cadd...   \n",
       "9550  Cafeaï¿½ï¿½a Mahallesi, BademaltÛ± Sokak, No 2...   \n",
       "\n",
       "                                        Locality  \\\n",
       "0      Century City Mall, Poblacion, Makati City   \n",
       "1     Little Tokyo, Legaspi Village, Makati City   \n",
       "2     Edsa Shangri-La, Ortigas, Mandaluyong City   \n",
       "3         SM Megamall, Ortigas, Mandaluyong City   \n",
       "4         SM Megamall, Ortigas, Mandaluyong City   \n",
       "...                                          ...   \n",
       "9546                                  Karakï¿½_y   \n",
       "9547                               Koï¿½ï¿½uyolu   \n",
       "9548                           Kuruï¿½_eï¿½ï¿½me   \n",
       "9549                           Kuruï¿½_eï¿½ï¿½me   \n",
       "9550                                        Moda   \n",
       "\n",
       "                                       Locality Verbose   Longitude  \\\n",
       "0     Century City Mall, Poblacion, Makati City, Mak...  121.027535   \n",
       "1     Little Tokyo, Legaspi Village, Makati City, Ma...  121.014101   \n",
       "2     Edsa Shangri-La, Ortigas, Mandaluyong City, Ma...  121.056831   \n",
       "3     SM Megamall, Ortigas, Mandaluyong City, Mandal...  121.056475   \n",
       "4     SM Megamall, Ortigas, Mandaluyong City, Mandal...  121.057508   \n",
       "...                                                 ...         ...   \n",
       "9546                          Karakï¿½_y, ï¿½ï¿½stanbul   28.977392   \n",
       "9547                       Koï¿½ï¿½uyolu, ï¿½ï¿½stanbul   29.041297   \n",
       "9548                   Kuruï¿½_eï¿½ï¿½me, ï¿½ï¿½stanbul   29.034640   \n",
       "9549                   Kuruï¿½_eï¿½ï¿½me, ï¿½ï¿½stanbul   29.036019   \n",
       "9550                                Moda, ï¿½ï¿½stanbul   29.026016   \n",
       "\n",
       "       Latitude                          Cuisines  ...          Currency  \\\n",
       "0     14.565443        French, Japanese, Desserts  ...  Botswana Pula(P)   \n",
       "1     14.553708                          Japanese  ...  Botswana Pula(P)   \n",
       "2     14.581404  Seafood, Asian, Filipino, Indian  ...  Botswana Pula(P)   \n",
       "3     14.585318                   Japanese, Sushi  ...  Botswana Pula(P)   \n",
       "4     14.584450                  Japanese, Korean  ...  Botswana Pula(P)   \n",
       "...         ...                               ...  ...               ...   \n",
       "9546  41.022793                           Turkish  ...  Turkish Lira(TL)   \n",
       "9547  41.009847   World Cuisine, Patisserie, Cafe  ...  Turkish Lira(TL)   \n",
       "9548  41.055817            Italian, World Cuisine  ...  Turkish Lira(TL)   \n",
       "9549  41.057979                   Restaurant Cafe  ...  Turkish Lira(TL)   \n",
       "9550  40.984776                              Cafe  ...  Turkish Lira(TL)   \n",
       "\n",
       "     Has Table booking Has Online delivery Is delivering now  \\\n",
       "0                  Yes                  No                No   \n",
       "1                  Yes                  No                No   \n",
       "2                  Yes                  No                No   \n",
       "3                   No                  No                No   \n",
       "4                  Yes                  No                No   \n",
       "...                ...                 ...               ...   \n",
       "9546                No                  No                No   \n",
       "9547                No                  No                No   \n",
       "9548                No                  No                No   \n",
       "9549                No                  No                No   \n",
       "9550                No                  No                No   \n",
       "\n",
       "     Switch to order menu Price range  Aggregate rating  Rating color  \\\n",
       "0                      No           3               4.8    Dark Green   \n",
       "1                      No           3               4.5    Dark Green   \n",
       "2                      No           4               4.4         Green   \n",
       "3                      No           4               4.9    Dark Green   \n",
       "4                      No           4               4.8    Dark Green   \n",
       "...                   ...         ...               ...           ...   \n",
       "9546                   No           3               4.1         Green   \n",
       "9547                   No           3               4.2         Green   \n",
       "9548                   No           4               3.7        Yellow   \n",
       "9549                   No           4               4.0         Green   \n",
       "9550                   No           2               4.0         Green   \n",
       "\n",
       "     Rating text Votes  \n",
       "0      Excellent   314  \n",
       "1      Excellent   591  \n",
       "2      Very Good   270  \n",
       "3      Excellent   365  \n",
       "4      Excellent   229  \n",
       "...          ...   ...  \n",
       "9546   Very Good   788  \n",
       "9547   Very Good  1034  \n",
       "9548        Good   661  \n",
       "9549   Very Good   901  \n",
       "9550   Very Good   591  \n",
       "\n",
       "[9551 rows x 21 columns]"
      ]
     },
     "execution_count": 3,
     "metadata": {},
     "output_type": "execute_result"
    }
   ],
   "source": [
    "df2=pd.read_csv(\"zomato.csv\",encoding='latin-1')\n",
    "df2"
   ]
  },
  {
   "cell_type": "markdown",
   "id": "1423462b",
   "metadata": {},
   "source": [
    "### <span style=\"color:green\">To merge both the dataset</span>"
   ]
  },
  {
   "cell_type": "code",
   "execution_count": 4,
   "id": "6cb0f13d",
   "metadata": {},
   "outputs": [],
   "source": [
    "df = df1.merge(df2, how='left')"
   ]
  },
  {
   "cell_type": "code",
   "execution_count": 5,
   "id": "9990fd82",
   "metadata": {},
   "outputs": [
    {
     "data": {
      "text/html": [
       "<div>\n",
       "<style scoped>\n",
       "    .dataframe tbody tr th:only-of-type {\n",
       "        vertical-align: middle;\n",
       "    }\n",
       "\n",
       "    .dataframe tbody tr th {\n",
       "        vertical-align: top;\n",
       "    }\n",
       "\n",
       "    .dataframe thead th {\n",
       "        text-align: right;\n",
       "    }\n",
       "</style>\n",
       "<table border=\"1\" class=\"dataframe\">\n",
       "  <thead>\n",
       "    <tr style=\"text-align: right;\">\n",
       "      <th></th>\n",
       "      <th>Country Code</th>\n",
       "      <th>Country</th>\n",
       "      <th>Restaurant ID</th>\n",
       "      <th>Restaurant Name</th>\n",
       "      <th>City</th>\n",
       "      <th>Address</th>\n",
       "      <th>Locality</th>\n",
       "      <th>Locality Verbose</th>\n",
       "      <th>Longitude</th>\n",
       "      <th>Latitude</th>\n",
       "      <th>...</th>\n",
       "      <th>Currency</th>\n",
       "      <th>Has Table booking</th>\n",
       "      <th>Has Online delivery</th>\n",
       "      <th>Is delivering now</th>\n",
       "      <th>Switch to order menu</th>\n",
       "      <th>Price range</th>\n",
       "      <th>Aggregate rating</th>\n",
       "      <th>Rating color</th>\n",
       "      <th>Rating text</th>\n",
       "      <th>Votes</th>\n",
       "    </tr>\n",
       "  </thead>\n",
       "  <tbody>\n",
       "    <tr>\n",
       "      <th>0</th>\n",
       "      <td>1</td>\n",
       "      <td>India</td>\n",
       "      <td>3400025</td>\n",
       "      <td>Jahanpanah</td>\n",
       "      <td>Agra</td>\n",
       "      <td>E 23, Shopping Arcade, Sadar Bazaar, Agra Cant...</td>\n",
       "      <td>Agra Cantt</td>\n",
       "      <td>Agra Cantt, Agra</td>\n",
       "      <td>78.011544</td>\n",
       "      <td>27.161661</td>\n",
       "      <td>...</td>\n",
       "      <td>Indian Rupees(Rs.)</td>\n",
       "      <td>No</td>\n",
       "      <td>No</td>\n",
       "      <td>No</td>\n",
       "      <td>No</td>\n",
       "      <td>3</td>\n",
       "      <td>3.9</td>\n",
       "      <td>Yellow</td>\n",
       "      <td>Good</td>\n",
       "      <td>140</td>\n",
       "    </tr>\n",
       "    <tr>\n",
       "      <th>1</th>\n",
       "      <td>1</td>\n",
       "      <td>India</td>\n",
       "      <td>3400341</td>\n",
       "      <td>Rangrezz Restaurant</td>\n",
       "      <td>Agra</td>\n",
       "      <td>E-20, Shopping Arcade, Sadar Bazaar, Agra Cant...</td>\n",
       "      <td>Agra Cantt</td>\n",
       "      <td>Agra Cantt, Agra</td>\n",
       "      <td>0.000000</td>\n",
       "      <td>0.000000</td>\n",
       "      <td>...</td>\n",
       "      <td>Indian Rupees(Rs.)</td>\n",
       "      <td>No</td>\n",
       "      <td>No</td>\n",
       "      <td>No</td>\n",
       "      <td>No</td>\n",
       "      <td>2</td>\n",
       "      <td>3.5</td>\n",
       "      <td>Yellow</td>\n",
       "      <td>Good</td>\n",
       "      <td>71</td>\n",
       "    </tr>\n",
       "    <tr>\n",
       "      <th>2</th>\n",
       "      <td>1</td>\n",
       "      <td>India</td>\n",
       "      <td>3400005</td>\n",
       "      <td>Time2Eat - Mama Chicken</td>\n",
       "      <td>Agra</td>\n",
       "      <td>Main Market, Sadar Bazaar, Agra Cantt, Agra</td>\n",
       "      <td>Agra Cantt</td>\n",
       "      <td>Agra Cantt, Agra</td>\n",
       "      <td>78.011608</td>\n",
       "      <td>27.160832</td>\n",
       "      <td>...</td>\n",
       "      <td>Indian Rupees(Rs.)</td>\n",
       "      <td>No</td>\n",
       "      <td>No</td>\n",
       "      <td>No</td>\n",
       "      <td>No</td>\n",
       "      <td>2</td>\n",
       "      <td>3.6</td>\n",
       "      <td>Yellow</td>\n",
       "      <td>Good</td>\n",
       "      <td>94</td>\n",
       "    </tr>\n",
       "    <tr>\n",
       "      <th>3</th>\n",
       "      <td>1</td>\n",
       "      <td>India</td>\n",
       "      <td>3400021</td>\n",
       "      <td>Chokho Jeeman Marwari Jain Bhojanalya</td>\n",
       "      <td>Agra</td>\n",
       "      <td>1/48, Delhi Gate, Station Road, Raja Mandi, Ci...</td>\n",
       "      <td>Civil Lines</td>\n",
       "      <td>Civil Lines, Agra</td>\n",
       "      <td>77.998092</td>\n",
       "      <td>27.195928</td>\n",
       "      <td>...</td>\n",
       "      <td>Indian Rupees(Rs.)</td>\n",
       "      <td>No</td>\n",
       "      <td>No</td>\n",
       "      <td>No</td>\n",
       "      <td>No</td>\n",
       "      <td>2</td>\n",
       "      <td>4.0</td>\n",
       "      <td>Green</td>\n",
       "      <td>Very Good</td>\n",
       "      <td>87</td>\n",
       "    </tr>\n",
       "    <tr>\n",
       "      <th>4</th>\n",
       "      <td>1</td>\n",
       "      <td>India</td>\n",
       "      <td>3400017</td>\n",
       "      <td>Pinch Of Spice</td>\n",
       "      <td>Agra</td>\n",
       "      <td>23/453, Opposite Sanjay Cinema, Wazipura Road,...</td>\n",
       "      <td>Civil Lines</td>\n",
       "      <td>Civil Lines, Agra</td>\n",
       "      <td>78.007553</td>\n",
       "      <td>27.201725</td>\n",
       "      <td>...</td>\n",
       "      <td>Indian Rupees(Rs.)</td>\n",
       "      <td>No</td>\n",
       "      <td>No</td>\n",
       "      <td>No</td>\n",
       "      <td>No</td>\n",
       "      <td>3</td>\n",
       "      <td>4.2</td>\n",
       "      <td>Green</td>\n",
       "      <td>Very Good</td>\n",
       "      <td>177</td>\n",
       "    </tr>\n",
       "    <tr>\n",
       "      <th>...</th>\n",
       "      <td>...</td>\n",
       "      <td>...</td>\n",
       "      <td>...</td>\n",
       "      <td>...</td>\n",
       "      <td>...</td>\n",
       "      <td>...</td>\n",
       "      <td>...</td>\n",
       "      <td>...</td>\n",
       "      <td>...</td>\n",
       "      <td>...</td>\n",
       "      <td>...</td>\n",
       "      <td>...</td>\n",
       "      <td>...</td>\n",
       "      <td>...</td>\n",
       "      <td>...</td>\n",
       "      <td>...</td>\n",
       "      <td>...</td>\n",
       "      <td>...</td>\n",
       "      <td>...</td>\n",
       "      <td>...</td>\n",
       "      <td>...</td>\n",
       "    </tr>\n",
       "    <tr>\n",
       "      <th>9546</th>\n",
       "      <td>216</td>\n",
       "      <td>United States</td>\n",
       "      <td>17697389</td>\n",
       "      <td>The Screaming Eagle</td>\n",
       "      <td>Waterloo</td>\n",
       "      <td>228 E 4th St., Waterloo, IA 50703</td>\n",
       "      <td>Waterloo</td>\n",
       "      <td>Waterloo, Waterloo</td>\n",
       "      <td>-92.335523</td>\n",
       "      <td>42.498400</td>\n",
       "      <td>...</td>\n",
       "      <td>Dollar($)</td>\n",
       "      <td>No</td>\n",
       "      <td>No</td>\n",
       "      <td>No</td>\n",
       "      <td>No</td>\n",
       "      <td>1</td>\n",
       "      <td>3.7</td>\n",
       "      <td>Yellow</td>\n",
       "      <td>Good</td>\n",
       "      <td>101</td>\n",
       "    </tr>\n",
       "    <tr>\n",
       "      <th>9547</th>\n",
       "      <td>216</td>\n",
       "      <td>United States</td>\n",
       "      <td>17697424</td>\n",
       "      <td>The Thai Bowl</td>\n",
       "      <td>Waterloo</td>\n",
       "      <td>624 Sycamore Street, Waterloo, IA 50703</td>\n",
       "      <td>Waterloo</td>\n",
       "      <td>Waterloo, Waterloo</td>\n",
       "      <td>-92.335769</td>\n",
       "      <td>42.497919</td>\n",
       "      <td>...</td>\n",
       "      <td>Dollar($)</td>\n",
       "      <td>No</td>\n",
       "      <td>No</td>\n",
       "      <td>No</td>\n",
       "      <td>No</td>\n",
       "      <td>1</td>\n",
       "      <td>3.5</td>\n",
       "      <td>Yellow</td>\n",
       "      <td>Good</td>\n",
       "      <td>58</td>\n",
       "    </tr>\n",
       "    <tr>\n",
       "      <th>9548</th>\n",
       "      <td>216</td>\n",
       "      <td>United States</td>\n",
       "      <td>17697332</td>\n",
       "      <td>Tokyo Japanese Steak House</td>\n",
       "      <td>Waterloo</td>\n",
       "      <td>1931 Sears Street, Waterloo, IA 50702</td>\n",
       "      <td>Waterloo</td>\n",
       "      <td>Waterloo, Waterloo</td>\n",
       "      <td>-92.323400</td>\n",
       "      <td>42.465580</td>\n",
       "      <td>...</td>\n",
       "      <td>Dollar($)</td>\n",
       "      <td>No</td>\n",
       "      <td>No</td>\n",
       "      <td>No</td>\n",
       "      <td>No</td>\n",
       "      <td>2</td>\n",
       "      <td>3.9</td>\n",
       "      <td>Yellow</td>\n",
       "      <td>Good</td>\n",
       "      <td>156</td>\n",
       "    </tr>\n",
       "    <tr>\n",
       "      <th>9549</th>\n",
       "      <td>216</td>\n",
       "      <td>United States</td>\n",
       "      <td>17694056</td>\n",
       "      <td>Theo Yianni's Authentic Greek Restaurant</td>\n",
       "      <td>Weirton</td>\n",
       "      <td>322 American Way, Weirton, WV 26062</td>\n",
       "      <td>Weirton</td>\n",
       "      <td>Weirton, Weirton</td>\n",
       "      <td>-80.529488</td>\n",
       "      <td>40.396043</td>\n",
       "      <td>...</td>\n",
       "      <td>Dollar($)</td>\n",
       "      <td>No</td>\n",
       "      <td>No</td>\n",
       "      <td>No</td>\n",
       "      <td>No</td>\n",
       "      <td>2</td>\n",
       "      <td>3.9</td>\n",
       "      <td>Yellow</td>\n",
       "      <td>Good</td>\n",
       "      <td>156</td>\n",
       "    </tr>\n",
       "    <tr>\n",
       "      <th>9550</th>\n",
       "      <td>216</td>\n",
       "      <td>United States</td>\n",
       "      <td>17559793</td>\n",
       "      <td>Fishpatrick's Crabby Cafe</td>\n",
       "      <td>Winchester Bay</td>\n",
       "      <td>196 Bayfront Loop, Winchester Bay, OR 97467</td>\n",
       "      <td>Winchester Bay</td>\n",
       "      <td>Winchester Bay, Winchester Bay</td>\n",
       "      <td>-124.175346</td>\n",
       "      <td>43.678998</td>\n",
       "      <td>...</td>\n",
       "      <td>Dollar($)</td>\n",
       "      <td>No</td>\n",
       "      <td>No</td>\n",
       "      <td>No</td>\n",
       "      <td>No</td>\n",
       "      <td>2</td>\n",
       "      <td>3.2</td>\n",
       "      <td>Orange</td>\n",
       "      <td>Average</td>\n",
       "      <td>16</td>\n",
       "    </tr>\n",
       "  </tbody>\n",
       "</table>\n",
       "<p>9551 rows × 22 columns</p>\n",
       "</div>"
      ],
      "text/plain": [
       "      Country Code        Country  Restaurant ID  \\\n",
       "0                1          India        3400025   \n",
       "1                1          India        3400341   \n",
       "2                1          India        3400005   \n",
       "3                1          India        3400021   \n",
       "4                1          India        3400017   \n",
       "...            ...            ...            ...   \n",
       "9546           216  United States       17697389   \n",
       "9547           216  United States       17697424   \n",
       "9548           216  United States       17697332   \n",
       "9549           216  United States       17694056   \n",
       "9550           216  United States       17559793   \n",
       "\n",
       "                               Restaurant Name            City  \\\n",
       "0                                   Jahanpanah            Agra   \n",
       "1                          Rangrezz Restaurant            Agra   \n",
       "2                      Time2Eat - Mama Chicken            Agra   \n",
       "3        Chokho Jeeman Marwari Jain Bhojanalya            Agra   \n",
       "4                               Pinch Of Spice            Agra   \n",
       "...                                        ...             ...   \n",
       "9546                       The Screaming Eagle        Waterloo   \n",
       "9547                             The Thai Bowl        Waterloo   \n",
       "9548                Tokyo Japanese Steak House        Waterloo   \n",
       "9549  Theo Yianni's Authentic Greek Restaurant         Weirton   \n",
       "9550                 Fishpatrick's Crabby Cafe  Winchester Bay   \n",
       "\n",
       "                                                Address        Locality  \\\n",
       "0     E 23, Shopping Arcade, Sadar Bazaar, Agra Cant...      Agra Cantt   \n",
       "1     E-20, Shopping Arcade, Sadar Bazaar, Agra Cant...      Agra Cantt   \n",
       "2           Main Market, Sadar Bazaar, Agra Cantt, Agra      Agra Cantt   \n",
       "3     1/48, Delhi Gate, Station Road, Raja Mandi, Ci...     Civil Lines   \n",
       "4     23/453, Opposite Sanjay Cinema, Wazipura Road,...     Civil Lines   \n",
       "...                                                 ...             ...   \n",
       "9546                  228 E 4th St., Waterloo, IA 50703        Waterloo   \n",
       "9547            624 Sycamore Street, Waterloo, IA 50703        Waterloo   \n",
       "9548              1931 Sears Street, Waterloo, IA 50702        Waterloo   \n",
       "9549                322 American Way, Weirton, WV 26062         Weirton   \n",
       "9550        196 Bayfront Loop, Winchester Bay, OR 97467  Winchester Bay   \n",
       "\n",
       "                    Locality Verbose   Longitude   Latitude  ...  \\\n",
       "0                   Agra Cantt, Agra   78.011544  27.161661  ...   \n",
       "1                   Agra Cantt, Agra    0.000000   0.000000  ...   \n",
       "2                   Agra Cantt, Agra   78.011608  27.160832  ...   \n",
       "3                  Civil Lines, Agra   77.998092  27.195928  ...   \n",
       "4                  Civil Lines, Agra   78.007553  27.201725  ...   \n",
       "...                              ...         ...        ...  ...   \n",
       "9546              Waterloo, Waterloo  -92.335523  42.498400  ...   \n",
       "9547              Waterloo, Waterloo  -92.335769  42.497919  ...   \n",
       "9548              Waterloo, Waterloo  -92.323400  42.465580  ...   \n",
       "9549                Weirton, Weirton  -80.529488  40.396043  ...   \n",
       "9550  Winchester Bay, Winchester Bay -124.175346  43.678998  ...   \n",
       "\n",
       "                Currency  Has Table booking Has Online delivery  \\\n",
       "0     Indian Rupees(Rs.)                 No                  No   \n",
       "1     Indian Rupees(Rs.)                 No                  No   \n",
       "2     Indian Rupees(Rs.)                 No                  No   \n",
       "3     Indian Rupees(Rs.)                 No                  No   \n",
       "4     Indian Rupees(Rs.)                 No                  No   \n",
       "...                  ...                ...                 ...   \n",
       "9546           Dollar($)                 No                  No   \n",
       "9547           Dollar($)                 No                  No   \n",
       "9548           Dollar($)                 No                  No   \n",
       "9549           Dollar($)                 No                  No   \n",
       "9550           Dollar($)                 No                  No   \n",
       "\n",
       "     Is delivering now Switch to order menu Price range Aggregate rating  \\\n",
       "0                   No                   No           3              3.9   \n",
       "1                   No                   No           2              3.5   \n",
       "2                   No                   No           2              3.6   \n",
       "3                   No                   No           2              4.0   \n",
       "4                   No                   No           3              4.2   \n",
       "...                ...                  ...         ...              ...   \n",
       "9546                No                   No           1              3.7   \n",
       "9547                No                   No           1              3.5   \n",
       "9548                No                   No           2              3.9   \n",
       "9549                No                   No           2              3.9   \n",
       "9550                No                   No           2              3.2   \n",
       "\n",
       "      Rating color  Rating text Votes  \n",
       "0           Yellow         Good   140  \n",
       "1           Yellow         Good    71  \n",
       "2           Yellow         Good    94  \n",
       "3            Green    Very Good    87  \n",
       "4            Green    Very Good   177  \n",
       "...            ...          ...   ...  \n",
       "9546        Yellow         Good   101  \n",
       "9547        Yellow         Good    58  \n",
       "9548        Yellow         Good   156  \n",
       "9549        Yellow         Good   156  \n",
       "9550        Orange      Average    16  \n",
       "\n",
       "[9551 rows x 22 columns]"
      ]
     },
     "execution_count": 5,
     "metadata": {},
     "output_type": "execute_result"
    }
   ],
   "source": [
    "df"
   ]
  },
  {
   "cell_type": "markdown",
   "id": "a9c9b732",
   "metadata": {},
   "source": [
    "### <span style=\"color:green\">Checking Column Names</span>"
   ]
  },
  {
   "cell_type": "code",
   "execution_count": 6,
   "id": "8019142a",
   "metadata": {},
   "outputs": [
    {
     "data": {
      "text/plain": [
       "Index(['Country Code', 'Country', 'Restaurant ID', 'Restaurant Name', 'City',\n",
       "       'Address', 'Locality', 'Locality Verbose', 'Longitude', 'Latitude',\n",
       "       'Cuisines', 'Average Cost for two', 'Currency', 'Has Table booking',\n",
       "       'Has Online delivery', 'Is delivering now', 'Switch to order menu',\n",
       "       'Price range', 'Aggregate rating', 'Rating color', 'Rating text',\n",
       "       'Votes'],\n",
       "      dtype='object')"
      ]
     },
     "execution_count": 6,
     "metadata": {},
     "output_type": "execute_result"
    }
   ],
   "source": [
    "df.columns"
   ]
  },
  {
   "cell_type": "markdown",
   "id": "33fb37bd",
   "metadata": {},
   "source": [
    "### <span style=\"color:green\">Droping Unnecessary Columns - 'Restaurant ID' & 'Is delivering now' Permanently </span>"
   ]
  },
  {
   "cell_type": "code",
   "execution_count": 7,
   "id": "5305b610",
   "metadata": {},
   "outputs": [],
   "source": [
    "df.drop(columns=['Restaurant ID','Is delivering now'],inplace=True)"
   ]
  },
  {
   "cell_type": "code",
   "execution_count": 8,
   "id": "13d30ac9",
   "metadata": {},
   "outputs": [
    {
     "name": "stdout",
     "output_type": "stream",
     "text": [
      "<class 'pandas.core.frame.DataFrame'>\n",
      "Int64Index: 9551 entries, 0 to 9550\n",
      "Data columns (total 20 columns):\n",
      " #   Column                Non-Null Count  Dtype  \n",
      "---  ------                --------------  -----  \n",
      " 0   Country Code          9551 non-null   int64  \n",
      " 1   Country               9551 non-null   object \n",
      " 2   Restaurant Name       9551 non-null   object \n",
      " 3   City                  9551 non-null   object \n",
      " 4   Address               9551 non-null   object \n",
      " 5   Locality              9551 non-null   object \n",
      " 6   Locality Verbose      9551 non-null   object \n",
      " 7   Longitude             9551 non-null   float64\n",
      " 8   Latitude              9551 non-null   float64\n",
      " 9   Cuisines              9542 non-null   object \n",
      " 10  Average Cost for two  9551 non-null   int64  \n",
      " 11  Currency              9551 non-null   object \n",
      " 12  Has Table booking     9551 non-null   object \n",
      " 13  Has Online delivery   9551 non-null   object \n",
      " 14  Switch to order menu  9551 non-null   object \n",
      " 15  Price range           9551 non-null   int64  \n",
      " 16  Aggregate rating      9551 non-null   float64\n",
      " 17  Rating color          9551 non-null   object \n",
      " 18  Rating text           9551 non-null   object \n",
      " 19  Votes                 9551 non-null   int64  \n",
      "dtypes: float64(3), int64(4), object(13)\n",
      "memory usage: 1.5+ MB\n"
     ]
    }
   ],
   "source": [
    "df.info()"
   ]
  },
  {
   "cell_type": "code",
   "execution_count": 9,
   "id": "acf43a19",
   "metadata": {},
   "outputs": [
    {
     "data": {
      "text/plain": [
       "pandas.core.frame.DataFrame"
      ]
     },
     "execution_count": 9,
     "metadata": {},
     "output_type": "execute_result"
    }
   ],
   "source": [
    "type(df)"
   ]
  },
  {
   "cell_type": "code",
   "execution_count": 10,
   "id": "8e30de15",
   "metadata": {},
   "outputs": [
    {
     "name": "stdout",
     "output_type": "stream",
     "text": [
      "There are 9551 rows and 20 columns\n"
     ]
    }
   ],
   "source": [
    "nRow, nCol = df.shape\n",
    "print(f'There are {nRow} rows and {nCol} columns')"
   ]
  },
  {
   "cell_type": "code",
   "execution_count": 11,
   "id": "3d7baa2c",
   "metadata": {},
   "outputs": [
    {
     "name": "stdout",
     "output_type": "stream",
     "text": [
      "Categorical variables: 13\n"
     ]
    }
   ],
   "source": [
    "obj = (df.dtypes == 'object')\n",
    "print(\"Categorical variables:\",len(list(obj[obj].index)))"
   ]
  },
  {
   "cell_type": "markdown",
   "id": "3ef32552",
   "metadata": {},
   "source": [
    "### <span style=\"color:green\">Checking Null/Missing Values</span>"
   ]
  },
  {
   "cell_type": "code",
   "execution_count": 12,
   "id": "6dccb4b7",
   "metadata": {},
   "outputs": [
    {
     "data": {
      "text/plain": [
       "Country Code            0\n",
       "Country                 0\n",
       "Restaurant Name         0\n",
       "City                    0\n",
       "Address                 0\n",
       "Locality                0\n",
       "Locality Verbose        0\n",
       "Longitude               0\n",
       "Latitude                0\n",
       "Cuisines                9\n",
       "Average Cost for two    0\n",
       "Currency                0\n",
       "Has Table booking       0\n",
       "Has Online delivery     0\n",
       "Switch to order menu    0\n",
       "Price range             0\n",
       "Aggregate rating        0\n",
       "Rating color            0\n",
       "Rating text             0\n",
       "Votes                   0\n",
       "dtype: int64"
      ]
     },
     "execution_count": 12,
     "metadata": {},
     "output_type": "execute_result"
    }
   ],
   "source": [
    "df.isnull().sum()"
   ]
  },
  {
   "cell_type": "markdown",
   "id": "fe3c0496",
   "metadata": {},
   "source": [
    "### <span style=\"color:green\">Checking Unique Value Present In Different Column</span>"
   ]
  },
  {
   "cell_type": "code",
   "execution_count": 13,
   "id": "2371ab0f",
   "metadata": {},
   "outputs": [
    {
     "name": "stdout",
     "output_type": "stream",
     "text": [
      "Country : ['India' 'Australia' 'Brazil' 'Canada' 'Indonesia' 'New Zealand'\n",
      " 'Phillipines' 'Qatar' 'Singapore' 'South Africa' 'Sri Lanka' 'Turkey'\n",
      " 'UAE' 'United Kingdom' 'United States']\n",
      "India             8652\n",
      "United States      434\n",
      "United Kingdom      80\n",
      "Brazil              60\n",
      "South Africa        60\n",
      "UAE                 60\n",
      "New Zealand         40\n",
      "Turkey              34\n",
      "Australia           24\n",
      "Phillipines         22\n",
      "Indonesia           21\n",
      "Qatar               20\n",
      "Singapore           20\n",
      "Sri Lanka           20\n",
      "Canada               4\n",
      "Name: Country, dtype: int64\n",
      "-----------------------------------------------------------------------------------------------------------\n",
      "Restaurant Name : ['Jahanpanah' 'Rangrezz Restaurant' 'Time2Eat - Mama Chicken' ...\n",
      " 'Tokyo Japanese Steak House' \"Theo Yianni's Authentic Greek Restaurant\"\n",
      " \"Fishpatrick's Crabby Cafe\"]\n",
      "Cafe Coffee Day                       83\n",
      "Domino's Pizza                        79\n",
      "Subway                                63\n",
      "Green Chick Chop                      51\n",
      "McDonald's                            48\n",
      "                                      ..\n",
      "Chor Bizarre - Hotel Broadway          1\n",
      "Thugs - Hotel Broadway                 1\n",
      "The Kylin Experience - Holiday Inn     1\n",
      "Cafe on 3 - Holiday Inn                1\n",
      "Fishpatrick's Crabby Cafe              1\n",
      "Name: Restaurant Name, Length: 7446, dtype: int64\n",
      "-----------------------------------------------------------------------------------------------------------\n",
      "City : ['Agra' 'Ahmedabad' 'Allahabad' 'Amritsar' 'Aurangabad' 'Bangalore'\n",
      " 'Bhopal' 'Bhubaneshwar' 'Chandigarh' 'Chennai' 'Coimbatore' 'Dehradun'\n",
      " 'Faridabad' 'Ghaziabad' 'Goa' 'Gurgaon' 'Guwahati' 'Hyderabad' 'Indore'\n",
      " 'Jaipur' 'Kanpur' 'Kochi' 'Kolkata' 'Lucknow' 'Ludhiana' 'Mangalore'\n",
      " 'Mohali' 'Mumbai' 'Mysore' 'Nagpur' 'Nashik' 'New Delhi' 'Noida'\n",
      " 'Panchkula' 'Patna' 'Puducherry' 'Pune' 'Ranchi' 'Secunderabad' 'Surat'\n",
      " 'Vadodara' 'Varanasi' 'Vizag' 'Armidale' 'Balingup' 'Beechworth'\n",
      " 'Dicky Beach' 'East Ballina' 'Flaxton' 'Forrest' 'Hepburn Springs'\n",
      " 'Huskisson' 'Inverloch' 'Lakes Entrance' 'Lorn' 'Macedon' 'Mayfield'\n",
      " 'Middleton Beach' 'Montville' 'Palm Cove' 'Paynesville' 'Penola'\n",
      " 'Phillip Island' 'Tanunda' 'Trentham East' 'Victor Harbor' 'Brasï¿½_lia'\n",
      " 'Rio de Janeiro' 'Sï¿½ï¿½o Paulo' 'Chatham-Kent' 'Consort'\n",
      " 'Vineland Station' 'Yorkton' 'Bandung' 'Bogor' 'Jakarta' 'Tangerang'\n",
      " 'Auckland' 'Wellington City' 'Makati City' 'Mandaluyong City'\n",
      " 'Pasay City' 'Pasig City' 'Quezon City' 'San Juan City' 'Santa Rosa'\n",
      " 'Tagaytay City' 'Taguig City' 'Doha' 'Singapore' 'Cape Town' 'Inner City'\n",
      " 'Johannesburg' 'Pretoria' 'Randburg' 'Sandton' 'Colombo' 'Ankara'\n",
      " 'ï¿½ï¿½stanbul' 'Abu Dhabi' 'Dubai' 'Sharjah' 'Birmingham' 'Edinburgh'\n",
      " 'London' 'Manchester' 'Albany' 'Athens' 'Augusta' 'Boise'\n",
      " 'Cedar Rapids/Iowa City' 'Clatskanie' 'Cochrane' 'Columbus' 'Dalton'\n",
      " 'Davenport' 'Des Moines' 'Dubuque' 'Fernley' 'Gainesville' 'Lakeview'\n",
      " 'Lincoln' 'Macon' 'Mc Millan' 'Miller' 'Monroe' 'Ojo Caliente' 'Orlando'\n",
      " 'Pensacola' 'Pocatello' 'Potrero' 'Princeton' 'Rest of Hawaii' 'Savannah'\n",
      " 'Sioux City' 'Tampa Bay' 'Valdosta' 'Vernonia' 'Waterloo' 'Weirton'\n",
      " 'Winchester Bay']\n",
      "New Delhi           5473\n",
      "Gurgaon             1118\n",
      "Noida               1080\n",
      "Faridabad            251\n",
      "Ghaziabad             25\n",
      "                    ... \n",
      "Vineland Station       1\n",
      "Yorkton                1\n",
      "Bandung                1\n",
      "Quezon City            1\n",
      "Winchester Bay         1\n",
      "Name: City, Length: 141, dtype: int64\n",
      "-----------------------------------------------------------------------------------------------------------\n",
      "Address : ['E 23, Shopping Arcade, Sadar Bazaar, Agra Cantt, Agra'\n",
      " 'E-20, Shopping Arcade, Sadar Bazaar, Agra Cantt, Agra'\n",
      " 'Main Market, Sadar Bazaar, Agra Cantt, Agra' ...\n",
      " '1931 Sears Street, Waterloo, IA 50702'\n",
      " '322 American Way, Weirton, WV 26062'\n",
      " '196 Bayfront Loop, Winchester Bay, OR 97467']\n",
      "Sector 41, Noida                                                                      11\n",
      "Dilli Haat, INA, New Delhi                                                            11\n",
      "Greater Kailash (GK) 1, New Delhi                                                     10\n",
      "The Imperial, Janpath, New Delhi                                                       9\n",
      "The Lalit, Barakhamba Avenue, Barakhamba Road, New Delhi                               8\n",
      "                                                                                      ..\n",
      "G-4, Local Shopping Complex, Gujranwala Town, New Delhi                                1\n",
      "State Bank Colony, Near Nanak Piau Gurudwara, GTK Road, Gujranwala Town, New Delhi     1\n",
      "Shop 6 & 7, DDA Market, Near Pentamed Hospital, Gujranwala Town, New Delhi             1\n",
      "A-199, Gujranwala Town, New Delhi                                                      1\n",
      "196 Bayfront Loop, Winchester Bay, OR 97467                                            1\n",
      "Name: Address, Length: 8918, dtype: int64\n",
      "-----------------------------------------------------------------------------------------------------------\n",
      "Locality : ['Agra Cantt' 'Civil Lines' 'Courtyard by Marriott Agra, Tajganj' ...\n",
      " 'Waterloo' 'Weirton' 'Winchester Bay']\n",
      "Connaught Place    122\n",
      "Rajouri Garden      99\n",
      "Shahdara            87\n",
      "Defence Colony      86\n",
      "Pitampura           85\n",
      "                  ... \n",
      "Waltair Uplands      1\n",
      "Armidale             1\n",
      "Balingup             1\n",
      "Beechworth           1\n",
      "Winchester Bay       1\n",
      "Name: Locality, Length: 1208, dtype: int64\n",
      "-----------------------------------------------------------------------------------------------------------\n",
      "Locality Verbose : ['Agra Cantt, Agra' 'Civil Lines, Agra'\n",
      " 'Courtyard by Marriott Agra, Tajganj, Agra' ... 'Waterloo, Waterloo'\n",
      " 'Weirton, Weirton' 'Winchester Bay, Winchester Bay']\n",
      "Connaught Place, New Delhi             122\n",
      "Rajouri Garden, New Delhi               99\n",
      "Shahdara, New Delhi                     87\n",
      "Defence Colony, New Delhi               86\n",
      "Pitampura, New Delhi                    85\n",
      "                                      ... \n",
      "Hotel Maurya, Lodipur, Patna             1\n",
      "Maurya Lok, Fraser Road Area, Patna      1\n",
      "Patliputra Colony, Patna                 1\n",
      "Heritage Town, Puducherry                1\n",
      "Winchester Bay, Winchester Bay           1\n",
      "Name: Locality Verbose, Length: 1265, dtype: int64\n",
      "-----------------------------------------------------------------------------------------------------------\n",
      "Cuisines : ['North Indian, Mughlai' 'North Indian' 'Rajasthani' ...\n",
      " 'Coffee and Tea, Desserts, Beverages' 'Sandwich, Sushi, Tapas'\n",
      " 'Burger, Greek, Sandwich']\n",
      "North Indian                                 936\n",
      "North Indian, Chinese                        511\n",
      "Fast Food                                    354\n",
      "Chinese                                      354\n",
      "North Indian, Mughlai                        334\n",
      "                                            ... \n",
      "Cafe, Mexican, Continental                     1\n",
      "North Indian, Continental, Asian, Italian      1\n",
      "Continental, Cafe                              1\n",
      "North Indian, Biryani, Mughlai                 1\n",
      "Burger, Greek, Sandwich                        1\n",
      "Name: Cuisines, Length: 1825, dtype: int64\n",
      "-----------------------------------------------------------------------------------------------------------\n",
      "Currency : ['Indian Rupees(Rs.)' 'Dollar($)' 'Brazilian Real(R$)'\n",
      " 'Indonesian Rupiah(IDR)' 'NewZealand($)' 'Botswana Pula(P)'\n",
      " 'Qatari Rial(QR)' 'Rand(R)' 'Sri Lankan Rupee(LKR)' 'Turkish Lira(TL)'\n",
      " 'Emirati Diram(AED)' 'Pounds(ï¿½ï¿½)']\n",
      "Indian Rupees(Rs.)        8652\n",
      "Dollar($)                  482\n",
      "Pounds(ï¿½ï¿½)              80\n",
      "Brazilian Real(R$)          60\n",
      "Rand(R)                     60\n",
      "Emirati Diram(AED)          60\n",
      "NewZealand($)               40\n",
      "Turkish Lira(TL)            34\n",
      "Botswana Pula(P)            22\n",
      "Indonesian Rupiah(IDR)      21\n",
      "Qatari Rial(QR)             20\n",
      "Sri Lankan Rupee(LKR)       20\n",
      "Name: Currency, dtype: int64\n",
      "-----------------------------------------------------------------------------------------------------------\n",
      "Has Table booking : ['No' 'Yes']\n",
      "No     8393\n",
      "Yes    1158\n",
      "Name: Has Table booking, dtype: int64\n",
      "-----------------------------------------------------------------------------------------------------------\n",
      "Has Online delivery : ['No' 'Yes']\n",
      "No     7100\n",
      "Yes    2451\n",
      "Name: Has Online delivery, dtype: int64\n",
      "-----------------------------------------------------------------------------------------------------------\n",
      "Switch to order menu : ['No']\n",
      "No    9551\n"
     ]
    },
    {
     "name": "stdout",
     "output_type": "stream",
     "text": [
      "Name: Switch to order menu, dtype: int64\n",
      "-----------------------------------------------------------------------------------------------------------\n",
      "Rating color : ['Yellow' 'Green' 'Orange' 'Dark Green' 'White' 'Red']\n",
      "Orange        3737\n",
      "White         2148\n",
      "Yellow        2100\n",
      "Green         1079\n",
      "Dark Green     301\n",
      "Red            186\n",
      "Name: Rating color, dtype: int64\n",
      "-----------------------------------------------------------------------------------------------------------\n",
      "Rating text : ['Good' 'Very Good' 'Average' 'Excellent' 'Not rated' 'Poor']\n",
      "Average      3737\n",
      "Not rated    2148\n",
      "Good         2100\n",
      "Very Good    1079\n",
      "Excellent     301\n",
      "Poor          186\n",
      "Name: Rating text, dtype: int64\n",
      "-----------------------------------------------------------------------------------------------------------\n"
     ]
    }
   ],
   "source": [
    "for column in df.columns:\n",
    "    if df[column].dtype == object:\n",
    "        print(str(column) + ' : ' + str(df[column].unique()))\n",
    "        print(df[column].value_counts())\n",
    "        print(\"-----------------------------------------------------------------------------------------------------------\")"
   ]
  },
  {
   "cell_type": "code",
   "execution_count": 14,
   "id": "1bd08538",
   "metadata": {},
   "outputs": [
    {
     "data": {
      "text/plain": [
       "15"
      ]
     },
     "execution_count": 14,
     "metadata": {},
     "output_type": "execute_result"
    }
   ],
   "source": [
    "df['Country Code'].nunique()"
   ]
  },
  {
   "cell_type": "code",
   "execution_count": 15,
   "id": "25c74e00",
   "metadata": {},
   "outputs": [
    {
     "name": "stdout",
     "output_type": "stream",
     "text": [
      "1      8652\n",
      "216     434\n",
      "215      80\n",
      "30       60\n",
      "189      60\n",
      "214      60\n",
      "148      40\n",
      "208      34\n",
      "14       24\n",
      "162      22\n",
      "94       21\n",
      "166      20\n",
      "184      20\n",
      "191      20\n",
      "37        4\n",
      "Name: Country Code, dtype: int64\n"
     ]
    }
   ],
   "source": [
    "print(df['Country Code'].value_counts())"
   ]
  },
  {
   "cell_type": "code",
   "execution_count": 16,
   "id": "a9a0a092",
   "metadata": {},
   "outputs": [
    {
     "name": "stdout",
     "output_type": "stream",
     "text": [
      "India             8652\n",
      "United States      434\n",
      "United Kingdom      80\n",
      "Brazil              60\n",
      "South Africa        60\n",
      "UAE                 60\n",
      "New Zealand         40\n",
      "Turkey              34\n",
      "Australia           24\n",
      "Phillipines         22\n",
      "Indonesia           21\n",
      "Qatar               20\n",
      "Singapore           20\n",
      "Sri Lanka           20\n",
      "Canada               4\n",
      "Name: Country, dtype: int64\n"
     ]
    }
   ],
   "source": [
    "print(df['Country'].value_counts())"
   ]
  },
  {
   "cell_type": "markdown",
   "id": "887a8cd5",
   "metadata": {},
   "source": [
    "#### <span style=\"color:blue\">Observation:-</span>\n",
    "\n",
    "Here,\n",
    "\n",
    "- We will remove the informations which are not related to India. "
   ]
  },
  {
   "cell_type": "code",
   "execution_count": 17,
   "id": "a0bc6ad1",
   "metadata": {},
   "outputs": [],
   "source": [
    "mask=df['Country Code'] == 1 # India's country code is 1\n",
    "\n",
    "df=df[mask]"
   ]
  },
  {
   "cell_type": "code",
   "execution_count": 18,
   "id": "f15bc778",
   "metadata": {},
   "outputs": [
    {
     "data": {
      "text/plain": [
       "(8652, 20)"
      ]
     },
     "execution_count": 18,
     "metadata": {},
     "output_type": "execute_result"
    }
   ],
   "source": [
    "df.shape"
   ]
  },
  {
   "cell_type": "markdown",
   "id": "65cc6715",
   "metadata": {},
   "source": [
    "### <span style=\"color:green\">Droping Unnecessary Columns - 'Country Code' & 'Currency' Permanently Because It Not Required Ahead </span>"
   ]
  },
  {
   "cell_type": "code",
   "execution_count": 19,
   "id": "308517be",
   "metadata": {},
   "outputs": [
    {
     "name": "stderr",
     "output_type": "stream",
     "text": [
      "C:\\Users\\Visual singh\\AppData\\Local\\Temp\\ipykernel_14316\\1651979857.py:1: SettingWithCopyWarning: \n",
      "A value is trying to be set on a copy of a slice from a DataFrame\n",
      "\n",
      "See the caveats in the documentation: https://pandas.pydata.org/pandas-docs/stable/user_guide/indexing.html#returning-a-view-versus-a-copy\n",
      "  df.drop(columns=['Country Code','Country','Currency'],inplace=True)\n"
     ]
    }
   ],
   "source": [
    "df.drop(columns=['Country Code','Country','Currency'],inplace=True)"
   ]
  },
  {
   "cell_type": "code",
   "execution_count": 20,
   "id": "9e008071",
   "metadata": {},
   "outputs": [
    {
     "data": {
      "text/plain": [
       "Index(['Restaurant Name', 'City', 'Address', 'Locality', 'Locality Verbose',\n",
       "       'Longitude', 'Latitude', 'Cuisines', 'Average Cost for two',\n",
       "       'Has Table booking', 'Has Online delivery', 'Switch to order menu',\n",
       "       'Price range', 'Aggregate rating', 'Rating color', 'Rating text',\n",
       "       'Votes'],\n",
       "      dtype='object')"
      ]
     },
     "execution_count": 20,
     "metadata": {},
     "output_type": "execute_result"
    }
   ],
   "source": [
    "df.columns"
   ]
  },
  {
   "cell_type": "markdown",
   "id": "05dec287",
   "metadata": {},
   "source": [
    "### <span style=\"color:green\">Checking Distribution Of Data In Different Cities</span>"
   ]
  },
  {
   "cell_type": "code",
   "execution_count": 21,
   "id": "bc83b061",
   "metadata": {},
   "outputs": [
    {
     "data": {
      "text/plain": [
       "43"
      ]
     },
     "execution_count": 21,
     "metadata": {},
     "output_type": "execute_result"
    }
   ],
   "source": [
    "df['City'].nunique()"
   ]
  },
  {
   "cell_type": "code",
   "execution_count": 22,
   "id": "298c9be4",
   "metadata": {},
   "outputs": [
    {
     "name": "stdout",
     "output_type": "stream",
     "text": [
      "New Delhi       5473\n",
      "Gurgaon         1118\n",
      "Noida           1080\n",
      "Faridabad        251\n",
      "Ghaziabad         25\n",
      "Ahmedabad         21\n",
      "Guwahati          21\n",
      "Lucknow           21\n",
      "Bhubaneshwar      21\n",
      "Amritsar          21\n",
      "Pune              20\n",
      "Puducherry        20\n",
      "Patna             20\n",
      "Ludhiana          20\n",
      "Ranchi            20\n",
      "Surat             20\n",
      "Vadodara          20\n",
      "Nashik            20\n",
      "Nagpur            20\n",
      "Mysore            20\n",
      "Mumbai            20\n",
      "Varanasi          20\n",
      "Mangalore         20\n",
      "Agra              20\n",
      "Kochi             20\n",
      "Kolkata           20\n",
      "Dehradun          20\n",
      "Allahabad         20\n",
      "Aurangabad        20\n",
      "Bangalore         20\n",
      "Bhopal            20\n",
      "Chennai           20\n",
      "Coimbatore        20\n",
      "Goa               20\n",
      "Indore            20\n",
      "Jaipur            20\n",
      "Kanpur            20\n",
      "Vizag             20\n",
      "Chandigarh        18\n",
      "Hyderabad         18\n",
      "Secunderabad       2\n",
      "Panchkula          1\n",
      "Mohali             1\n",
      "Name: City, dtype: int64\n"
     ]
    }
   ],
   "source": [
    "print(df['City'].value_counts())"
   ]
  },
  {
   "cell_type": "markdown",
   "id": "8fb3a204",
   "metadata": {},
   "source": [
    "#### <span style=\"color:blue\">Observation:-</span>\n",
    "\n",
    "Here,\n",
    "\n",
    "- We will remove the informations which less in number. "
   ]
  },
  {
   "cell_type": "code",
   "execution_count": 23,
   "id": "84fe767b",
   "metadata": {},
   "outputs": [],
   "source": [
    "mask=df['City'].isin(['New Delhi','Gurgaon','Noida','Faridabad'])\n",
    "df=df[mask]"
   ]
  },
  {
   "cell_type": "code",
   "execution_count": 24,
   "id": "2ac4a04d",
   "metadata": {},
   "outputs": [
    {
     "data": {
      "text/plain": [
       "(7922, 17)"
      ]
     },
     "execution_count": 24,
     "metadata": {},
     "output_type": "execute_result"
    }
   ],
   "source": [
    "df.shape"
   ]
  },
  {
   "cell_type": "code",
   "execution_count": 25,
   "id": "6bcde0cb",
   "metadata": {},
   "outputs": [
    {
     "data": {
      "text/plain": [
       "Index(['Restaurant Name', 'City', 'Address', 'Locality', 'Locality Verbose',\n",
       "       'Longitude', 'Latitude', 'Cuisines', 'Average Cost for two',\n",
       "       'Has Table booking', 'Has Online delivery', 'Switch to order menu',\n",
       "       'Price range', 'Aggregate rating', 'Rating color', 'Rating text',\n",
       "       'Votes'],\n",
       "      dtype='object')"
      ]
     },
     "execution_count": 25,
     "metadata": {},
     "output_type": "execute_result"
    }
   ],
   "source": [
    "df.columns"
   ]
  },
  {
   "cell_type": "markdown",
   "id": "1554c459",
   "metadata": {},
   "source": [
    "### <span style=\"color:green\">Checking Distribution Of Data In 'Restaurant Name' Column</span>"
   ]
  },
  {
   "cell_type": "code",
   "execution_count": 26,
   "id": "53894c96",
   "metadata": {},
   "outputs": [
    {
     "data": {
      "text/plain": [
       "6016"
      ]
     },
     "execution_count": 26,
     "metadata": {},
     "output_type": "execute_result"
    }
   ],
   "source": [
    "df['Restaurant Name'].nunique()"
   ]
  },
  {
   "cell_type": "code",
   "execution_count": 27,
   "id": "0a32daa0",
   "metadata": {},
   "outputs": [
    {
     "name": "stdout",
     "output_type": "stream",
     "text": [
      "Cafe Coffee Day     82\n",
      "Domino's Pizza      76\n",
      "Subway              62\n",
      "Green Chick Chop    51\n",
      "McDonald's          45\n",
      "                    ..\n",
      "Cravity              1\n",
      "Zaika Kathi Roll     1\n",
      "Shi Cafe             1\n",
      "Sher -E- Punjab      1\n",
      "The Grand            1\n",
      "Name: Restaurant Name, Length: 6016, dtype: int64\n"
     ]
    }
   ],
   "source": [
    "print(df['Restaurant Name'].value_counts())"
   ]
  },
  {
   "cell_type": "markdown",
   "id": "e9e048e7",
   "metadata": {},
   "source": [
    "### <span style=\"color:green\">Droping Unnecessary Columns - 'Restaurant Name','Address','Locality','Locality Verbose','Rating color' & 'Rating text' Permanently Because It Not Required Ahead </span>"
   ]
  },
  {
   "cell_type": "code",
   "execution_count": 28,
   "id": "9010b4ba",
   "metadata": {},
   "outputs": [],
   "source": [
    "df.drop(columns=['Restaurant Name','Address','Locality','Locality Verbose','Rating color','Rating text'],inplace=True)"
   ]
  },
  {
   "cell_type": "code",
   "execution_count": 29,
   "id": "b6d3cf0a",
   "metadata": {},
   "outputs": [
    {
     "data": {
      "text/plain": [
       "Index(['City', 'Longitude', 'Latitude', 'Cuisines', 'Average Cost for two',\n",
       "       'Has Table booking', 'Has Online delivery', 'Switch to order menu',\n",
       "       'Price range', 'Aggregate rating', 'Votes'],\n",
       "      dtype='object')"
      ]
     },
     "execution_count": 29,
     "metadata": {},
     "output_type": "execute_result"
    }
   ],
   "source": [
    "df.columns"
   ]
  },
  {
   "cell_type": "markdown",
   "id": "32235c72",
   "metadata": {},
   "source": [
    "### <span style=\"color:green\">Checking Distribution Of Data In 'Has Table booking' Column</span>"
   ]
  },
  {
   "cell_type": "code",
   "execution_count": 30,
   "id": "1d3a8250",
   "metadata": {},
   "outputs": [
    {
     "data": {
      "text/plain": [
       "2"
      ]
     },
     "execution_count": 30,
     "metadata": {},
     "output_type": "execute_result"
    }
   ],
   "source": [
    "df['Has Table booking'].nunique()"
   ]
  },
  {
   "cell_type": "code",
   "execution_count": 31,
   "id": "ad14d65d",
   "metadata": {},
   "outputs": [
    {
     "name": "stdout",
     "output_type": "stream",
     "text": [
      "No     6876\n",
      "Yes    1046\n",
      "Name: Has Table booking, dtype: int64\n"
     ]
    }
   ],
   "source": [
    "print(df['Has Table booking'].value_counts())"
   ]
  },
  {
   "cell_type": "markdown",
   "id": "49d201be",
   "metadata": {},
   "source": [
    "#### <span style=\"color:red\">Level Encoding:-</span>"
   ]
  },
  {
   "cell_type": "code",
   "execution_count": 32,
   "id": "99ba28c1",
   "metadata": {},
   "outputs": [],
   "source": [
    "df= df.replace({\"Has Table booking\":{\"No\":0, \"Yes\":1 }})"
   ]
  },
  {
   "cell_type": "markdown",
   "id": "4a3bdf0f",
   "metadata": {},
   "source": [
    "### <span style=\"color:green\">Checking Distribution Of Data In 'Has Online delivery' Column</span>"
   ]
  },
  {
   "cell_type": "code",
   "execution_count": 33,
   "id": "b7376bb8",
   "metadata": {},
   "outputs": [
    {
     "data": {
      "text/plain": [
       "2"
      ]
     },
     "execution_count": 33,
     "metadata": {},
     "output_type": "execute_result"
    }
   ],
   "source": [
    "df['Has Online delivery'].nunique()"
   ]
  },
  {
   "cell_type": "code",
   "execution_count": 34,
   "id": "2c542b2d",
   "metadata": {},
   "outputs": [
    {
     "name": "stdout",
     "output_type": "stream",
     "text": [
      "No     5609\n",
      "Yes    2313\n",
      "Name: Has Online delivery, dtype: int64\n"
     ]
    }
   ],
   "source": [
    "print(df['Has Online delivery'].value_counts())"
   ]
  },
  {
   "cell_type": "markdown",
   "id": "af022ac9",
   "metadata": {},
   "source": [
    "#### <span style=\"color:red\">Level Encoding:-</span>"
   ]
  },
  {
   "cell_type": "code",
   "execution_count": 35,
   "id": "6c877c2b",
   "metadata": {},
   "outputs": [],
   "source": [
    "df= df.replace({\"Has Online delivery\":{\"No\":0, \"Yes\":1 }})"
   ]
  },
  {
   "cell_type": "markdown",
   "id": "6fb8942b",
   "metadata": {},
   "source": [
    "### <span style=\"color:green\">Checking Distribution Of Data In 'Switch to order menu' Column</span>"
   ]
  },
  {
   "cell_type": "code",
   "execution_count": 36,
   "id": "2c6bbd91",
   "metadata": {},
   "outputs": [
    {
     "data": {
      "text/plain": [
       "1"
      ]
     },
     "execution_count": 36,
     "metadata": {},
     "output_type": "execute_result"
    }
   ],
   "source": [
    "df['Switch to order menu'].nunique()"
   ]
  },
  {
   "cell_type": "code",
   "execution_count": 37,
   "id": "ab7bcb12",
   "metadata": {},
   "outputs": [
    {
     "name": "stdout",
     "output_type": "stream",
     "text": [
      "No    7922\n",
      "Name: Switch to order menu, dtype: int64\n"
     ]
    }
   ],
   "source": [
    "print(df['Switch to order menu'].value_counts())"
   ]
  },
  {
   "cell_type": "markdown",
   "id": "079483c3",
   "metadata": {},
   "source": [
    "#### <span style=\"color:red\">Droping This Column:-</span>"
   ]
  },
  {
   "cell_type": "code",
   "execution_count": 38,
   "id": "f6136025",
   "metadata": {},
   "outputs": [],
   "source": [
    "df.drop(columns=['Switch to order menu'],inplace=True)"
   ]
  },
  {
   "cell_type": "code",
   "execution_count": 39,
   "id": "3f6f99d2",
   "metadata": {},
   "outputs": [
    {
     "data": {
      "text/plain": [
       "Index(['City', 'Longitude', 'Latitude', 'Cuisines', 'Average Cost for two',\n",
       "       'Has Table booking', 'Has Online delivery', 'Price range',\n",
       "       'Aggregate rating', 'Votes'],\n",
       "      dtype='object')"
      ]
     },
     "execution_count": 39,
     "metadata": {},
     "output_type": "execute_result"
    }
   ],
   "source": [
    "df.columns"
   ]
  },
  {
   "cell_type": "code",
   "execution_count": 40,
   "id": "59291f44",
   "metadata": {},
   "outputs": [
    {
     "data": {
      "text/plain": [
       "(7922, 10)"
      ]
     },
     "execution_count": 40,
     "metadata": {},
     "output_type": "execute_result"
    }
   ],
   "source": [
    "df.shape"
   ]
  },
  {
   "cell_type": "markdown",
   "id": "0a81ed0a",
   "metadata": {},
   "source": [
    "### <span style=\"color:green\">Checking Correlation</span>"
   ]
  },
  {
   "cell_type": "code",
   "execution_count": 41,
   "id": "e1e3bea4",
   "metadata": {},
   "outputs": [
    {
     "data": {
      "text/html": [
       "<div>\n",
       "<style scoped>\n",
       "    .dataframe tbody tr th:only-of-type {\n",
       "        vertical-align: middle;\n",
       "    }\n",
       "\n",
       "    .dataframe tbody tr th {\n",
       "        vertical-align: top;\n",
       "    }\n",
       "\n",
       "    .dataframe thead th {\n",
       "        text-align: right;\n",
       "    }\n",
       "</style>\n",
       "<table border=\"1\" class=\"dataframe\">\n",
       "  <thead>\n",
       "    <tr style=\"text-align: right;\">\n",
       "      <th></th>\n",
       "      <th>Longitude</th>\n",
       "      <th>Latitude</th>\n",
       "      <th>Average Cost for two</th>\n",
       "      <th>Has Table booking</th>\n",
       "      <th>Has Online delivery</th>\n",
       "      <th>Price range</th>\n",
       "      <th>Aggregate rating</th>\n",
       "      <th>Votes</th>\n",
       "    </tr>\n",
       "  </thead>\n",
       "  <tbody>\n",
       "    <tr>\n",
       "      <th>Longitude</th>\n",
       "      <td>1.000000</td>\n",
       "      <td>0.997829</td>\n",
       "      <td>0.071752</td>\n",
       "      <td>0.059417</td>\n",
       "      <td>0.138671</td>\n",
       "      <td>0.083845</td>\n",
       "      <td>0.224523</td>\n",
       "      <td>0.071641</td>\n",
       "    </tr>\n",
       "    <tr>\n",
       "      <th>Latitude</th>\n",
       "      <td>0.997829</td>\n",
       "      <td>1.000000</td>\n",
       "      <td>0.070993</td>\n",
       "      <td>0.059974</td>\n",
       "      <td>0.138488</td>\n",
       "      <td>0.083131</td>\n",
       "      <td>0.224383</td>\n",
       "      <td>0.071598</td>\n",
       "    </tr>\n",
       "    <tr>\n",
       "      <th>Average Cost for two</th>\n",
       "      <td>0.071752</td>\n",
       "      <td>0.070993</td>\n",
       "      <td>1.000000</td>\n",
       "      <td>0.642966</td>\n",
       "      <td>0.076953</td>\n",
       "      <td>0.847985</td>\n",
       "      <td>0.328440</td>\n",
       "      <td>0.299089</td>\n",
       "    </tr>\n",
       "    <tr>\n",
       "      <th>Has Table booking</th>\n",
       "      <td>0.059417</td>\n",
       "      <td>0.059974</td>\n",
       "      <td>0.642966</td>\n",
       "      <td>1.000000</td>\n",
       "      <td>0.074300</td>\n",
       "      <td>0.658627</td>\n",
       "      <td>0.248363</td>\n",
       "      <td>0.223811</td>\n",
       "    </tr>\n",
       "    <tr>\n",
       "      <th>Has Online delivery</th>\n",
       "      <td>0.138671</td>\n",
       "      <td>0.138488</td>\n",
       "      <td>0.076953</td>\n",
       "      <td>0.074300</td>\n",
       "      <td>1.000000</td>\n",
       "      <td>0.188798</td>\n",
       "      <td>0.341197</td>\n",
       "      <td>0.123734</td>\n",
       "    </tr>\n",
       "    <tr>\n",
       "      <th>Price range</th>\n",
       "      <td>0.083845</td>\n",
       "      <td>0.083131</td>\n",
       "      <td>0.847985</td>\n",
       "      <td>0.658627</td>\n",
       "      <td>0.188798</td>\n",
       "      <td>1.000000</td>\n",
       "      <td>0.370212</td>\n",
       "      <td>0.325602</td>\n",
       "    </tr>\n",
       "    <tr>\n",
       "      <th>Aggregate rating</th>\n",
       "      <td>0.224523</td>\n",
       "      <td>0.224383</td>\n",
       "      <td>0.328440</td>\n",
       "      <td>0.248363</td>\n",
       "      <td>0.341197</td>\n",
       "      <td>0.370212</td>\n",
       "      <td>1.000000</td>\n",
       "      <td>0.291076</td>\n",
       "    </tr>\n",
       "    <tr>\n",
       "      <th>Votes</th>\n",
       "      <td>0.071641</td>\n",
       "      <td>0.071598</td>\n",
       "      <td>0.299089</td>\n",
       "      <td>0.223811</td>\n",
       "      <td>0.123734</td>\n",
       "      <td>0.325602</td>\n",
       "      <td>0.291076</td>\n",
       "      <td>1.000000</td>\n",
       "    </tr>\n",
       "  </tbody>\n",
       "</table>\n",
       "</div>"
      ],
      "text/plain": [
       "                      Longitude  Latitude  Average Cost for two  \\\n",
       "Longitude              1.000000  0.997829              0.071752   \n",
       "Latitude               0.997829  1.000000              0.070993   \n",
       "Average Cost for two   0.071752  0.070993              1.000000   \n",
       "Has Table booking      0.059417  0.059974              0.642966   \n",
       "Has Online delivery    0.138671  0.138488              0.076953   \n",
       "Price range            0.083845  0.083131              0.847985   \n",
       "Aggregate rating       0.224523  0.224383              0.328440   \n",
       "Votes                  0.071641  0.071598              0.299089   \n",
       "\n",
       "                      Has Table booking  Has Online delivery  Price range  \\\n",
       "Longitude                      0.059417             0.138671     0.083845   \n",
       "Latitude                       0.059974             0.138488     0.083131   \n",
       "Average Cost for two           0.642966             0.076953     0.847985   \n",
       "Has Table booking              1.000000             0.074300     0.658627   \n",
       "Has Online delivery            0.074300             1.000000     0.188798   \n",
       "Price range                    0.658627             0.188798     1.000000   \n",
       "Aggregate rating               0.248363             0.341197     0.370212   \n",
       "Votes                          0.223811             0.123734     0.325602   \n",
       "\n",
       "                      Aggregate rating     Votes  \n",
       "Longitude                     0.224523  0.071641  \n",
       "Latitude                      0.224383  0.071598  \n",
       "Average Cost for two          0.328440  0.299089  \n",
       "Has Table booking             0.248363  0.223811  \n",
       "Has Online delivery           0.341197  0.123734  \n",
       "Price range                   0.370212  0.325602  \n",
       "Aggregate rating              1.000000  0.291076  \n",
       "Votes                         0.291076  1.000000  "
      ]
     },
     "execution_count": 41,
     "metadata": {},
     "output_type": "execute_result"
    }
   ],
   "source": [
    "df.corr()"
   ]
  },
  {
   "cell_type": "markdown",
   "id": "c4e86a8f",
   "metadata": {},
   "source": [
    "### <span style=\"color:red\">Checking Correlation with Average Cost for two</span>"
   ]
  },
  {
   "cell_type": "code",
   "execution_count": 42,
   "id": "669b2030",
   "metadata": {},
   "outputs": [
    {
     "data": {
      "text/plain": [
       "Longitude               0.071752\n",
       "Latitude                0.070993\n",
       "Average Cost for two    1.000000\n",
       "Has Table booking       0.642966\n",
       "Has Online delivery     0.076953\n",
       "Price range             0.847985\n",
       "Aggregate rating        0.328440\n",
       "Votes                   0.299089\n",
       "Name: Average Cost for two, dtype: float64"
      ]
     },
     "execution_count": 42,
     "metadata": {},
     "output_type": "execute_result"
    }
   ],
   "source": [
    "df.corr()['Average Cost for two']\n"
   ]
  },
  {
   "cell_type": "markdown",
   "id": "8372cd94",
   "metadata": {},
   "source": [
    "#### <span style=\"color:blue\">Observation:-</span>\n",
    "\n",
    "Here,\n",
    "\n",
    "- Has Online delivery, Longitude & Latitude column is having very less impact."
   ]
  },
  {
   "cell_type": "markdown",
   "id": "72db27d2",
   "metadata": {},
   "source": [
    "### <span style=\"color:green\">Droping Unnecessary Columns - 'Has Online delivery','Longitude' & 'Latitude' Permanently Because It Not Required Ahead </span>"
   ]
  },
  {
   "cell_type": "code",
   "execution_count": 43,
   "id": "8d80f8ef",
   "metadata": {},
   "outputs": [],
   "source": [
    "df.drop(columns=['Has Online delivery','Longitude','Latitude'],inplace=True)"
   ]
  },
  {
   "cell_type": "code",
   "execution_count": 44,
   "id": "ec108195",
   "metadata": {},
   "outputs": [
    {
     "data": {
      "text/plain": [
       "Index(['City', 'Cuisines', 'Average Cost for two', 'Has Table booking',\n",
       "       'Price range', 'Aggregate rating', 'Votes'],\n",
       "      dtype='object')"
      ]
     },
     "execution_count": 44,
     "metadata": {},
     "output_type": "execute_result"
    }
   ],
   "source": [
    "df.columns"
   ]
  },
  {
   "cell_type": "markdown",
   "id": "f602bda3",
   "metadata": {},
   "source": [
    "### <span style=\"color:green\">Checking Distribution Of Data In 'Cuisines' Column</span>"
   ]
  },
  {
   "cell_type": "code",
   "execution_count": 45,
   "id": "bb8e35d0",
   "metadata": {},
   "outputs": [
    {
     "data": {
      "text/plain": [
       "1156"
      ]
     },
     "execution_count": 45,
     "metadata": {},
     "output_type": "execute_result"
    }
   ],
   "source": [
    "df['Cuisines'].nunique()"
   ]
  },
  {
   "cell_type": "code",
   "execution_count": 46,
   "id": "232b1fec",
   "metadata": {},
   "outputs": [
    {
     "name": "stdout",
     "output_type": "stream",
     "text": [
      "North Indian                                      901\n",
      "North Indian, Chinese                             474\n",
      "Fast Food                                         330\n",
      "Chinese                                           323\n",
      "North Indian, Mughlai                             313\n",
      "                                                 ... \n",
      "North Indian, Indian                                1\n",
      "Afghani, Mughlai, Chinese                           1\n",
      "Awadhi, Mughlai, North Indian                       1\n",
      "Chinese, Lucknowi                                   1\n",
      "Chinese, North Indian, South Indian, Fast Food      1\n",
      "Name: Cuisines, Length: 1156, dtype: int64\n"
     ]
    }
   ],
   "source": [
    "print(df['Cuisines'].value_counts())"
   ]
  },
  {
   "cell_type": "markdown",
   "id": "a5b46bf0",
   "metadata": {},
   "source": [
    "#### <span style=\"color:red\">Relacing The Textual Information of This Column With Its Mean:-</span>"
   ]
  },
  {
   "cell_type": "code",
   "execution_count": 47,
   "id": "d1f4f1f1",
   "metadata": {},
   "outputs": [
    {
     "data": {
      "text/plain": [
       "Cuisines\n",
       "Afghani                                       512.500000\n",
       "Afghani, Mughlai, Chinese                     500.000000\n",
       "Afghani, North Indian                         900.000000\n",
       "Afghani, North Indian, Pakistani, Arabian     500.000000\n",
       "American                                      666.666667\n",
       "                                                ...     \n",
       "Tibetan, Street Food                          100.000000\n",
       "Turkish                                       600.000000\n",
       "Turkish, Arabian, Moroccan, Lebanese          400.000000\n",
       "Turkish, Mediterranean, Middle Eastern       2000.000000\n",
       "Vietnamese                                   1000.000000\n",
       "Name: Average Cost for two, Length: 1156, dtype: float64"
      ]
     },
     "execution_count": 47,
     "metadata": {},
     "output_type": "execute_result"
    }
   ],
   "source": [
    "df.groupby('Cuisines')['Average Cost for two'].mean()"
   ]
  },
  {
   "cell_type": "code",
   "execution_count": 48,
   "id": "c14430ff",
   "metadata": {},
   "outputs": [
    {
     "data": {
      "text/plain": [
       "Cuisines\n",
       "Asian, Japanese, Korean, Thai, Chinese             7000.0\n",
       "Malaysian, Thai, Kerala, Vietnamese, Sri Lankan    6000.0\n",
       "North Indian, Chinese, South Indian, Italian       6000.0\n",
       "Mediterranean, European                            5000.0\n",
       "Seafood, Italian                                   5000.0\n",
       "                                                    ...  \n",
       "Mithai, South Indian, Chinese, Street Food          100.0\n",
       "Bakery, Pizza                                       100.0\n",
       "Tibetan, Street Food                                100.0\n",
       "North Indian, Beverages                             100.0\n",
       "Beverages, Street Food                               50.0\n",
       "Name: Average Cost for two, Length: 1156, dtype: float64"
      ]
     },
     "execution_count": 48,
     "metadata": {},
     "output_type": "execute_result"
    }
   ],
   "source": [
    "df.groupby('Cuisines')['Average Cost for two'].mean().sort_values(ascending=False)"
   ]
  },
  {
   "cell_type": "markdown",
   "id": "a6a9598a",
   "metadata": {},
   "source": [
    "#### <span style=\"color:red\">Relacing The Textual Information of This Column With Its Mean In The Main Dataset:-</span>"
   ]
  },
  {
   "cell_type": "code",
   "execution_count": 49,
   "id": "263738af",
   "metadata": {},
   "outputs": [],
   "source": [
    "cuisine=df.groupby('Cuisines')['Average Cost for two'].mean().reset_index()"
   ]
  },
  {
   "cell_type": "markdown",
   "id": "f1df4261",
   "metadata": {},
   "source": [
    "#### <span style=\"color:red\">Merging cuisine dataframe with the Main Dataset:-</span>"
   ]
  },
  {
   "cell_type": "code",
   "execution_count": 50,
   "id": "d9dd9925",
   "metadata": {},
   "outputs": [],
   "source": [
    "new=df.merge(cuisine, on='Cuisines')"
   ]
  },
  {
   "cell_type": "markdown",
   "id": "3d47e1de",
   "metadata": {},
   "source": [
    "#### <span style=\"color:red\">Droping Cuisines column from the Main Dataset:-</span>"
   ]
  },
  {
   "cell_type": "code",
   "execution_count": 51,
   "id": "90ab09a5",
   "metadata": {},
   "outputs": [],
   "source": [
    "new.drop(columns=['Cuisines'],inplace=True)"
   ]
  },
  {
   "cell_type": "code",
   "execution_count": 52,
   "id": "e64b8978",
   "metadata": {},
   "outputs": [
    {
     "data": {
      "text/html": [
       "<div>\n",
       "<style scoped>\n",
       "    .dataframe tbody tr th:only-of-type {\n",
       "        vertical-align: middle;\n",
       "    }\n",
       "\n",
       "    .dataframe tbody tr th {\n",
       "        vertical-align: top;\n",
       "    }\n",
       "\n",
       "    .dataframe thead th {\n",
       "        text-align: right;\n",
       "    }\n",
       "</style>\n",
       "<table border=\"1\" class=\"dataframe\">\n",
       "  <thead>\n",
       "    <tr style=\"text-align: right;\">\n",
       "      <th></th>\n",
       "      <th>City</th>\n",
       "      <th>Average Cost for two_x</th>\n",
       "      <th>Has Table booking</th>\n",
       "      <th>Price range</th>\n",
       "      <th>Aggregate rating</th>\n",
       "      <th>Votes</th>\n",
       "      <th>Average Cost for two_y</th>\n",
       "    </tr>\n",
       "  </thead>\n",
       "  <tbody>\n",
       "    <tr>\n",
       "      <th>0</th>\n",
       "      <td>Faridabad</td>\n",
       "      <td>250</td>\n",
       "      <td>0</td>\n",
       "      <td>1</td>\n",
       "      <td>2.9</td>\n",
       "      <td>4</td>\n",
       "      <td>375.000000</td>\n",
       "    </tr>\n",
       "    <tr>\n",
       "      <th>1</th>\n",
       "      <td>New Delhi</td>\n",
       "      <td>500</td>\n",
       "      <td>0</td>\n",
       "      <td>2</td>\n",
       "      <td>0.0</td>\n",
       "      <td>0</td>\n",
       "      <td>375.000000</td>\n",
       "    </tr>\n",
       "    <tr>\n",
       "      <th>2</th>\n",
       "      <td>Faridabad</td>\n",
       "      <td>500</td>\n",
       "      <td>0</td>\n",
       "      <td>2</td>\n",
       "      <td>2.8</td>\n",
       "      <td>16</td>\n",
       "      <td>594.303797</td>\n",
       "    </tr>\n",
       "    <tr>\n",
       "      <th>3</th>\n",
       "      <td>Faridabad</td>\n",
       "      <td>300</td>\n",
       "      <td>0</td>\n",
       "      <td>1</td>\n",
       "      <td>0.0</td>\n",
       "      <td>0</td>\n",
       "      <td>594.303797</td>\n",
       "    </tr>\n",
       "    <tr>\n",
       "      <th>4</th>\n",
       "      <td>Faridabad</td>\n",
       "      <td>1200</td>\n",
       "      <td>1</td>\n",
       "      <td>3</td>\n",
       "      <td>0.0</td>\n",
       "      <td>0</td>\n",
       "      <td>594.303797</td>\n",
       "    </tr>\n",
       "    <tr>\n",
       "      <th>...</th>\n",
       "      <td>...</td>\n",
       "      <td>...</td>\n",
       "      <td>...</td>\n",
       "      <td>...</td>\n",
       "      <td>...</td>\n",
       "      <td>...</td>\n",
       "      <td>...</td>\n",
       "    </tr>\n",
       "    <tr>\n",
       "      <th>7917</th>\n",
       "      <td>Noida</td>\n",
       "      <td>2500</td>\n",
       "      <td>1</td>\n",
       "      <td>4</td>\n",
       "      <td>2.2</td>\n",
       "      <td>116</td>\n",
       "      <td>2500.000000</td>\n",
       "    </tr>\n",
       "    <tr>\n",
       "      <th>7918</th>\n",
       "      <td>Noida</td>\n",
       "      <td>200</td>\n",
       "      <td>0</td>\n",
       "      <td>1</td>\n",
       "      <td>3.0</td>\n",
       "      <td>10</td>\n",
       "      <td>200.000000</td>\n",
       "    </tr>\n",
       "    <tr>\n",
       "      <th>7919</th>\n",
       "      <td>Noida</td>\n",
       "      <td>450</td>\n",
       "      <td>0</td>\n",
       "      <td>1</td>\n",
       "      <td>3.5</td>\n",
       "      <td>105</td>\n",
       "      <td>450.000000</td>\n",
       "    </tr>\n",
       "    <tr>\n",
       "      <th>7920</th>\n",
       "      <td>Noida</td>\n",
       "      <td>1000</td>\n",
       "      <td>1</td>\n",
       "      <td>3</td>\n",
       "      <td>0.0</td>\n",
       "      <td>0</td>\n",
       "      <td>1000.000000</td>\n",
       "    </tr>\n",
       "    <tr>\n",
       "      <th>7921</th>\n",
       "      <td>Noida</td>\n",
       "      <td>450</td>\n",
       "      <td>0</td>\n",
       "      <td>1</td>\n",
       "      <td>2.0</td>\n",
       "      <td>161</td>\n",
       "      <td>450.000000</td>\n",
       "    </tr>\n",
       "  </tbody>\n",
       "</table>\n",
       "<p>7922 rows × 7 columns</p>\n",
       "</div>"
      ],
      "text/plain": [
       "           City  Average Cost for two_x  Has Table booking  Price range  \\\n",
       "0     Faridabad                     250                  0            1   \n",
       "1     New Delhi                     500                  0            2   \n",
       "2     Faridabad                     500                  0            2   \n",
       "3     Faridabad                     300                  0            1   \n",
       "4     Faridabad                    1200                  1            3   \n",
       "...         ...                     ...                ...          ...   \n",
       "7917      Noida                    2500                  1            4   \n",
       "7918      Noida                     200                  0            1   \n",
       "7919      Noida                     450                  0            1   \n",
       "7920      Noida                    1000                  1            3   \n",
       "7921      Noida                     450                  0            1   \n",
       "\n",
       "      Aggregate rating  Votes  Average Cost for two_y  \n",
       "0                  2.9      4              375.000000  \n",
       "1                  0.0      0              375.000000  \n",
       "2                  2.8     16              594.303797  \n",
       "3                  0.0      0              594.303797  \n",
       "4                  0.0      0              594.303797  \n",
       "...                ...    ...                     ...  \n",
       "7917               2.2    116             2500.000000  \n",
       "7918               3.0     10              200.000000  \n",
       "7919               3.5    105              450.000000  \n",
       "7920               0.0      0             1000.000000  \n",
       "7921               2.0    161              450.000000  \n",
       "\n",
       "[7922 rows x 7 columns]"
      ]
     },
     "execution_count": 52,
     "metadata": {},
     "output_type": "execute_result"
    }
   ],
   "source": [
    "new"
   ]
  },
  {
   "cell_type": "markdown",
   "id": "97d1bb72",
   "metadata": {},
   "source": [
    "#### <span style=\"color:red\">Renaming The Columns:-</span>"
   ]
  },
  {
   "cell_type": "code",
   "execution_count": 53,
   "id": "4ee6a851",
   "metadata": {},
   "outputs": [],
   "source": [
    "new.rename(columns={'Average Cost for two_x':'Cost','Average Cost for two_y':'cuisine'},inplace=True)"
   ]
  },
  {
   "cell_type": "markdown",
   "id": "5b59ee3c",
   "metadata": {},
   "source": [
    "#### <span style=\"color:red\">Shuffling The Columns:-</span> "
   ]
  },
  {
   "cell_type": "code",
   "execution_count": 54,
   "id": "6d53ccb4",
   "metadata": {},
   "outputs": [],
   "source": [
    "new=new[['City','Has Table booking','Aggregate rating','Votes','cuisine','Price range','Cost']]"
   ]
  },
  {
   "cell_type": "code",
   "execution_count": 55,
   "id": "5e25972d",
   "metadata": {},
   "outputs": [
    {
     "data": {
      "text/html": [
       "<div>\n",
       "<style scoped>\n",
       "    .dataframe tbody tr th:only-of-type {\n",
       "        vertical-align: middle;\n",
       "    }\n",
       "\n",
       "    .dataframe tbody tr th {\n",
       "        vertical-align: top;\n",
       "    }\n",
       "\n",
       "    .dataframe thead th {\n",
       "        text-align: right;\n",
       "    }\n",
       "</style>\n",
       "<table border=\"1\" class=\"dataframe\">\n",
       "  <thead>\n",
       "    <tr style=\"text-align: right;\">\n",
       "      <th></th>\n",
       "      <th>City</th>\n",
       "      <th>Has Table booking</th>\n",
       "      <th>Aggregate rating</th>\n",
       "      <th>Votes</th>\n",
       "      <th>cuisine</th>\n",
       "      <th>Price range</th>\n",
       "      <th>Cost</th>\n",
       "    </tr>\n",
       "  </thead>\n",
       "  <tbody>\n",
       "    <tr>\n",
       "      <th>0</th>\n",
       "      <td>Faridabad</td>\n",
       "      <td>0</td>\n",
       "      <td>2.9</td>\n",
       "      <td>4</td>\n",
       "      <td>375.000000</td>\n",
       "      <td>1</td>\n",
       "      <td>250</td>\n",
       "    </tr>\n",
       "    <tr>\n",
       "      <th>1</th>\n",
       "      <td>New Delhi</td>\n",
       "      <td>0</td>\n",
       "      <td>0.0</td>\n",
       "      <td>0</td>\n",
       "      <td>375.000000</td>\n",
       "      <td>2</td>\n",
       "      <td>500</td>\n",
       "    </tr>\n",
       "    <tr>\n",
       "      <th>2</th>\n",
       "      <td>Faridabad</td>\n",
       "      <td>0</td>\n",
       "      <td>2.8</td>\n",
       "      <td>16</td>\n",
       "      <td>594.303797</td>\n",
       "      <td>2</td>\n",
       "      <td>500</td>\n",
       "    </tr>\n",
       "    <tr>\n",
       "      <th>3</th>\n",
       "      <td>Faridabad</td>\n",
       "      <td>0</td>\n",
       "      <td>0.0</td>\n",
       "      <td>0</td>\n",
       "      <td>594.303797</td>\n",
       "      <td>1</td>\n",
       "      <td>300</td>\n",
       "    </tr>\n",
       "    <tr>\n",
       "      <th>4</th>\n",
       "      <td>Faridabad</td>\n",
       "      <td>1</td>\n",
       "      <td>0.0</td>\n",
       "      <td>0</td>\n",
       "      <td>594.303797</td>\n",
       "      <td>3</td>\n",
       "      <td>1200</td>\n",
       "    </tr>\n",
       "    <tr>\n",
       "      <th>...</th>\n",
       "      <td>...</td>\n",
       "      <td>...</td>\n",
       "      <td>...</td>\n",
       "      <td>...</td>\n",
       "      <td>...</td>\n",
       "      <td>...</td>\n",
       "      <td>...</td>\n",
       "    </tr>\n",
       "    <tr>\n",
       "      <th>7917</th>\n",
       "      <td>Noida</td>\n",
       "      <td>1</td>\n",
       "      <td>2.2</td>\n",
       "      <td>116</td>\n",
       "      <td>2500.000000</td>\n",
       "      <td>4</td>\n",
       "      <td>2500</td>\n",
       "    </tr>\n",
       "    <tr>\n",
       "      <th>7918</th>\n",
       "      <td>Noida</td>\n",
       "      <td>0</td>\n",
       "      <td>3.0</td>\n",
       "      <td>10</td>\n",
       "      <td>200.000000</td>\n",
       "      <td>1</td>\n",
       "      <td>200</td>\n",
       "    </tr>\n",
       "    <tr>\n",
       "      <th>7919</th>\n",
       "      <td>Noida</td>\n",
       "      <td>0</td>\n",
       "      <td>3.5</td>\n",
       "      <td>105</td>\n",
       "      <td>450.000000</td>\n",
       "      <td>1</td>\n",
       "      <td>450</td>\n",
       "    </tr>\n",
       "    <tr>\n",
       "      <th>7920</th>\n",
       "      <td>Noida</td>\n",
       "      <td>1</td>\n",
       "      <td>0.0</td>\n",
       "      <td>0</td>\n",
       "      <td>1000.000000</td>\n",
       "      <td>3</td>\n",
       "      <td>1000</td>\n",
       "    </tr>\n",
       "    <tr>\n",
       "      <th>7921</th>\n",
       "      <td>Noida</td>\n",
       "      <td>0</td>\n",
       "      <td>2.0</td>\n",
       "      <td>161</td>\n",
       "      <td>450.000000</td>\n",
       "      <td>1</td>\n",
       "      <td>450</td>\n",
       "    </tr>\n",
       "  </tbody>\n",
       "</table>\n",
       "<p>7922 rows × 7 columns</p>\n",
       "</div>"
      ],
      "text/plain": [
       "           City  Has Table booking  Aggregate rating  Votes      cuisine  \\\n",
       "0     Faridabad                  0               2.9      4   375.000000   \n",
       "1     New Delhi                  0               0.0      0   375.000000   \n",
       "2     Faridabad                  0               2.8     16   594.303797   \n",
       "3     Faridabad                  0               0.0      0   594.303797   \n",
       "4     Faridabad                  1               0.0      0   594.303797   \n",
       "...         ...                ...               ...    ...          ...   \n",
       "7917      Noida                  1               2.2    116  2500.000000   \n",
       "7918      Noida                  0               3.0     10   200.000000   \n",
       "7919      Noida                  0               3.5    105   450.000000   \n",
       "7920      Noida                  1               0.0      0  1000.000000   \n",
       "7921      Noida                  0               2.0    161   450.000000   \n",
       "\n",
       "      Price range  Cost  \n",
       "0               1   250  \n",
       "1               2   500  \n",
       "2               2   500  \n",
       "3               1   300  \n",
       "4               3  1200  \n",
       "...           ...   ...  \n",
       "7917            4  2500  \n",
       "7918            1   200  \n",
       "7919            1   450  \n",
       "7920            3  1000  \n",
       "7921            1   450  \n",
       "\n",
       "[7922 rows x 7 columns]"
      ]
     },
     "execution_count": 55,
     "metadata": {},
     "output_type": "execute_result"
    }
   ],
   "source": [
    "new"
   ]
  },
  {
   "cell_type": "markdown",
   "id": "805b9e96",
   "metadata": {},
   "source": [
    "### <span style=\"color:green\">Checking Distribution Of Data In 'City' Column</span>"
   ]
  },
  {
   "cell_type": "code",
   "execution_count": 56,
   "id": "3bd981de",
   "metadata": {},
   "outputs": [
    {
     "data": {
      "text/plain": [
       "4"
      ]
     },
     "execution_count": 56,
     "metadata": {},
     "output_type": "execute_result"
    }
   ],
   "source": [
    "df['City'].nunique()"
   ]
  },
  {
   "cell_type": "code",
   "execution_count": 57,
   "id": "63c54a05",
   "metadata": {},
   "outputs": [
    {
     "name": "stdout",
     "output_type": "stream",
     "text": [
      "New Delhi    5473\n",
      "Gurgaon      1118\n",
      "Noida        1080\n",
      "Faridabad     251\n",
      "Name: City, dtype: int64\n"
     ]
    }
   ],
   "source": [
    "print(df['City'].value_counts())"
   ]
  },
  {
   "cell_type": "markdown",
   "id": "544b07cb",
   "metadata": {},
   "source": [
    "#### <span style=\"color:red\">Level Encoding:-</span>"
   ]
  },
  {
   "cell_type": "markdown",
   "id": "7d97f108",
   "metadata": {},
   "source": [
    "df= df.replace({\"City\":{\"No\":0, \"Yes\":1 }})"
   ]
  },
  {
   "cell_type": "markdown",
   "id": "59942bec",
   "metadata": {},
   "source": [
    "# <span style=\"color:green\">Splitting Dataset</span>"
   ]
  },
  {
   "cell_type": "code",
   "execution_count": 58,
   "id": "b6f53508",
   "metadata": {},
   "outputs": [
    {
     "data": {
      "text/plain": [
       "array([['Faridabad', 0, 2.9, 4, 375.0, 1],\n",
       "       ['New Delhi', 0, 0.0, 0, 375.0, 2],\n",
       "       ['Faridabad', 0, 2.8, 16, 594.3037974683544, 2],\n",
       "       ...,\n",
       "       ['Noida', 0, 3.5, 105, 450.0, 1],\n",
       "       ['Noida', 1, 0.0, 0, 1000.0, 3],\n",
       "       ['Noida', 0, 2.0, 161, 450.0, 1]], dtype=object)"
      ]
     },
     "execution_count": 58,
     "metadata": {},
     "output_type": "execute_result"
    }
   ],
   "source": [
    "X=new.iloc[:,:-1].values\n",
    "X"
   ]
  },
  {
   "cell_type": "code",
   "execution_count": 59,
   "id": "2331158b",
   "metadata": {},
   "outputs": [
    {
     "data": {
      "text/plain": [
       "array([ 250,  500,  500, ...,  450, 1000,  450], dtype=int64)"
      ]
     },
     "execution_count": 59,
     "metadata": {},
     "output_type": "execute_result"
    }
   ],
   "source": [
    "y=new.iloc[:,-1].values\n",
    "y"
   ]
  },
  {
   "cell_type": "code",
   "execution_count": 60,
   "id": "4755fb55",
   "metadata": {},
   "outputs": [],
   "source": [
    "from sklearn.preprocessing import LabelEncoder\n",
    "encoder=LabelEncoder()"
   ]
  },
  {
   "cell_type": "code",
   "execution_count": 61,
   "id": "2129062d",
   "metadata": {},
   "outputs": [
    {
     "data": {
      "text/plain": [
       "array([[0, 0, 2.9, 4, 375.0, 1],\n",
       "       [2, 0, 0.0, 0, 375.0, 2],\n",
       "       [0, 0, 2.8, 16, 594.3037974683544, 2],\n",
       "       ...,\n",
       "       [3, 0, 3.5, 105, 450.0, 1],\n",
       "       [3, 1, 0.0, 0, 1000.0, 3],\n",
       "       [3, 0, 2.0, 161, 450.0, 1]], dtype=object)"
      ]
     },
     "execution_count": 61,
     "metadata": {},
     "output_type": "execute_result"
    }
   ],
   "source": [
    "X[:,0]=encoder.fit_transform(X[:,0])\n",
    "X"
   ]
  },
  {
   "cell_type": "code",
   "execution_count": 62,
   "id": "94a97bea",
   "metadata": {},
   "outputs": [
    {
     "data": {
      "text/plain": [
       "(7922, 6)"
      ]
     },
     "execution_count": 62,
     "metadata": {},
     "output_type": "execute_result"
    }
   ],
   "source": [
    "X.shape"
   ]
  },
  {
   "cell_type": "code",
   "execution_count": 63,
   "id": "13aff915",
   "metadata": {},
   "outputs": [
    {
     "name": "stderr",
     "output_type": "stream",
     "text": [
      "C:\\Users\\Visual singh\\AppData\\Local\\Temp\\ipykernel_14316\\2952936332.py:5: DeprecationWarning: `np.str` is a deprecated alias for the builtin `str`. To silence this warning, use `str` by itself. Doing this will not modify any behavior and is safe. If you specifically wanted the numpy scalar type, use `np.str_` here.\n",
      "Deprecated in NumPy 1.20; for more details and guidance: https://numpy.org/devdocs/release/1.20.0-notes.html#deprecations\n",
      "  X=np.array(columnTransformer.fit_transform(X),dtype=np.str)\n"
     ]
    },
    {
     "data": {
      "text/plain": [
       "(7922, 9)"
      ]
     },
     "execution_count": 63,
     "metadata": {},
     "output_type": "execute_result"
    }
   ],
   "source": [
    "from sklearn.compose import ColumnTransformer\n",
    "from sklearn.preprocessing import OneHotEncoder\n",
    "\n",
    "columnTransformer = ColumnTransformer([('encoder', OneHotEncoder(), [0])],     remainder='passthrough')\n",
    "X=np.array(columnTransformer.fit_transform(X),dtype=np.str)\n",
    "X.shape"
   ]
  },
  {
   "cell_type": "code",
   "execution_count": 64,
   "id": "18a6e5ee",
   "metadata": {},
   "outputs": [
    {
     "data": {
      "text/plain": [
       "(7922, 8)"
      ]
     },
     "execution_count": 64,
     "metadata": {},
     "output_type": "execute_result"
    }
   ],
   "source": [
    "X=X[:,1:]\n",
    "X.shape"
   ]
  },
  {
   "cell_type": "code",
   "execution_count": 65,
   "id": "72009371",
   "metadata": {},
   "outputs": [],
   "source": [
    "from sklearn.model_selection import train_test_split\n",
    "X_train,X_test,y_train,y_test = train_test_split(X,y, test_size= 0.2, random_state=24)\n",
    "\n",
    "from sklearn.metrics import accuracy_score,confusion_matrix,classification_report\n",
    "import warnings\n",
    "warnings.filterwarnings('ignore')"
   ]
  },
  {
   "cell_type": "code",
   "execution_count": 66,
   "id": "63f10033",
   "metadata": {},
   "outputs": [
    {
     "name": "stdout",
     "output_type": "stream",
     "text": [
      "X Train Shape  (6337, 8)\n",
      "Y Train Shape  (6337,)\n",
      "----------------------------------------------------------------------------------------------------------------------------\n",
      "X Test Shape  (1585, 8)\n",
      "Y Test Shape  (1585,)\n",
      "----------------------------------------------------------------------------------------------------------------------------\n"
     ]
    }
   ],
   "source": [
    "print(\"X Train Shape \",X_train.shape)\n",
    "print(\"Y Train Shape \",y_train.shape)\n",
    "\n",
    "print(\"----------------------------------------------------------------------------------------------------------------------------\")\n",
    "print(\"X Test Shape \",X_test.shape)\n",
    "print(\"Y Test Shape \",y_test.shape)\n",
    "print(\"----------------------------------------------------------------------------------------------------------------------------\")"
   ]
  },
  {
   "cell_type": "markdown",
   "id": "142e9af3",
   "metadata": {},
   "source": [
    "## <span style=\"color:green\">Applying Linear Regression Model</span>"
   ]
  },
  {
   "cell_type": "code",
   "execution_count": 67,
   "id": "e8194e9a",
   "metadata": {},
   "outputs": [],
   "source": [
    "from sklearn.linear_model import LinearRegression\n",
    "regressor=LinearRegression()"
   ]
  },
  {
   "cell_type": "code",
   "execution_count": 68,
   "id": "5dd580d7",
   "metadata": {},
   "outputs": [
    {
     "data": {
      "text/plain": [
       "LinearRegression()"
      ]
     },
     "execution_count": 68,
     "metadata": {},
     "output_type": "execute_result"
    }
   ],
   "source": [
    "regressor.fit(X_train,y_train)"
   ]
  },
  {
   "cell_type": "code",
   "execution_count": 69,
   "id": "2186c721",
   "metadata": {},
   "outputs": [],
   "source": [
    "y_pred = regressor.predict(X_test)"
   ]
  },
  {
   "cell_type": "code",
   "execution_count": 70,
   "id": "b8428bfb",
   "metadata": {},
   "outputs": [
    {
     "name": "stdout",
     "output_type": "stream",
     "text": [
      "Training r2 Score : 80.08444307453865 %\n"
     ]
    }
   ],
   "source": [
    "from sklearn.metrics import r2_score\n",
    "print(\"Training r2 Score :\", r2_score(y_test,y_pred)*100,'%')"
   ]
  },
  {
   "cell_type": "markdown",
   "id": "1a086b95",
   "metadata": {},
   "source": [
    "## <span style=\"color:green\">Applying Random Forest Regressor Model --</span> <span style=\"color:red\">To increase the accuracy of the model:-</span>"
   ]
  },
  {
   "cell_type": "code",
   "execution_count": 71,
   "id": "c4b93aa6",
   "metadata": {},
   "outputs": [],
   "source": [
    "from sklearn.ensemble import RandomForestRegressor\n",
    "reg=RandomForestRegressor(n_estimators=200)"
   ]
  },
  {
   "cell_type": "code",
   "execution_count": 72,
   "id": "33a0ab35",
   "metadata": {},
   "outputs": [
    {
     "data": {
      "text/plain": [
       "RandomForestRegressor(n_estimators=200)"
      ]
     },
     "execution_count": 72,
     "metadata": {},
     "output_type": "execute_result"
    }
   ],
   "source": [
    "reg.fit(X_train,y_train)"
   ]
  },
  {
   "cell_type": "code",
   "execution_count": 73,
   "id": "80b43412",
   "metadata": {},
   "outputs": [],
   "source": [
    "y_pred1 = reg.predict(X_test)"
   ]
  },
  {
   "cell_type": "code",
   "execution_count": 74,
   "id": "11680f7b",
   "metadata": {},
   "outputs": [
    {
     "name": "stdout",
     "output_type": "stream",
     "text": [
      "Training r2 Score : 88.40663190830452 %\n"
     ]
    }
   ],
   "source": [
    "print(\"Training r2 Score :\", r2_score(y_test,y_pred1)*100,'%')"
   ]
  },
  {
   "cell_type": "markdown",
   "id": "7fe88e0a",
   "metadata": {},
   "source": [
    "## <span style=\"color:green\">Applying Decision Tree Regressor Model</span>"
   ]
  },
  {
   "cell_type": "code",
   "execution_count": 75,
   "id": "95d192c2",
   "metadata": {},
   "outputs": [],
   "source": [
    "from sklearn.tree import DecisionTreeRegressor\n",
    "reg1=DecisionTreeRegressor()"
   ]
  },
  {
   "cell_type": "code",
   "execution_count": 76,
   "id": "b9709f12",
   "metadata": {},
   "outputs": [
    {
     "data": {
      "text/plain": [
       "DecisionTreeRegressor()"
      ]
     },
     "execution_count": 76,
     "metadata": {},
     "output_type": "execute_result"
    }
   ],
   "source": [
    "reg1.fit(X_train,y_train)"
   ]
  },
  {
   "cell_type": "code",
   "execution_count": 77,
   "id": "9bbd61c9",
   "metadata": {},
   "outputs": [],
   "source": [
    "y_pred2 = reg1.predict(X_test)"
   ]
  },
  {
   "cell_type": "code",
   "execution_count": 78,
   "id": "87cdb39f",
   "metadata": {},
   "outputs": [
    {
     "name": "stdout",
     "output_type": "stream",
     "text": [
      "Training r2 Score : 75.33918929179926 %\n"
     ]
    }
   ],
   "source": [
    "print(\"Training r2 Score :\", r2_score(y_test,y_pred2)*100,'%')"
   ]
  },
  {
   "cell_type": "markdown",
   "id": "77d66bb2",
   "metadata": {},
   "source": [
    "## <span style=\"color:green\">Applying Support Vector Regression (SVR) Model</span>"
   ]
  },
  {
   "cell_type": "code",
   "execution_count": 79,
   "id": "a249f8da",
   "metadata": {},
   "outputs": [],
   "source": [
    "from sklearn.svm import SVR\n",
    "reg2=SVR()"
   ]
  },
  {
   "cell_type": "code",
   "execution_count": 80,
   "id": "747816cc",
   "metadata": {},
   "outputs": [
    {
     "data": {
      "text/plain": [
       "SVR()"
      ]
     },
     "execution_count": 80,
     "metadata": {},
     "output_type": "execute_result"
    }
   ],
   "source": [
    "reg2.fit(X_train,y_train)"
   ]
  },
  {
   "cell_type": "code",
   "execution_count": 81,
   "id": "f762032b",
   "metadata": {},
   "outputs": [],
   "source": [
    "y_pred3 = reg2.predict(X_test)"
   ]
  },
  {
   "cell_type": "code",
   "execution_count": 82,
   "id": "fa543d41",
   "metadata": {},
   "outputs": [
    {
     "name": "stdout",
     "output_type": "stream",
     "text": [
      "Training r2 Score : 32.757739767216435 %\n"
     ]
    }
   ],
   "source": [
    "print(\"Training r2 Score :\", r2_score(y_test,y_pred3)*100,'%')"
   ]
  },
  {
   "cell_type": "code",
   "execution_count": 83,
   "id": "2f705fa1",
   "metadata": {},
   "outputs": [],
   "source": [
    "import pickle\n",
    "Zomato_model = 'Zomato_Prediction_model.pickle'\n",
    "pickle.dump(reg,open(Zomato_model,'wb'))"
   ]
  },
  {
   "cell_type": "code",
   "execution_count": 84,
   "id": "1e86cb18",
   "metadata": {},
   "outputs": [
    {
     "name": "stdout",
     "output_type": "stream",
     "text": [
      "0.8840663190830452\n"
     ]
    }
   ],
   "source": [
    "Zomato = pickle.load(open('Zomato_Prediction_model.pickle','rb'))\n",
    "result = Zomato.score(X_test, y_test)\n",
    "print(result)"
   ]
  },
  {
   "cell_type": "code",
   "execution_count": 86,
   "id": "16fd2227",
   "metadata": {},
   "outputs": [],
   "source": [
    "Predict=np.array(reg.predict(X_test))"
   ]
  },
  {
   "cell_type": "code",
   "execution_count": 87,
   "id": "86da710f",
   "metadata": {},
   "outputs": [],
   "source": [
    "Conclusion  =pd.DataFrame([Zomato.predict(X_test)[:],Predict[:]],index=['Predicted','Original'])"
   ]
  },
  {
   "cell_type": "code",
   "execution_count": 88,
   "id": "34584884",
   "metadata": {},
   "outputs": [
    {
     "data": {
      "text/html": [
       "<div>\n",
       "<style scoped>\n",
       "    .dataframe tbody tr th:only-of-type {\n",
       "        vertical-align: middle;\n",
       "    }\n",
       "\n",
       "    .dataframe tbody tr th {\n",
       "        vertical-align: top;\n",
       "    }\n",
       "\n",
       "    .dataframe thead th {\n",
       "        text-align: right;\n",
       "    }\n",
       "</style>\n",
       "<table border=\"1\" class=\"dataframe\">\n",
       "  <thead>\n",
       "    <tr style=\"text-align: right;\">\n",
       "      <th></th>\n",
       "      <th>0</th>\n",
       "      <th>1</th>\n",
       "      <th>2</th>\n",
       "      <th>3</th>\n",
       "      <th>4</th>\n",
       "      <th>5</th>\n",
       "      <th>6</th>\n",
       "      <th>7</th>\n",
       "      <th>8</th>\n",
       "      <th>9</th>\n",
       "      <th>...</th>\n",
       "      <th>1575</th>\n",
       "      <th>1576</th>\n",
       "      <th>1577</th>\n",
       "      <th>1578</th>\n",
       "      <th>1579</th>\n",
       "      <th>1580</th>\n",
       "      <th>1581</th>\n",
       "      <th>1582</th>\n",
       "      <th>1583</th>\n",
       "      <th>1584</th>\n",
       "    </tr>\n",
       "  </thead>\n",
       "  <tbody>\n",
       "    <tr>\n",
       "      <th>Predicted</th>\n",
       "      <td>620.0</td>\n",
       "      <td>649.9875</td>\n",
       "      <td>368.951786</td>\n",
       "      <td>771.0</td>\n",
       "      <td>216.625</td>\n",
       "      <td>351.75</td>\n",
       "      <td>1500.0</td>\n",
       "      <td>292.25</td>\n",
       "      <td>555.341667</td>\n",
       "      <td>347.852679</td>\n",
       "      <td>...</td>\n",
       "      <td>205.916667</td>\n",
       "      <td>160.25</td>\n",
       "      <td>1247.0</td>\n",
       "      <td>354.8375</td>\n",
       "      <td>1422.0</td>\n",
       "      <td>2870.5</td>\n",
       "      <td>323.7625</td>\n",
       "      <td>598.015476</td>\n",
       "      <td>620.0</td>\n",
       "      <td>349.629167</td>\n",
       "    </tr>\n",
       "    <tr>\n",
       "      <th>Original</th>\n",
       "      <td>620.0</td>\n",
       "      <td>649.9875</td>\n",
       "      <td>368.951786</td>\n",
       "      <td>771.0</td>\n",
       "      <td>216.625</td>\n",
       "      <td>351.75</td>\n",
       "      <td>1500.0</td>\n",
       "      <td>292.25</td>\n",
       "      <td>555.341667</td>\n",
       "      <td>347.852679</td>\n",
       "      <td>...</td>\n",
       "      <td>205.916667</td>\n",
       "      <td>160.25</td>\n",
       "      <td>1247.0</td>\n",
       "      <td>354.8375</td>\n",
       "      <td>1422.0</td>\n",
       "      <td>2870.5</td>\n",
       "      <td>323.7625</td>\n",
       "      <td>598.015476</td>\n",
       "      <td>620.0</td>\n",
       "      <td>349.629167</td>\n",
       "    </tr>\n",
       "  </tbody>\n",
       "</table>\n",
       "<p>2 rows × 1585 columns</p>\n",
       "</div>"
      ],
      "text/plain": [
       "            0         1           2      3        4       5       6     \\\n",
       "Predicted  620.0  649.9875  368.951786  771.0  216.625  351.75  1500.0   \n",
       "Original   620.0  649.9875  368.951786  771.0  216.625  351.75  1500.0   \n",
       "\n",
       "             7           8           9     ...        1575    1576    1577  \\\n",
       "Predicted  292.25  555.341667  347.852679  ...  205.916667  160.25  1247.0   \n",
       "Original   292.25  555.341667  347.852679  ...  205.916667  160.25  1247.0   \n",
       "\n",
       "               1578    1579    1580      1581        1582   1583        1584  \n",
       "Predicted  354.8375  1422.0  2870.5  323.7625  598.015476  620.0  349.629167  \n",
       "Original   354.8375  1422.0  2870.5  323.7625  598.015476  620.0  349.629167  \n",
       "\n",
       "[2 rows x 1585 columns]"
      ]
     },
     "execution_count": 88,
     "metadata": {},
     "output_type": "execute_result"
    }
   ],
   "source": [
    "Conclusion"
   ]
  },
  {
   "cell_type": "markdown",
   "id": "bdd52787",
   "metadata": {},
   "source": [
    "# <span style=\"color:red\">Price Range Prediction</span>"
   ]
  },
  {
   "cell_type": "code",
   "execution_count": 107,
   "id": "80d63615",
   "metadata": {},
   "outputs": [
    {
     "data": {
      "text/plain": [
       "array([['Faridabad', 0, 2.9, 4, 375.0],\n",
       "       ['New Delhi', 0, 0.0, 0, 375.0],\n",
       "       ['Faridabad', 0, 2.8, 16, 594.3037974683544],\n",
       "       ...,\n",
       "       ['Noida', 0, 3.5, 105, 450.0],\n",
       "       ['Noida', 1, 0.0, 0, 1000.0],\n",
       "       ['Noida', 0, 2.0, 161, 450.0]], dtype=object)"
      ]
     },
     "execution_count": 107,
     "metadata": {},
     "output_type": "execute_result"
    }
   ],
   "source": [
    "X=new.iloc[:,:-2].values\n",
    "X"
   ]
  },
  {
   "cell_type": "code",
   "execution_count": 108,
   "id": "228907f3",
   "metadata": {},
   "outputs": [
    {
     "data": {
      "text/plain": [
       "array([1, 2, 2, ..., 1, 3, 1], dtype=int64)"
      ]
     },
     "execution_count": 108,
     "metadata": {},
     "output_type": "execute_result"
    }
   ],
   "source": [
    "y=new.iloc[:,-2].values\n",
    "y"
   ]
  },
  {
   "cell_type": "code",
   "execution_count": 109,
   "id": "ecb470a9",
   "metadata": {},
   "outputs": [],
   "source": [
    "from sklearn.preprocessing import LabelEncoder\n",
    "encoder=LabelEncoder()"
   ]
  },
  {
   "cell_type": "code",
   "execution_count": 110,
   "id": "20fb409d",
   "metadata": {},
   "outputs": [
    {
     "data": {
      "text/plain": [
       "array([[0, 0, 2.9, 4, 375.0],\n",
       "       [2, 0, 0.0, 0, 375.0],\n",
       "       [0, 0, 2.8, 16, 594.3037974683544],\n",
       "       ...,\n",
       "       [3, 0, 3.5, 105, 450.0],\n",
       "       [3, 1, 0.0, 0, 1000.0],\n",
       "       [3, 0, 2.0, 161, 450.0]], dtype=object)"
      ]
     },
     "execution_count": 110,
     "metadata": {},
     "output_type": "execute_result"
    }
   ],
   "source": [
    "X[:,0]=encoder.fit_transform(X[:,0])\n",
    "X"
   ]
  },
  {
   "cell_type": "code",
   "execution_count": 111,
   "id": "7bfd385d",
   "metadata": {},
   "outputs": [
    {
     "data": {
      "text/plain": [
       "(7922, 5)"
      ]
     },
     "execution_count": 111,
     "metadata": {},
     "output_type": "execute_result"
    }
   ],
   "source": [
    "X.shape"
   ]
  },
  {
   "cell_type": "code",
   "execution_count": 112,
   "id": "10d7a21b",
   "metadata": {},
   "outputs": [
    {
     "data": {
      "text/plain": [
       "(7922, 8)"
      ]
     },
     "execution_count": 112,
     "metadata": {},
     "output_type": "execute_result"
    }
   ],
   "source": [
    "from sklearn.compose import ColumnTransformer\n",
    "from sklearn.preprocessing import OneHotEncoder\n",
    "\n",
    "columnTransformer = ColumnTransformer([('encoder', OneHotEncoder(), [0])],     remainder='passthrough')\n",
    "X=np.array(columnTransformer.fit_transform(X),dtype=np.str)\n",
    "X.shape"
   ]
  },
  {
   "cell_type": "code",
   "execution_count": 113,
   "id": "0177ed86",
   "metadata": {},
   "outputs": [
    {
     "data": {
      "text/plain": [
       "(7922, 7)"
      ]
     },
     "execution_count": 113,
     "metadata": {},
     "output_type": "execute_result"
    }
   ],
   "source": [
    "X=X[:,1:]\n",
    "X.shape"
   ]
  },
  {
   "cell_type": "code",
   "execution_count": 114,
   "id": "f08ff71d",
   "metadata": {},
   "outputs": [],
   "source": [
    "from sklearn.model_selection import train_test_split\n",
    "X_train,X_test,y_train,y_test = train_test_split(X,y, test_size= 0.2, random_state=24)\n",
    "\n",
    "from sklearn.metrics import accuracy_score,confusion_matrix,classification_report\n",
    "import warnings\n",
    "warnings.filterwarnings('ignore')"
   ]
  },
  {
   "cell_type": "code",
   "execution_count": 115,
   "id": "fff2adb4",
   "metadata": {},
   "outputs": [
    {
     "name": "stdout",
     "output_type": "stream",
     "text": [
      "X Train Shape  (6337, 7)\n",
      "Y Train Shape  (6337,)\n",
      "----------------------------------------------------------------------------------------------------------------------------\n",
      "X Test Shape  (1585, 7)\n",
      "Y Test Shape  (1585,)\n",
      "----------------------------------------------------------------------------------------------------------------------------\n"
     ]
    }
   ],
   "source": [
    "print(\"X Train Shape \",X_train.shape)\n",
    "print(\"Y Train Shape \",y_train.shape)\n",
    "\n",
    "print(\"----------------------------------------------------------------------------------------------------------------------------\")\n",
    "print(\"X Test Shape \",X_test.shape)\n",
    "print(\"Y Test Shape \",y_test.shape)\n",
    "print(\"----------------------------------------------------------------------------------------------------------------------------\")"
   ]
  },
  {
   "cell_type": "code",
   "execution_count": 116,
   "id": "864d8fa0",
   "metadata": {},
   "outputs": [],
   "source": [
    "from sklearn.linear_model import LinearRegression\n",
    "from sklearn.linear_model import LogisticRegression\n",
    "from sklearn.neighbors import KNeighborsClassifier\n",
    "from sklearn.tree import DecisionTreeClassifier\n",
    "from sklearn.ensemble import RandomForestClassifier\n",
    "from sklearn.ensemble import AdaBoostClassifier\n",
    "from sklearn.svm import SVC\n",
    "from sklearn.ensemble import GradientBoostingClassifier\n",
    "from xgboost import XGBClassifier\n",
    "from sklearn.linear_model import LinearRegression"
   ]
  },
  {
   "cell_type": "code",
   "execution_count": 123,
   "id": "fbdb4495",
   "metadata": {},
   "outputs": [
    {
     "name": "stdout",
     "output_type": "stream",
     "text": [
      "Model is created\n"
     ]
    }
   ],
   "source": [
    "#Linear Regression\n",
    "regressor=LinearRegression()\n",
    "\n",
    "#Logistic Regression\n",
    "lr=LogisticRegression() \n",
    "\n",
    "#Logistic Regression\n",
    "lr=LogisticRegression() \n",
    "\n",
    "#KNearest Neibour\n",
    "knn=KNeighborsClassifier()\n",
    "\n",
    "# Deciesion Tree\n",
    "dt=DecisionTreeClassifier() \n",
    "\n",
    "# Random Forest\n",
    "rf=RandomForestClassifier() \n",
    "\n",
    "# Adaboost Classifier \n",
    "adb=AdaBoostClassifier()   \n",
    "\n",
    "# support vactor classifier\n",
    "svm=SVC()   \n",
    "\n",
    "\n",
    "print(\"Model is created\")"
   ]
  },
  {
   "cell_type": "code",
   "execution_count": 124,
   "id": "4ce5323e",
   "metadata": {},
   "outputs": [
    {
     "name": "stdout",
     "output_type": "stream",
     "text": [
      "Model is trained & Ready To Perform\n"
     ]
    }
   ],
   "source": [
    "# Applying Linear Regression \n",
    "regressor.fit(X_train, y_train)\n",
    "\n",
    "# Applying Logistic Regression\n",
    "lr.fit(X_train, y_train)\n",
    "\n",
    "# Applying KNearest Neibour\n",
    "knn.fit(X_train,y_train)\n",
    "\n",
    "# Applying Deciesion Tree\n",
    "dt.fit(X_train,y_train)\n",
    "\n",
    "# Applying Random Forest\n",
    "rf.fit(X_train,y_train)\n",
    "\n",
    "# Applying Adaboost Classifier\n",
    "adb.fit(X_train,y_train)\n",
    "\n",
    "# Applying support vactor classifier\n",
    "svm.fit(X_train,y_train)\n",
    "\n",
    "print(\"Model is trained & Ready To Perform\")"
   ]
  },
  {
   "cell_type": "markdown",
   "id": "f4d614ec",
   "metadata": {},
   "source": [
    "## <span style=\"color:green\">Checking the accuracy of all 8 models</span>"
   ]
  },
  {
   "cell_type": "code",
   "execution_count": 125,
   "id": "5ee9b5a0",
   "metadata": {},
   "outputs": [],
   "source": [
    "from sklearn.metrics import accuracy_score,confusion_matrix,classification_report\n",
    "import warnings \n",
    "warnings.filterwarnings('ignore')"
   ]
  },
  {
   "cell_type": "code",
   "execution_count": 128,
   "id": "675a3ab6",
   "metadata": {},
   "outputs": [
    {
     "name": "stdout",
     "output_type": "stream",
     "text": [
      "regressor classification score 0.6427507587085959\n",
      "Lr classification score 0.6881805270632791\n",
      "knn classification score 0.805428436168534\n",
      "dt classification score 0.9635474199147862\n",
      "rf classification score 0.9635474199147862\n",
      "adb classification score 0.7053810951554363\n",
      "svm classification score 0.7471989900583873\n"
     ]
    }
   ],
   "source": [
    "# For Logistic Regression\n",
    "print(\"regressor classification score\",regressor.score(X_train,y_train))\n",
    "\n",
    "# For Logistic Regression\n",
    "print(\"Lr classification score\",lr.score(X_train,y_train))\n",
    "\n",
    "# For KNearest Neibour\n",
    "print(\"knn classification score\",knn.score(X_train,y_train))\n",
    "\n",
    "# For Deciesion Tree\n",
    "print(\"dt classification score\",dt.score(X_train,y_train))\n",
    "\n",
    "# For Random Forest\n",
    "print(\"rf classification score\",rf.score(X_train,y_train))\n",
    "\n",
    "# For Adaboost Classifier\n",
    "print(\"adb classification score\",adb.score(X_train,y_train))\n",
    "\n",
    "# For support vactor classifier\n",
    "print(\"svm classification score\",svm.score(X_train,y_train))\n",
    "\n",
    "\n"
   ]
  },
  {
   "cell_type": "markdown",
   "id": "501e32f2",
   "metadata": {},
   "source": [
    "## <span style=\"color:blue\"> Model Evaluation</span>"
   ]
  },
  {
   "cell_type": "code",
   "execution_count": 129,
   "id": "9370ab65",
   "metadata": {},
   "outputs": [],
   "source": [
    "from sklearn.metrics import mean_absolute_error\n",
    "from sklearn.metrics import mean_squared_error\n",
    "from sklearn.metrics import r2_score\n",
    "import warnings\n",
    "import joblib\n",
    "warnings.filterwarnings('ignore')\n",
    "%matplotlib inline"
   ]
  },
  {
   "cell_type": "code",
   "execution_count": 130,
   "id": "a327eed2",
   "metadata": {},
   "outputs": [
    {
     "name": "stdout",
     "output_type": "stream",
     "text": [
      "MAE : 0.4033186304756969\n",
      "RMSE : 0.4861562294358924\n",
      "Training r2 Score : 64.27507587085958 %\n",
      "Testing r2 Score: 64.08382321500312%\n"
     ]
    }
   ],
   "source": [
    "y_pred = regressor.predict(X_train)\n",
    "pred_regressor = regressor.predict(X_test)\n",
    "\n",
    "mse = mean_squared_error(y_test,pred_regressor)\n",
    "rmse = np.sqrt(mse)\n",
    "mae = mean_absolute_error(y_test,pred_regressor)\n",
    "print(\"MAE :\", mae)\n",
    "print(\"RMSE :\", rmse)\n",
    "\n",
    "print(\"Training r2 Score :\", r2_score(y_train,y_pred)*100,'%')\n",
    "print(f\"Testing r2 Score: {r2_score(y_test,pred_regressor)*100}%\")"
   ]
  },
  {
   "cell_type": "code",
   "execution_count": 131,
   "id": "56748ee2",
   "metadata": {},
   "outputs": [
    {
     "name": "stdout",
     "output_type": "stream",
     "text": [
      "MAE : 0.36529968454258677\n",
      "RMSE : 0.7001577109403813\n",
      "Training r2 Score : 21.331383621145903 %\n",
      "Testing r2 Score: 25.504482270533156%\n"
     ]
    }
   ],
   "source": [
    "y_pred = lr.predict(X_train)\n",
    "pred_lr = lr.predict(X_test)\n",
    "\n",
    "mse = mean_squared_error(y_test,pred_lr)\n",
    "rmse = np.sqrt(mse)\n",
    "mae = mean_absolute_error(y_test,pred_lr)\n",
    "print(\"MAE :\", mae)\n",
    "print(\"RMSE :\", rmse)\n",
    "\n",
    "print(\"Training r2 Score :\", r2_score(y_train,y_pred)*100,'%')\n",
    "print(f\"Testing r2 Score: {r2_score(y_test,pred_lr)*100}%\")"
   ]
  },
  {
   "cell_type": "code",
   "execution_count": 132,
   "id": "347313a7",
   "metadata": {},
   "outputs": [
    {
     "name": "stdout",
     "output_type": "stream",
     "text": [
      "MAE : 0.2662460567823344\n",
      "RMSE : 0.5445456532323609\n",
      "Training r2 Score : 60.29830297240717 %\n",
      "Testing r2 Score: 54.938361218984014%\n"
     ]
    }
   ],
   "source": [
    "y_pred = knn.predict(X_train)\n",
    "pred_knn = knn.predict(X_test)\n",
    "\n",
    "mse = mean_squared_error(y_test,pred_knn)\n",
    "rmse = np.sqrt(mse)\n",
    "mae = mean_absolute_error(y_test,pred_knn)\n",
    "print(\"MAE :\", mae)\n",
    "print(\"RMSE :\", rmse)\n",
    "\n",
    "print(\"Training r2 Score :\", r2_score(y_train,y_pred)*100,'%')\n",
    "print(f\"Testing r2 Score: {r2_score(y_test,pred_knn)*100}%\")"
   ]
  },
  {
   "cell_type": "code",
   "execution_count": 133,
   "id": "6bf68fa1",
   "metadata": {},
   "outputs": [
    {
     "name": "stdout",
     "output_type": "stream",
     "text": [
      "MAE : 0.2902208201892745\n",
      "RMSE : 0.5760739524906245\n",
      "Training r2 Score : 94.09807608365934 %\n",
      "Testing r2 Score: 49.56931489613956%\n"
     ]
    }
   ],
   "source": [
    "y_pred = dt.predict(X_train)\n",
    "pred_dt = dt.predict(X_test)\n",
    "\n",
    "mse = mean_squared_error(y_test,pred_dt)\n",
    "rmse = np.sqrt(mse)\n",
    "mae = mean_absolute_error(y_test,pred_dt)\n",
    "print(\"MAE :\", mae)\n",
    "print(\"RMSE :\", rmse)\n",
    "\n",
    "print(\"Training r2 Score :\", r2_score(y_train,y_pred)*100,'%')\n",
    "print(f\"Testing r2 Score: {r2_score(y_test,pred_dt)*100}%\")"
   ]
  },
  {
   "cell_type": "code",
   "execution_count": 134,
   "id": "a4735511",
   "metadata": {},
   "outputs": [
    {
     "name": "stdout",
     "output_type": "stream",
     "text": [
      "MAE : 0.2593059936908517\n",
      "RMSE : 0.5428049594235147\n",
      "Training r2 Score : 94.09807608365934 %\n",
      "Testing r2 Score: 55.22598870056497%\n"
     ]
    }
   ],
   "source": [
    "y_pred = rf.predict(X_train)\n",
    "pred_rf = rf.predict(X_test)\n",
    "\n",
    "mse = mean_squared_error(y_test,pred_rf)\n",
    "rmse = np.sqrt(mse)\n",
    "mae = mean_absolute_error(y_test,pred_rf)\n",
    "print(\"MAE :\", mae)\n",
    "print(\"RMSE :\", rmse)\n",
    "\n",
    "print(\"Training r2 Score :\", r2_score(y_train,y_pred)*100,'%')\n",
    "print(f\"Testing r2 Score: {r2_score(y_test,pred_rf)*100}%\")"
   ]
  },
  {
   "cell_type": "code",
   "execution_count": 135,
   "id": "b476aa57",
   "metadata": {},
   "outputs": [
    {
     "name": "stdout",
     "output_type": "stream",
     "text": [
      "MAE : 0.30977917981072556\n",
      "RMSE : 0.5831492874750426\n",
      "Training r2 Score : 48.02040502596354 %\n",
      "Testing r2 Score: 48.322929142622094%\n"
     ]
    }
   ],
   "source": [
    "y_pred = adb.predict(X_train)\n",
    "pred_adb = adb.predict(X_test)\n",
    "\n",
    "mse = mean_squared_error(y_test,pred_adb)\n",
    "rmse = np.sqrt(mse)\n",
    "mae = mean_absolute_error(y_test,pred_adb)\n",
    "print(\"MAE :\", mae)\n",
    "print(\"RMSE :\", rmse)\n",
    "\n",
    "print(\"Training r2 Score :\", r2_score(y_train,y_pred)*100,'%')\n",
    "print(f\"Testing r2 Score: {r2_score(y_test,pred_adb)*100}%\")"
   ]
  },
  {
   "cell_type": "code",
   "execution_count": 136,
   "id": "f97376fe",
   "metadata": {},
   "outputs": [
    {
     "name": "stdout",
     "output_type": "stream",
     "text": [
      "MAE : 0.2593059936908517\n",
      "RMSE : 0.5346067867169154\n",
      "Training r2 Score : 53.89862643661609 %\n",
      "Testing r2 Score: 56.56825028127608%\n"
     ]
    }
   ],
   "source": [
    "y_pred = svm.predict(X_train)\n",
    "pred_svm = svm.predict(X_test)\n",
    "\n",
    "mse = mean_squared_error(y_test,pred_svm)\n",
    "rmse = np.sqrt(mse)\n",
    "mae = mean_absolute_error(y_test,pred_svm)\n",
    "print(\"MAE :\", mae)\n",
    "print(\"RMSE :\", rmse)\n",
    "\n",
    "print(\"Training r2 Score :\", r2_score(y_train,y_pred)*100,'%')\n",
    "print(f\"Testing r2 Score: {r2_score(y_test,pred_svm)*100}%\")"
   ]
  },
  {
   "cell_type": "code",
   "execution_count": 137,
   "id": "11b5f43d",
   "metadata": {},
   "outputs": [],
   "source": [
    "import pickle\n",
    "Zomato_Price_model = 'Zomato_Price_Prediction_model.pickle'\n",
    "pickle.dump(rf,open(Zomato_Price_model,'wb'))"
   ]
  },
  {
   "cell_type": "code",
   "execution_count": 138,
   "id": "bcf4c968",
   "metadata": {},
   "outputs": [
    {
     "name": "stdout",
     "output_type": "stream",
     "text": [
      "0.7570977917981072\n"
     ]
    }
   ],
   "source": [
    "Zomato_Price = pickle.load(open('Zomato_Price_Prediction_model.pickle','rb'))\n",
    "result = Zomato_Price.score(X_test, y_test)\n",
    "print(result)"
   ]
  },
  {
   "cell_type": "code",
   "execution_count": 139,
   "id": "fa484150",
   "metadata": {},
   "outputs": [],
   "source": [
    "Price_Predict=np.array(rf.predict(X_test))"
   ]
  },
  {
   "cell_type": "code",
   "execution_count": 140,
   "id": "f09512cb",
   "metadata": {},
   "outputs": [],
   "source": [
    "Price_Conclusion  =pd.DataFrame([Zomato_Price.predict(X_test)[:],Price_Predict[:]],index=['Predicted','Original'])"
   ]
  },
  {
   "cell_type": "code",
   "execution_count": 141,
   "id": "e33b030c",
   "metadata": {},
   "outputs": [
    {
     "data": {
      "text/html": [
       "<div>\n",
       "<style scoped>\n",
       "    .dataframe tbody tr th:only-of-type {\n",
       "        vertical-align: middle;\n",
       "    }\n",
       "\n",
       "    .dataframe tbody tr th {\n",
       "        vertical-align: top;\n",
       "    }\n",
       "\n",
       "    .dataframe thead th {\n",
       "        text-align: right;\n",
       "    }\n",
       "</style>\n",
       "<table border=\"1\" class=\"dataframe\">\n",
       "  <thead>\n",
       "    <tr style=\"text-align: right;\">\n",
       "      <th></th>\n",
       "      <th>0</th>\n",
       "      <th>1</th>\n",
       "      <th>2</th>\n",
       "      <th>3</th>\n",
       "      <th>4</th>\n",
       "      <th>5</th>\n",
       "      <th>6</th>\n",
       "      <th>7</th>\n",
       "      <th>8</th>\n",
       "      <th>9</th>\n",
       "      <th>...</th>\n",
       "      <th>1575</th>\n",
       "      <th>1576</th>\n",
       "      <th>1577</th>\n",
       "      <th>1578</th>\n",
       "      <th>1579</th>\n",
       "      <th>1580</th>\n",
       "      <th>1581</th>\n",
       "      <th>1582</th>\n",
       "      <th>1583</th>\n",
       "      <th>1584</th>\n",
       "    </tr>\n",
       "  </thead>\n",
       "  <tbody>\n",
       "    <tr>\n",
       "      <th>Predicted</th>\n",
       "      <td>2</td>\n",
       "      <td>2</td>\n",
       "      <td>1</td>\n",
       "      <td>2</td>\n",
       "      <td>1</td>\n",
       "      <td>1</td>\n",
       "      <td>3</td>\n",
       "      <td>1</td>\n",
       "      <td>2</td>\n",
       "      <td>1</td>\n",
       "      <td>...</td>\n",
       "      <td>1</td>\n",
       "      <td>1</td>\n",
       "      <td>2</td>\n",
       "      <td>2</td>\n",
       "      <td>4</td>\n",
       "      <td>4</td>\n",
       "      <td>1</td>\n",
       "      <td>2</td>\n",
       "      <td>2</td>\n",
       "      <td>2</td>\n",
       "    </tr>\n",
       "    <tr>\n",
       "      <th>Original</th>\n",
       "      <td>2</td>\n",
       "      <td>2</td>\n",
       "      <td>1</td>\n",
       "      <td>2</td>\n",
       "      <td>1</td>\n",
       "      <td>1</td>\n",
       "      <td>3</td>\n",
       "      <td>1</td>\n",
       "      <td>2</td>\n",
       "      <td>1</td>\n",
       "      <td>...</td>\n",
       "      <td>1</td>\n",
       "      <td>1</td>\n",
       "      <td>2</td>\n",
       "      <td>2</td>\n",
       "      <td>4</td>\n",
       "      <td>4</td>\n",
       "      <td>1</td>\n",
       "      <td>2</td>\n",
       "      <td>2</td>\n",
       "      <td>2</td>\n",
       "    </tr>\n",
       "  </tbody>\n",
       "</table>\n",
       "<p>2 rows × 1585 columns</p>\n",
       "</div>"
      ],
      "text/plain": [
       "           0     1     2     3     4     5     6     7     8     9     ...  \\\n",
       "Predicted     2     2     1     2     1     1     3     1     2     1  ...   \n",
       "Original      2     2     1     2     1     1     3     1     2     1  ...   \n",
       "\n",
       "           1575  1576  1577  1578  1579  1580  1581  1582  1583  1584  \n",
       "Predicted     1     1     2     2     4     4     1     2     2     2  \n",
       "Original      1     1     2     2     4     4     1     2     2     2  \n",
       "\n",
       "[2 rows x 1585 columns]"
      ]
     },
     "execution_count": 141,
     "metadata": {},
     "output_type": "execute_result"
    }
   ],
   "source": [
    "Price_Conclusion"
   ]
  },
  {
   "cell_type": "code",
   "execution_count": null,
   "id": "458ac16f",
   "metadata": {},
   "outputs": [],
   "source": []
  }
 ],
 "metadata": {
  "kernelspec": {
   "display_name": "Python 3 (ipykernel)",
   "language": "python",
   "name": "python3"
  },
  "language_info": {
   "codemirror_mode": {
    "name": "ipython",
    "version": 3
   },
   "file_extension": ".py",
   "mimetype": "text/x-python",
   "name": "python",
   "nbconvert_exporter": "python",
   "pygments_lexer": "ipython3",
   "version": "3.9.12"
  }
 },
 "nbformat": 4,
 "nbformat_minor": 5
}
