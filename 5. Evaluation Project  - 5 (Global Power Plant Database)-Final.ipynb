{
 "cells": [
  {
   "cell_type": "markdown",
   "id": "e4a6d69b",
   "metadata": {},
   "source": [
    "# 5. Evaluation Project  - (Global Power Plant Database)"
   ]
  },
  {
   "cell_type": "markdown",
   "id": "947ac50a",
   "metadata": {},
   "source": [
    "# <span style=\"color:red\">By :- Punit Vishal Singh</span>"
   ]
  },
  {
   "cell_type": "markdown",
   "id": "6f2ad144",
   "metadata": {},
   "source": [
    "# <span style=\"color:blue\">-----------------------------------------------------------------------------------------------------------------</span>"
   ]
  },
  {
   "cell_type": "markdown",
   "id": "5b5a8f1a",
   "metadata": {},
   "source": [
    "__--> Description:__\n",
    "\n",
    "\n",
    "The Global Power Plant Database is a comprehensive, open source database of power plants around the world. It centralizes power plant data to make it easier to navigate, compare and draw insights for one’s own analysis. The database covers approximately 35,000 power plants from 167 countries and includes thermal plants (e.g. coal, gas, oil, nuclear, biomass, waste, geothermal) and renewables (e.g. hydro, wind, solar). Each power plant is geolocated and entries contain information on plant capacity, generation, ownership, and fuel type. It will be continuously updated as data becomes available. \n",
    "\n"
   ]
  },
  {
   "cell_type": "markdown",
   "id": "173f43de",
   "metadata": {},
   "source": [
    "# <span style=\"color:blue\">---------------------------------------------> Description  <---------------------------------------------</span>"
   ]
  },
  {
   "cell_type": "markdown",
   "id": "8c67211e",
   "metadata": {},
   "source": [
    "__Key attributes of the database\n",
    "The database includes the following indicators:__\n",
    "\n",
    "`country` (text): 3 character country code corresponding to the ISO 3166-1 alpha-3 specification [5]\n",
    "`country_long` (text): longer form of the country designation\n",
    "`name` (text): name or title of the power plant, generally in Romanized form\n",
    "`gppd_idnr` (text): 10 or 12 character identifier for the power plant\n",
    "`capacity_mw` (number): electrical generating capacity in megawatts\n",
    "`latitude` (number): geolocation in decimal degrees; WGS84 (EPSG:4326)\n",
    "`longitude` (number): geolocation in decimal degrees; WGS84 (EPSG:4326)\n",
    "`primary_fuel` (text): energy source used in primary electricity generation or export\n",
    "`other_fuel1` (text): energy source used in electricity generation or export\n",
    "`other_fuel2` (text): energy source used in electricity generation or export\n",
    "`other_fuel3` (text): energy source used in electricity generation or export\n",
    " `commissioning_year` (number): year of plant operation, weighted by unit-capacity when data is available\n",
    "`owner` (text): majority shareholder of the power plant, generally in Romanized form\n",
    "`source` (text): entity reporting the data; could be an organization, report, or document, generally in Romanized form\n",
    "`url` (text): web document corresponding to the `source` field\n",
    "`geolocation_source` (text): attribution for geolocation information\n",
    "`wepp_id` (text): a reference to a unique plant identifier in the widely-used PLATTS-WEPP database.\n",
    "`year_of_capacity_data` (number): year the capacity information was reported\n",
    "`generation_gwh_2013` (number): electricity generation in gigawatt-hours reported for the year 2013\n",
    "`generation_gwh_2014` (number): electricity generation in gigawatt-hours reported for the year 2014\n",
    "`generation_gwh_2015` (number): electricity generation in gigawatt-hours reported for the year 2015\n",
    "`generation_gwh_2016` (number): electricity generation in gigawatt-hours reported for the year 2016\n",
    "`generation_gwh_2017` (number): electricity generation in gigawatt-hours reported for the year 2017\n",
    "`generation_gwh_2018` (number): electricity generation in gigawatt-hours reported for the year 2018\n",
    "`generation_gwh_2019` (number): electricity generation in gigawatt-hours reported for the year 2019\n",
    "`generation_data_source` (text): attribution for the reported generation information\n",
    "`estimated_generation_gwh_2013` (number): estimated electricity generation in gigawatt-hours for the year 2013\n",
    "`estimated_generation_gwh_2014` (number): estimated electricity generation in gigawatt-hours for the year 2014 \n",
    "`estimated_generation_gwh_2015` (number): estimated electricity generation in gigawatt-hours for the year 2015 \n",
    "`estimated_generation_gwh_2016` (number): estimated electricity generation in gigawatt-hours for the year 2016 \n",
    "`estimated_generation_gwh_2017` (number): estimated electricity generation in gigawatt-hours for the year 2017 \n",
    "'estimated_generation_note_2013` (text): label of the model/method used to estimate generation for the year 2013\n",
    "`estimated_generation_note_2014` (text): label of the model/method used to estimate generation for the year 2014 \n",
    "`estimated_generation_note_2015` (text): label of the model/method used to estimate generation for the year 2015\n",
    "`estimated_generation_note_2016` (text): label of the model/method used to estimate generation for the year 2016\n",
    "`estimated_generation_note_2017` (text): label of the model/method used to estimate generation for the year 2017"
   ]
  },
  {
   "cell_type": "markdown",
   "id": "6a9769e9",
   "metadata": {},
   "source": [
    "# <span style=\"color:red\">----------------------------------------------> Objective <---------------------------------------------</span>"
   ]
  },
  {
   "cell_type": "markdown",
   "id": "c1fb167d",
   "metadata": {},
   "source": [
    "* __Make two prediction  1) Primary Fuel    2) capacity_mw__"
   ]
  },
  {
   "cell_type": "markdown",
   "id": "59b5cea0",
   "metadata": {},
   "source": [
    "# <span style=\"color:red\">-----------------------------------------------> Steps <--------------------------------------------------</span>"
   ]
  },
  {
   "cell_type": "markdown",
   "id": "3cc16c49",
   "metadata": {},
   "source": [
    "1. Exploratory data analysis\n",
    "\n",
    "2. Data modeling\n",
    "\n",
    "3. Outlier detection and skewness treatment\n",
    "\n",
    "4. Encoding the data — Label Encoder\n",
    "\n",
    "5. Scaling the data — Standard scaler\n",
    "\n",
    "6. Fitting the machine learning models\n",
    "\n",
    "7. Cross-validation of the selected model\n",
    "\n",
    "8. Model hypertuning\n",
    "\n",
    "9. AUC-ROC curve\n",
    "\n",
    "10. Saving the final model and prediction using saved model"
   ]
  },
  {
   "cell_type": "markdown",
   "id": "420052a3",
   "metadata": {},
   "source": [
    "### <span style=\"color:green\">Import Packages</span>"
   ]
  },
  {
   "cell_type": "code",
   "execution_count": 1,
   "id": "7023f9d4",
   "metadata": {},
   "outputs": [],
   "source": [
    "import pandas as pd\n",
    "import numpy as np\n",
    "import matplotlib.pyplot as plt\n",
    "import seaborn as sns\n",
    "from sklearn.preprocessing import StandardScaler\n",
    "from sklearn.model_selection import train_test_split, GridSearchCV\n",
    "from sklearn.linear_model import LinearRegression\n",
    "from sklearn.metrics import mean_absolute_error\n",
    "from sklearn.metrics import mean_squared_error\n",
    "from sklearn.metrics import r2_score\n",
    "import warnings\n",
    "import joblib\n",
    "warnings.filterwarnings('ignore')\n",
    "%matplotlib inline\n"
   ]
  },
  {
   "cell_type": "markdown",
   "id": "24d2fd24",
   "metadata": {},
   "source": [
    "### <span style=\"color:green\">Loading The Dataset...............</span>"
   ]
  },
  {
   "cell_type": "code",
   "execution_count": 2,
   "id": "f181a000",
   "metadata": {},
   "outputs": [],
   "source": [
    "df=pd.read_csv(\"database_IND.csv\")"
   ]
  },
  {
   "cell_type": "code",
   "execution_count": 3,
   "id": "4d45d8b6",
   "metadata": {},
   "outputs": [
    {
     "data": {
      "text/html": [
       "<div>\n",
       "<style scoped>\n",
       "    .dataframe tbody tr th:only-of-type {\n",
       "        vertical-align: middle;\n",
       "    }\n",
       "\n",
       "    .dataframe tbody tr th {\n",
       "        vertical-align: top;\n",
       "    }\n",
       "\n",
       "    .dataframe thead th {\n",
       "        text-align: right;\n",
       "    }\n",
       "</style>\n",
       "<table border=\"1\" class=\"dataframe\">\n",
       "  <thead>\n",
       "    <tr style=\"text-align: right;\">\n",
       "      <th></th>\n",
       "      <th>country</th>\n",
       "      <th>country_long</th>\n",
       "      <th>name</th>\n",
       "      <th>gppd_idnr</th>\n",
       "      <th>capacity_mw</th>\n",
       "      <th>latitude</th>\n",
       "      <th>longitude</th>\n",
       "      <th>primary_fuel</th>\n",
       "      <th>other_fuel1</th>\n",
       "      <th>other_fuel2</th>\n",
       "      <th>...</th>\n",
       "      <th>year_of_capacity_data</th>\n",
       "      <th>generation_gwh_2013</th>\n",
       "      <th>generation_gwh_2014</th>\n",
       "      <th>generation_gwh_2015</th>\n",
       "      <th>generation_gwh_2016</th>\n",
       "      <th>generation_gwh_2017</th>\n",
       "      <th>generation_gwh_2018</th>\n",
       "      <th>generation_gwh_2019</th>\n",
       "      <th>generation_data_source</th>\n",
       "      <th>estimated_generation_gwh</th>\n",
       "    </tr>\n",
       "  </thead>\n",
       "  <tbody>\n",
       "    <tr>\n",
       "      <th>0</th>\n",
       "      <td>IND</td>\n",
       "      <td>India</td>\n",
       "      <td>ACME Solar Tower</td>\n",
       "      <td>WRI1020239</td>\n",
       "      <td>2.5</td>\n",
       "      <td>28.1839</td>\n",
       "      <td>73.2407</td>\n",
       "      <td>Solar</td>\n",
       "      <td>NaN</td>\n",
       "      <td>NaN</td>\n",
       "      <td>...</td>\n",
       "      <td>NaN</td>\n",
       "      <td>NaN</td>\n",
       "      <td>NaN</td>\n",
       "      <td>NaN</td>\n",
       "      <td>NaN</td>\n",
       "      <td>NaN</td>\n",
       "      <td>NaN</td>\n",
       "      <td>NaN</td>\n",
       "      <td>NaN</td>\n",
       "      <td>NaN</td>\n",
       "    </tr>\n",
       "    <tr>\n",
       "      <th>1</th>\n",
       "      <td>IND</td>\n",
       "      <td>India</td>\n",
       "      <td>ADITYA CEMENT WORKS</td>\n",
       "      <td>WRI1019881</td>\n",
       "      <td>98.0</td>\n",
       "      <td>24.7663</td>\n",
       "      <td>74.6090</td>\n",
       "      <td>Coal</td>\n",
       "      <td>NaN</td>\n",
       "      <td>NaN</td>\n",
       "      <td>...</td>\n",
       "      <td>NaN</td>\n",
       "      <td>NaN</td>\n",
       "      <td>NaN</td>\n",
       "      <td>NaN</td>\n",
       "      <td>NaN</td>\n",
       "      <td>NaN</td>\n",
       "      <td>NaN</td>\n",
       "      <td>NaN</td>\n",
       "      <td>NaN</td>\n",
       "      <td>NaN</td>\n",
       "    </tr>\n",
       "    <tr>\n",
       "      <th>2</th>\n",
       "      <td>IND</td>\n",
       "      <td>India</td>\n",
       "      <td>AES Saurashtra Windfarms</td>\n",
       "      <td>WRI1026669</td>\n",
       "      <td>39.2</td>\n",
       "      <td>21.9038</td>\n",
       "      <td>69.3732</td>\n",
       "      <td>Wind</td>\n",
       "      <td>NaN</td>\n",
       "      <td>NaN</td>\n",
       "      <td>...</td>\n",
       "      <td>NaN</td>\n",
       "      <td>NaN</td>\n",
       "      <td>NaN</td>\n",
       "      <td>NaN</td>\n",
       "      <td>NaN</td>\n",
       "      <td>NaN</td>\n",
       "      <td>NaN</td>\n",
       "      <td>NaN</td>\n",
       "      <td>NaN</td>\n",
       "      <td>NaN</td>\n",
       "    </tr>\n",
       "    <tr>\n",
       "      <th>3</th>\n",
       "      <td>IND</td>\n",
       "      <td>India</td>\n",
       "      <td>AGARTALA GT</td>\n",
       "      <td>IND0000001</td>\n",
       "      <td>135.0</td>\n",
       "      <td>23.8712</td>\n",
       "      <td>91.3602</td>\n",
       "      <td>Gas</td>\n",
       "      <td>NaN</td>\n",
       "      <td>NaN</td>\n",
       "      <td>...</td>\n",
       "      <td>2019.0</td>\n",
       "      <td>NaN</td>\n",
       "      <td>617.789264</td>\n",
       "      <td>843.747000</td>\n",
       "      <td>886.004428</td>\n",
       "      <td>663.774500</td>\n",
       "      <td>626.239128</td>\n",
       "      <td>NaN</td>\n",
       "      <td>Central Electricity Authority</td>\n",
       "      <td>NaN</td>\n",
       "    </tr>\n",
       "    <tr>\n",
       "      <th>4</th>\n",
       "      <td>IND</td>\n",
       "      <td>India</td>\n",
       "      <td>AKALTARA TPP</td>\n",
       "      <td>IND0000002</td>\n",
       "      <td>1800.0</td>\n",
       "      <td>21.9603</td>\n",
       "      <td>82.4091</td>\n",
       "      <td>Coal</td>\n",
       "      <td>Oil</td>\n",
       "      <td>NaN</td>\n",
       "      <td>...</td>\n",
       "      <td>2019.0</td>\n",
       "      <td>NaN</td>\n",
       "      <td>3035.550000</td>\n",
       "      <td>5916.370000</td>\n",
       "      <td>6243.000000</td>\n",
       "      <td>5385.579736</td>\n",
       "      <td>7279.000000</td>\n",
       "      <td>NaN</td>\n",
       "      <td>Central Electricity Authority</td>\n",
       "      <td>NaN</td>\n",
       "    </tr>\n",
       "    <tr>\n",
       "      <th>...</th>\n",
       "      <td>...</td>\n",
       "      <td>...</td>\n",
       "      <td>...</td>\n",
       "      <td>...</td>\n",
       "      <td>...</td>\n",
       "      <td>...</td>\n",
       "      <td>...</td>\n",
       "      <td>...</td>\n",
       "      <td>...</td>\n",
       "      <td>...</td>\n",
       "      <td>...</td>\n",
       "      <td>...</td>\n",
       "      <td>...</td>\n",
       "      <td>...</td>\n",
       "      <td>...</td>\n",
       "      <td>...</td>\n",
       "      <td>...</td>\n",
       "      <td>...</td>\n",
       "      <td>...</td>\n",
       "      <td>...</td>\n",
       "      <td>...</td>\n",
       "    </tr>\n",
       "    <tr>\n",
       "      <th>902</th>\n",
       "      <td>IND</td>\n",
       "      <td>India</td>\n",
       "      <td>YERMARUS TPP</td>\n",
       "      <td>IND0000513</td>\n",
       "      <td>1600.0</td>\n",
       "      <td>16.2949</td>\n",
       "      <td>77.3568</td>\n",
       "      <td>Coal</td>\n",
       "      <td>Oil</td>\n",
       "      <td>NaN</td>\n",
       "      <td>...</td>\n",
       "      <td>2019.0</td>\n",
       "      <td>NaN</td>\n",
       "      <td>NaN</td>\n",
       "      <td>0.994875</td>\n",
       "      <td>233.596650</td>\n",
       "      <td>865.400000</td>\n",
       "      <td>686.500000</td>\n",
       "      <td>NaN</td>\n",
       "      <td>Central Electricity Authority</td>\n",
       "      <td>NaN</td>\n",
       "    </tr>\n",
       "    <tr>\n",
       "      <th>903</th>\n",
       "      <td>IND</td>\n",
       "      <td>India</td>\n",
       "      <td>Yelesandra Solar Power Plant</td>\n",
       "      <td>WRI1026222</td>\n",
       "      <td>3.0</td>\n",
       "      <td>12.8932</td>\n",
       "      <td>78.1654</td>\n",
       "      <td>Solar</td>\n",
       "      <td>NaN</td>\n",
       "      <td>NaN</td>\n",
       "      <td>...</td>\n",
       "      <td>NaN</td>\n",
       "      <td>NaN</td>\n",
       "      <td>NaN</td>\n",
       "      <td>NaN</td>\n",
       "      <td>NaN</td>\n",
       "      <td>NaN</td>\n",
       "      <td>NaN</td>\n",
       "      <td>NaN</td>\n",
       "      <td>NaN</td>\n",
       "      <td>NaN</td>\n",
       "    </tr>\n",
       "    <tr>\n",
       "      <th>904</th>\n",
       "      <td>IND</td>\n",
       "      <td>India</td>\n",
       "      <td>Yelisirur wind power project</td>\n",
       "      <td>WRI1026776</td>\n",
       "      <td>25.5</td>\n",
       "      <td>15.2758</td>\n",
       "      <td>75.5811</td>\n",
       "      <td>Wind</td>\n",
       "      <td>NaN</td>\n",
       "      <td>NaN</td>\n",
       "      <td>...</td>\n",
       "      <td>NaN</td>\n",
       "      <td>NaN</td>\n",
       "      <td>NaN</td>\n",
       "      <td>NaN</td>\n",
       "      <td>NaN</td>\n",
       "      <td>NaN</td>\n",
       "      <td>NaN</td>\n",
       "      <td>NaN</td>\n",
       "      <td>NaN</td>\n",
       "      <td>NaN</td>\n",
       "    </tr>\n",
       "    <tr>\n",
       "      <th>905</th>\n",
       "      <td>IND</td>\n",
       "      <td>India</td>\n",
       "      <td>ZAWAR MINES</td>\n",
       "      <td>WRI1019901</td>\n",
       "      <td>80.0</td>\n",
       "      <td>24.3500</td>\n",
       "      <td>73.7477</td>\n",
       "      <td>Coal</td>\n",
       "      <td>NaN</td>\n",
       "      <td>NaN</td>\n",
       "      <td>...</td>\n",
       "      <td>NaN</td>\n",
       "      <td>NaN</td>\n",
       "      <td>NaN</td>\n",
       "      <td>NaN</td>\n",
       "      <td>NaN</td>\n",
       "      <td>NaN</td>\n",
       "      <td>NaN</td>\n",
       "      <td>NaN</td>\n",
       "      <td>NaN</td>\n",
       "      <td>NaN</td>\n",
       "    </tr>\n",
       "    <tr>\n",
       "      <th>906</th>\n",
       "      <td>IND</td>\n",
       "      <td>India</td>\n",
       "      <td>iEnergy Theni Wind Farm</td>\n",
       "      <td>WRI1026761</td>\n",
       "      <td>16.5</td>\n",
       "      <td>9.9344</td>\n",
       "      <td>77.4768</td>\n",
       "      <td>Wind</td>\n",
       "      <td>NaN</td>\n",
       "      <td>NaN</td>\n",
       "      <td>...</td>\n",
       "      <td>NaN</td>\n",
       "      <td>NaN</td>\n",
       "      <td>NaN</td>\n",
       "      <td>NaN</td>\n",
       "      <td>NaN</td>\n",
       "      <td>NaN</td>\n",
       "      <td>NaN</td>\n",
       "      <td>NaN</td>\n",
       "      <td>NaN</td>\n",
       "      <td>NaN</td>\n",
       "    </tr>\n",
       "  </tbody>\n",
       "</table>\n",
       "<p>907 rows × 27 columns</p>\n",
       "</div>"
      ],
      "text/plain": [
       "    country country_long                          name   gppd_idnr  \\\n",
       "0       IND        India              ACME Solar Tower  WRI1020239   \n",
       "1       IND        India           ADITYA CEMENT WORKS  WRI1019881   \n",
       "2       IND        India      AES Saurashtra Windfarms  WRI1026669   \n",
       "3       IND        India                   AGARTALA GT  IND0000001   \n",
       "4       IND        India                  AKALTARA TPP  IND0000002   \n",
       "..      ...          ...                           ...         ...   \n",
       "902     IND        India                  YERMARUS TPP  IND0000513   \n",
       "903     IND        India  Yelesandra Solar Power Plant  WRI1026222   \n",
       "904     IND        India  Yelisirur wind power project  WRI1026776   \n",
       "905     IND        India                   ZAWAR MINES  WRI1019901   \n",
       "906     IND        India       iEnergy Theni Wind Farm  WRI1026761   \n",
       "\n",
       "     capacity_mw  latitude  longitude primary_fuel other_fuel1 other_fuel2  \\\n",
       "0            2.5   28.1839    73.2407        Solar         NaN         NaN   \n",
       "1           98.0   24.7663    74.6090         Coal         NaN         NaN   \n",
       "2           39.2   21.9038    69.3732         Wind         NaN         NaN   \n",
       "3          135.0   23.8712    91.3602          Gas         NaN         NaN   \n",
       "4         1800.0   21.9603    82.4091         Coal         Oil         NaN   \n",
       "..           ...       ...        ...          ...         ...         ...   \n",
       "902       1600.0   16.2949    77.3568         Coal         Oil         NaN   \n",
       "903          3.0   12.8932    78.1654        Solar         NaN         NaN   \n",
       "904         25.5   15.2758    75.5811         Wind         NaN         NaN   \n",
       "905         80.0   24.3500    73.7477         Coal         NaN         NaN   \n",
       "906         16.5    9.9344    77.4768         Wind         NaN         NaN   \n",
       "\n",
       "     ...  year_of_capacity_data  generation_gwh_2013 generation_gwh_2014  \\\n",
       "0    ...                    NaN                  NaN                 NaN   \n",
       "1    ...                    NaN                  NaN                 NaN   \n",
       "2    ...                    NaN                  NaN                 NaN   \n",
       "3    ...                 2019.0                  NaN          617.789264   \n",
       "4    ...                 2019.0                  NaN         3035.550000   \n",
       "..   ...                    ...                  ...                 ...   \n",
       "902  ...                 2019.0                  NaN                 NaN   \n",
       "903  ...                    NaN                  NaN                 NaN   \n",
       "904  ...                    NaN                  NaN                 NaN   \n",
       "905  ...                    NaN                  NaN                 NaN   \n",
       "906  ...                    NaN                  NaN                 NaN   \n",
       "\n",
       "    generation_gwh_2015 generation_gwh_2016 generation_gwh_2017  \\\n",
       "0                   NaN                 NaN                 NaN   \n",
       "1                   NaN                 NaN                 NaN   \n",
       "2                   NaN                 NaN                 NaN   \n",
       "3            843.747000          886.004428          663.774500   \n",
       "4           5916.370000         6243.000000         5385.579736   \n",
       "..                  ...                 ...                 ...   \n",
       "902            0.994875          233.596650          865.400000   \n",
       "903                 NaN                 NaN                 NaN   \n",
       "904                 NaN                 NaN                 NaN   \n",
       "905                 NaN                 NaN                 NaN   \n",
       "906                 NaN                 NaN                 NaN   \n",
       "\n",
       "     generation_gwh_2018  generation_gwh_2019         generation_data_source  \\\n",
       "0                    NaN                  NaN                            NaN   \n",
       "1                    NaN                  NaN                            NaN   \n",
       "2                    NaN                  NaN                            NaN   \n",
       "3             626.239128                  NaN  Central Electricity Authority   \n",
       "4            7279.000000                  NaN  Central Electricity Authority   \n",
       "..                   ...                  ...                            ...   \n",
       "902           686.500000                  NaN  Central Electricity Authority   \n",
       "903                  NaN                  NaN                            NaN   \n",
       "904                  NaN                  NaN                            NaN   \n",
       "905                  NaN                  NaN                            NaN   \n",
       "906                  NaN                  NaN                            NaN   \n",
       "\n",
       "     estimated_generation_gwh  \n",
       "0                         NaN  \n",
       "1                         NaN  \n",
       "2                         NaN  \n",
       "3                         NaN  \n",
       "4                         NaN  \n",
       "..                        ...  \n",
       "902                       NaN  \n",
       "903                       NaN  \n",
       "904                       NaN  \n",
       "905                       NaN  \n",
       "906                       NaN  \n",
       "\n",
       "[907 rows x 27 columns]"
      ]
     },
     "execution_count": 3,
     "metadata": {},
     "output_type": "execute_result"
    }
   ],
   "source": [
    "df"
   ]
  },
  {
   "cell_type": "markdown",
   "id": "4b97deaf",
   "metadata": {},
   "source": [
    "# <span style=\"color:red\">Data Preparation & Cleaning</span>\n"
   ]
  },
  {
   "cell_type": "code",
   "execution_count": 4,
   "id": "f15e2068",
   "metadata": {},
   "outputs": [
    {
     "name": "stdout",
     "output_type": "stream",
     "text": [
      "<class 'pandas.core.frame.DataFrame'>\n",
      "RangeIndex: 907 entries, 0 to 906\n",
      "Data columns (total 27 columns):\n",
      " #   Column                    Non-Null Count  Dtype  \n",
      "---  ------                    --------------  -----  \n",
      " 0   country                   907 non-null    object \n",
      " 1   country_long              907 non-null    object \n",
      " 2   name                      907 non-null    object \n",
      " 3   gppd_idnr                 907 non-null    object \n",
      " 4   capacity_mw               907 non-null    float64\n",
      " 5   latitude                  861 non-null    float64\n",
      " 6   longitude                 861 non-null    float64\n",
      " 7   primary_fuel              907 non-null    object \n",
      " 8   other_fuel1               198 non-null    object \n",
      " 9   other_fuel2               1 non-null      object \n",
      " 10  other_fuel3               0 non-null      float64\n",
      " 11  commissioning_year        527 non-null    float64\n",
      " 12  owner                     342 non-null    object \n",
      " 13  source                    907 non-null    object \n",
      " 14  url                       907 non-null    object \n",
      " 15  geolocation_source        888 non-null    object \n",
      " 16  wepp_id                   0 non-null      float64\n",
      " 17  year_of_capacity_data     519 non-null    float64\n",
      " 18  generation_gwh_2013       0 non-null      float64\n",
      " 19  generation_gwh_2014       398 non-null    float64\n",
      " 20  generation_gwh_2015       422 non-null    float64\n",
      " 21  generation_gwh_2016       434 non-null    float64\n",
      " 22  generation_gwh_2017       440 non-null    float64\n",
      " 23  generation_gwh_2018       448 non-null    float64\n",
      " 24  generation_gwh_2019       0 non-null      float64\n",
      " 25  generation_data_source    449 non-null    object \n",
      " 26  estimated_generation_gwh  0 non-null      float64\n",
      "dtypes: float64(15), object(12)\n",
      "memory usage: 191.4+ KB\n"
     ]
    }
   ],
   "source": [
    "df.info()"
   ]
  },
  {
   "cell_type": "markdown",
   "id": "ba36704d",
   "metadata": {},
   "source": [
    "#### <span style=\"color:blue\">Observation:-</span>\n",
    "\n",
    "- Here, we can see that, few columns are there which contains NaN values in the given dataset."
   ]
  },
  {
   "cell_type": "code",
   "execution_count": 5,
   "id": "d16051d6",
   "metadata": {},
   "outputs": [
    {
     "data": {
      "text/plain": [
       "pandas.core.frame.DataFrame"
      ]
     },
     "execution_count": 5,
     "metadata": {},
     "output_type": "execute_result"
    }
   ],
   "source": [
    "type(df)"
   ]
  },
  {
   "cell_type": "markdown",
   "id": "65293add",
   "metadata": {},
   "source": [
    "### <span style=\"color:green\">Checking Column Names</span>"
   ]
  },
  {
   "cell_type": "code",
   "execution_count": 6,
   "id": "eeca543b",
   "metadata": {},
   "outputs": [
    {
     "data": {
      "text/plain": [
       "Index(['country', 'country_long', 'name', 'gppd_idnr', 'capacity_mw',\n",
       "       'latitude', 'longitude', 'primary_fuel', 'other_fuel1', 'other_fuel2',\n",
       "       'other_fuel3', 'commissioning_year', 'owner', 'source', 'url',\n",
       "       'geolocation_source', 'wepp_id', 'year_of_capacity_data',\n",
       "       'generation_gwh_2013', 'generation_gwh_2014', 'generation_gwh_2015',\n",
       "       'generation_gwh_2016', 'generation_gwh_2017', 'generation_gwh_2018',\n",
       "       'generation_gwh_2019', 'generation_data_source',\n",
       "       'estimated_generation_gwh'],\n",
       "      dtype='object')"
      ]
     },
     "execution_count": 6,
     "metadata": {},
     "output_type": "execute_result"
    }
   ],
   "source": [
    "df.columns"
   ]
  },
  {
   "cell_type": "code",
   "execution_count": 7,
   "id": "1fd339c3",
   "metadata": {},
   "outputs": [
    {
     "name": "stdout",
     "output_type": "stream",
     "text": [
      "There are 907 rows and 27 columns\n"
     ]
    }
   ],
   "source": [
    "nRow, nCol = df.shape\n",
    "print(f'There are {nRow} rows and {nCol} columns')"
   ]
  },
  {
   "cell_type": "markdown",
   "id": "72d90ed2",
   "metadata": {},
   "source": [
    "### <span style=\"color:green\">To check the number of columns of object datatype</span>"
   ]
  },
  {
   "cell_type": "code",
   "execution_count": 8,
   "id": "f4bbb8af",
   "metadata": {},
   "outputs": [
    {
     "name": "stdout",
     "output_type": "stream",
     "text": [
      "Categorical variables: 12\n"
     ]
    }
   ],
   "source": [
    "obj = (df.dtypes == 'object')\n",
    "print(\"Categorical variables:\",len(list(obj[obj].index)))"
   ]
  },
  {
   "cell_type": "markdown",
   "id": "2061ab5c",
   "metadata": {},
   "source": [
    "# <span style=\"color:red\">Exploratory Data Analysis (EDA)</span>"
   ]
  },
  {
   "cell_type": "markdown",
   "id": "f213b413",
   "metadata": {},
   "source": [
    "### <span style=\"color:green\">Checking Null/Missing Values</span>"
   ]
  },
  {
   "cell_type": "code",
   "execution_count": 9,
   "id": "20bc4751",
   "metadata": {},
   "outputs": [
    {
     "data": {
      "text/plain": [
       "country                       0\n",
       "country_long                  0\n",
       "name                          0\n",
       "gppd_idnr                     0\n",
       "capacity_mw                   0\n",
       "latitude                     46\n",
       "longitude                    46\n",
       "primary_fuel                  0\n",
       "other_fuel1                 709\n",
       "other_fuel2                 906\n",
       "other_fuel3                 907\n",
       "commissioning_year          380\n",
       "owner                       565\n",
       "source                        0\n",
       "url                           0\n",
       "geolocation_source           19\n",
       "wepp_id                     907\n",
       "year_of_capacity_data       388\n",
       "generation_gwh_2013         907\n",
       "generation_gwh_2014         509\n",
       "generation_gwh_2015         485\n",
       "generation_gwh_2016         473\n",
       "generation_gwh_2017         467\n",
       "generation_gwh_2018         459\n",
       "generation_gwh_2019         907\n",
       "generation_data_source      458\n",
       "estimated_generation_gwh    907\n",
       "dtype: int64"
      ]
     },
     "execution_count": 9,
     "metadata": {},
     "output_type": "execute_result"
    }
   ],
   "source": [
    "df.isnull().sum()"
   ]
  },
  {
   "cell_type": "markdown",
   "id": "06e9e86d",
   "metadata": {},
   "source": [
    "### <span style=\"color:blue\">How To Treat The Null Values?</span>"
   ]
  },
  {
   "cell_type": "markdown",
   "id": "59b5e313",
   "metadata": {},
   "source": [
    "- We will fill all the NaN Values with the Median of each column. \n",
    "- We can drop all the Nan values from the dataset by using #df=df.dropna() or we can replace it with mean or median \n",
    "- We are not replacing NaN with Mean because most of the columns are categorical in nature in the range of (0,1) which will not work.\n",
    "- We are going to replace the Nan values with Median."
   ]
  },
  {
   "cell_type": "code",
   "execution_count": 10,
   "id": "6f8b4391",
   "metadata": {},
   "outputs": [
    {
     "data": {
      "text/html": [
       "<div>\n",
       "<style scoped>\n",
       "    .dataframe tbody tr th:only-of-type {\n",
       "        vertical-align: middle;\n",
       "    }\n",
       "\n",
       "    .dataframe tbody tr th {\n",
       "        vertical-align: top;\n",
       "    }\n",
       "\n",
       "    .dataframe thead th {\n",
       "        text-align: right;\n",
       "    }\n",
       "</style>\n",
       "<table border=\"1\" class=\"dataframe\">\n",
       "  <thead>\n",
       "    <tr style=\"text-align: right;\">\n",
       "      <th></th>\n",
       "      <th>capacity_mw</th>\n",
       "      <th>latitude</th>\n",
       "      <th>longitude</th>\n",
       "      <th>other_fuel3</th>\n",
       "      <th>commissioning_year</th>\n",
       "      <th>wepp_id</th>\n",
       "      <th>year_of_capacity_data</th>\n",
       "      <th>generation_gwh_2013</th>\n",
       "      <th>generation_gwh_2014</th>\n",
       "      <th>generation_gwh_2015</th>\n",
       "      <th>generation_gwh_2016</th>\n",
       "      <th>generation_gwh_2017</th>\n",
       "      <th>generation_gwh_2018</th>\n",
       "      <th>generation_gwh_2019</th>\n",
       "      <th>estimated_generation_gwh</th>\n",
       "    </tr>\n",
       "  </thead>\n",
       "  <tbody>\n",
       "    <tr>\n",
       "      <th>count</th>\n",
       "      <td>907.000000</td>\n",
       "      <td>861.000000</td>\n",
       "      <td>861.000000</td>\n",
       "      <td>0.0</td>\n",
       "      <td>527.000000</td>\n",
       "      <td>0.0</td>\n",
       "      <td>519.0</td>\n",
       "      <td>0.0</td>\n",
       "      <td>398.000000</td>\n",
       "      <td>422.000000</td>\n",
       "      <td>434.000000</td>\n",
       "      <td>440.000000</td>\n",
       "      <td>448.000000</td>\n",
       "      <td>0.0</td>\n",
       "      <td>0.0</td>\n",
       "    </tr>\n",
       "    <tr>\n",
       "      <th>mean</th>\n",
       "      <td>326.223755</td>\n",
       "      <td>21.197918</td>\n",
       "      <td>77.464907</td>\n",
       "      <td>NaN</td>\n",
       "      <td>1997.091082</td>\n",
       "      <td>NaN</td>\n",
       "      <td>2019.0</td>\n",
       "      <td>NaN</td>\n",
       "      <td>2431.823590</td>\n",
       "      <td>2428.226946</td>\n",
       "      <td>2467.936859</td>\n",
       "      <td>2547.759305</td>\n",
       "      <td>2600.804099</td>\n",
       "      <td>NaN</td>\n",
       "      <td>NaN</td>\n",
       "    </tr>\n",
       "    <tr>\n",
       "      <th>std</th>\n",
       "      <td>590.085456</td>\n",
       "      <td>6.239612</td>\n",
       "      <td>4.939316</td>\n",
       "      <td>NaN</td>\n",
       "      <td>17.082868</td>\n",
       "      <td>NaN</td>\n",
       "      <td>0.0</td>\n",
       "      <td>NaN</td>\n",
       "      <td>4026.440035</td>\n",
       "      <td>4194.596959</td>\n",
       "      <td>4162.884308</td>\n",
       "      <td>4196.991169</td>\n",
       "      <td>4314.880456</td>\n",
       "      <td>NaN</td>\n",
       "      <td>NaN</td>\n",
       "    </tr>\n",
       "    <tr>\n",
       "      <th>min</th>\n",
       "      <td>0.000000</td>\n",
       "      <td>8.168900</td>\n",
       "      <td>68.644700</td>\n",
       "      <td>NaN</td>\n",
       "      <td>1927.000000</td>\n",
       "      <td>NaN</td>\n",
       "      <td>2019.0</td>\n",
       "      <td>NaN</td>\n",
       "      <td>0.000000</td>\n",
       "      <td>0.000000</td>\n",
       "      <td>0.000000</td>\n",
       "      <td>0.000000</td>\n",
       "      <td>0.000000</td>\n",
       "      <td>NaN</td>\n",
       "      <td>NaN</td>\n",
       "    </tr>\n",
       "    <tr>\n",
       "      <th>25%</th>\n",
       "      <td>16.725000</td>\n",
       "      <td>16.773900</td>\n",
       "      <td>74.256200</td>\n",
       "      <td>NaN</td>\n",
       "      <td>1988.000000</td>\n",
       "      <td>NaN</td>\n",
       "      <td>2019.0</td>\n",
       "      <td>NaN</td>\n",
       "      <td>223.557672</td>\n",
       "      <td>176.381063</td>\n",
       "      <td>188.285252</td>\n",
       "      <td>177.874930</td>\n",
       "      <td>193.378250</td>\n",
       "      <td>NaN</td>\n",
       "      <td>NaN</td>\n",
       "    </tr>\n",
       "    <tr>\n",
       "      <th>50%</th>\n",
       "      <td>59.200000</td>\n",
       "      <td>21.780000</td>\n",
       "      <td>76.719500</td>\n",
       "      <td>NaN</td>\n",
       "      <td>2001.000000</td>\n",
       "      <td>NaN</td>\n",
       "      <td>2019.0</td>\n",
       "      <td>NaN</td>\n",
       "      <td>801.123775</td>\n",
       "      <td>711.181225</td>\n",
       "      <td>737.205450</td>\n",
       "      <td>817.977250</td>\n",
       "      <td>751.644375</td>\n",
       "      <td>NaN</td>\n",
       "      <td>NaN</td>\n",
       "    </tr>\n",
       "    <tr>\n",
       "      <th>75%</th>\n",
       "      <td>385.250000</td>\n",
       "      <td>25.512400</td>\n",
       "      <td>79.440800</td>\n",
       "      <td>NaN</td>\n",
       "      <td>2012.000000</td>\n",
       "      <td>NaN</td>\n",
       "      <td>2019.0</td>\n",
       "      <td>NaN</td>\n",
       "      <td>3035.306250</td>\n",
       "      <td>3084.121250</td>\n",
       "      <td>3282.861313</td>\n",
       "      <td>3275.690475</td>\n",
       "      <td>3143.535900</td>\n",
       "      <td>NaN</td>\n",
       "      <td>NaN</td>\n",
       "    </tr>\n",
       "    <tr>\n",
       "      <th>max</th>\n",
       "      <td>4760.000000</td>\n",
       "      <td>34.649000</td>\n",
       "      <td>95.408000</td>\n",
       "      <td>NaN</td>\n",
       "      <td>2018.000000</td>\n",
       "      <td>NaN</td>\n",
       "      <td>2019.0</td>\n",
       "      <td>NaN</td>\n",
       "      <td>28127.000000</td>\n",
       "      <td>30539.000000</td>\n",
       "      <td>30015.000000</td>\n",
       "      <td>35116.000000</td>\n",
       "      <td>35136.000000</td>\n",
       "      <td>NaN</td>\n",
       "      <td>NaN</td>\n",
       "    </tr>\n",
       "  </tbody>\n",
       "</table>\n",
       "</div>"
      ],
      "text/plain": [
       "       capacity_mw    latitude   longitude  other_fuel3  commissioning_year  \\\n",
       "count   907.000000  861.000000  861.000000          0.0          527.000000   \n",
       "mean    326.223755   21.197918   77.464907          NaN         1997.091082   \n",
       "std     590.085456    6.239612    4.939316          NaN           17.082868   \n",
       "min       0.000000    8.168900   68.644700          NaN         1927.000000   \n",
       "25%      16.725000   16.773900   74.256200          NaN         1988.000000   \n",
       "50%      59.200000   21.780000   76.719500          NaN         2001.000000   \n",
       "75%     385.250000   25.512400   79.440800          NaN         2012.000000   \n",
       "max    4760.000000   34.649000   95.408000          NaN         2018.000000   \n",
       "\n",
       "       wepp_id  year_of_capacity_data  generation_gwh_2013  \\\n",
       "count      0.0                  519.0                  0.0   \n",
       "mean       NaN                 2019.0                  NaN   \n",
       "std        NaN                    0.0                  NaN   \n",
       "min        NaN                 2019.0                  NaN   \n",
       "25%        NaN                 2019.0                  NaN   \n",
       "50%        NaN                 2019.0                  NaN   \n",
       "75%        NaN                 2019.0                  NaN   \n",
       "max        NaN                 2019.0                  NaN   \n",
       "\n",
       "       generation_gwh_2014  generation_gwh_2015  generation_gwh_2016  \\\n",
       "count           398.000000           422.000000           434.000000   \n",
       "mean           2431.823590          2428.226946          2467.936859   \n",
       "std            4026.440035          4194.596959          4162.884308   \n",
       "min               0.000000             0.000000             0.000000   \n",
       "25%             223.557672           176.381063           188.285252   \n",
       "50%             801.123775           711.181225           737.205450   \n",
       "75%            3035.306250          3084.121250          3282.861313   \n",
       "max           28127.000000         30539.000000         30015.000000   \n",
       "\n",
       "       generation_gwh_2017  generation_gwh_2018  generation_gwh_2019  \\\n",
       "count           440.000000           448.000000                  0.0   \n",
       "mean           2547.759305          2600.804099                  NaN   \n",
       "std            4196.991169          4314.880456                  NaN   \n",
       "min               0.000000             0.000000                  NaN   \n",
       "25%             177.874930           193.378250                  NaN   \n",
       "50%             817.977250           751.644375                  NaN   \n",
       "75%            3275.690475          3143.535900                  NaN   \n",
       "max           35116.000000         35136.000000                  NaN   \n",
       "\n",
       "       estimated_generation_gwh  \n",
       "count                       0.0  \n",
       "mean                        NaN  \n",
       "std                         NaN  \n",
       "min                         NaN  \n",
       "25%                         NaN  \n",
       "50%                         NaN  \n",
       "75%                         NaN  \n",
       "max                         NaN  "
      ]
     },
     "execution_count": 10,
     "metadata": {},
     "output_type": "execute_result"
    }
   ],
   "source": [
    "df.describe()"
   ]
  },
  {
   "cell_type": "markdown",
   "id": "60b45fc0",
   "metadata": {},
   "source": [
    "### <span style=\"color:green\">** To Print All Of The Object Data Type & Their Unique Values All Together</span>"
   ]
  },
  {
   "cell_type": "code",
   "execution_count": 11,
   "id": "9bd77d2d",
   "metadata": {},
   "outputs": [
    {
     "name": "stdout",
     "output_type": "stream",
     "text": [
      "country : ['IND']\n",
      "IND    907\n",
      "Name: country, dtype: int64\n",
      "-----------------------------------------------------------------------------------------------------------\n",
      "country_long : ['India']\n",
      "India    907\n",
      "Name: country_long, dtype: int64\n",
      "-----------------------------------------------------------------------------------------------------------\n",
      "name : ['ACME Solar Tower' 'ADITYA CEMENT WORKS' 'AES Saurashtra Windfarms'\n",
      " 'AGARTALA GT' 'AKALTARA TPP' 'AKRIMOTA LIG' 'ALIYAR' 'ALLAIN DUHANGAN'\n",
      " 'ALMATTI DAM' 'AMAR KANTAK' 'AMARAVATI TPP' 'ANANDPUR SAHIB ST-I&II'\n",
      " 'ANAPARA \"C\"' 'ANDHRA' 'ANOOPGARH ST I&II' 'ANPARA' 'ANTA GT' 'ANUPPUR'\n",
      " 'ANUPUR TPP' 'ARVINDNAGAR SUGAR' 'ASHOKNAGAR MILL' 'ATHANI SUGAR'\n",
      " 'AURAIYA GT' 'AVANTHA BHANDAR TPP' 'AWARPUR CEMENT PLANT' 'Abhijeet'\n",
      " 'Amarsar Solar Power Plant' 'Anabura Wind Farm'\n",
      " 'Ananthapur - Meil Solar Power Plant' 'Andrha Lake Wind Farm'\n",
      " 'Anikkadavu Wind Farm' 'Arasinagundi Wind Farm'\n",
      " 'Askandra - DREPL Solar Power Plant'\n",
      " 'Askandra - Electromech Maritech Solar Power Plant'\n",
      " 'Askandra - Finehope Solar Power Plant'\n",
      " 'Askandra - Khaya Solar Power Plant'\n",
      " 'Askandra - Newton Solar Power Plant'\n",
      " 'Askandra - Saidham Solar Power Plant'\n",
      " 'Askandra - Vasavi Solar Power Plant' 'BADARPUR' 'BAGALKOT ICP'\n",
      " 'BAGLIHAR HEP' 'BAGLIHAR HEP-II' 'BAIRA SIUL' 'BAKRESWAR' 'BALCO TPP'\n",
      " 'BALIMELA' 'BALLARPUR BILT POWER' 'BAMANIA CEMENT' 'BANDAKHAR TPP'\n",
      " 'BANDEL' 'BANER' 'BANSAGAR (I)' 'BANSAGAR (II)' 'BANSAGAR (III)'\n",
      " 'BANSAGAR (IV)' 'BANSWARA CEMENT' 'BARADARHA TPP' 'BARAMURA' 'BARAUNI'\n",
      " 'BARGI' 'BARH STPP II' 'BARKHERA TPP' 'BARSINGAR LIGNITE'\n",
      " 'BASIN BRIDGE GT' 'BASPA' 'BASSI' 'BCPL Wind Farm'\n",
      " 'BEL Chikhalhol Wind Farm' 'BELA NAGPUR' 'BELGAUM UGAR' 'BELLAD-BAGEWADI'\n",
      " 'BELLARY DG' 'BELLARY HOTHUR' 'BELLARY JANKI' 'BELLARY TPS' 'BHADRA'\n",
      " 'BHADRAVATI MILL' 'BHAKRA' 'BHANDARA STEEL MILL' 'BHANDARA VARAM'\n",
      " 'BHANDARDHARA' 'BHATGARH' 'BHATSA' 'BHAVNAGAR TPP' 'BHAWANI KATTALAI -II'\n",
      " 'BHAWANI KATTALAI -III' 'BHAWANI KATTALAI BARRAGE' 'BHIGWAN MILL'\n",
      " 'BHILAI TPP' 'BHIRA' 'BHIRA TAIL RACE' 'BHIVPURI' 'BHUSAWAL'\n",
      " 'BILIYAKALAN PLANT' 'BINA REFINERY' 'BINA TPP' 'BINANI CEMENT PLANT'\n",
      " 'BINJKOTE' 'BINWA' 'BIRSINGHPUR' \"BOKARO A ''EXP''\" 'BOKARO B'\n",
      " 'BONGAIGAON TPP' 'BP Brahmanvel Wind Farm' 'BRAMHAPURAM DG'\n",
      " 'BSES Kerala CCGT' 'BUDGE BUDGE' 'BUDHIL' 'BUTIBORI PLANT'\n",
      " 'BUTIBORI TPP -II' 'Bamani Solar Power Plant'\n",
      " 'Bamanwali Solar Power Plant'\n",
      " 'Bannari Amman Spinning Mills Wind Power Project'\n",
      " 'Bap - GIS 1-2 Solar Power Plant' 'Bap - GIS 3 Solar Power Plant'\n",
      " 'Bap - OPG Solar Power Plant' 'Bap - Punj Lloyd Solar Power Plant'\n",
      " 'Bapodar - Hiraco Solar Power Plant' 'Bapodar - MBEDL Solar Power Plant'\n",
      " 'Bavadi Barsingha - Giriraj Solar Power Plant'\n",
      " 'Bavadi Barsingha - LEPL Solar Power Plant' 'Belagau Wind Farm'\n",
      " 'Belagwi Wind Turbines' 'Belgaum Gadag Wind Farm' 'Belgaum Wind farm'\n",
      " 'Bera Wind Farm' 'Bhadrada Solar Power Plant' 'Bhat Khedi Wind Farm'\n",
      " 'Bhatkota Solar Power Plant' 'Bitta Solar Power Plant'\n",
      " 'Boha Solar Power Plant' 'Bonada Solar Power Plant' 'CHAKABURA TPP'\n",
      " 'CHAMERA II' 'CHAMERA-I' 'CHAMERA-III' 'CHANDA CEMENT WORKS'\n",
      " 'CHANDERIA CEMENT WORKS' 'CHANDERIA SMELTER' 'CHANDRAPUR GUPTA'\n",
      " 'CHANDRAPUR MANIKGHAR' 'CHANDRAPURA' 'CHANDRAPUR_Coal' 'CHANJU-I'\n",
      " 'CHEMBUKADAVU-II' 'CHENANI I to III' 'CHHABRA TPS' 'CHIBRO (YAMUNA)'\n",
      " 'CHILLA' 'CHUTAK' 'CHUZACHEN' 'CORE GREEN SUGAR'\n",
      " 'Chandrapur Solar Power Plant' 'Charanka Solar Power Plant'\n",
      " 'Chhadavada Wind Farm' 'Chingerbandh Solar Power Plant' 'D.P.L.'\n",
      " 'DADRI (NCTPP)' 'DADRI GT' 'DAE RAJASTHAN' 'DAHANU FRESNEL'\n",
      " 'DAMODARAM SANJEEVAIAH' 'DANAPUR BMM' 'DAUND SUGAR' 'DAVANGERE MILL'\n",
      " 'DEHAR' 'DERANG' 'DGEN MEGA CCCP' 'DHAKRANI' 'DHALIPUR' 'DHANU'\n",
      " 'DHARIWAL INF TPP' 'DHAULI GANGA' 'DHOLPUR' 'DHUVARAN CCPP' 'DIGHE WORKS'\n",
      " 'DIKCHU' 'DIMBE' 'DLF' 'DNYANESHWAR MILL' 'DOLVI ISPAT' 'DONKARAYI'\n",
      " 'DOYANG' 'DUDH GANGA' 'DUGGAVATHI MILL' 'DULHASTI' 'DURG SPONGE IRON'\n",
      " 'DURGAPUR' 'DURGAPUR STEEL TPS' 'Dadri Solar Power Plant' 'Dandeli Mill'\n",
      " 'Davangere Wind Farm' 'Deh Solar Power Plant' 'Devgarh Wind Farm'\n",
      " 'Dhabla Sondhya Solar Power Plant' 'Dhanera Solar Power Plant'\n",
      " 'Dhank - Aravali Solar Power Plant' 'Dhursar' 'Diwakar'\n",
      " 'Dugar Solar Power Plant' 'E.G. CANAL' 'ELDARI' 'EMCO Sonurle Wind Farm'\n",
      " 'ESSAR GT IMP.' 'Enercon Babarzar Wind Farm'\n",
      " 'Enercon Chitradurga Wind Farm' 'Enercon Sonoshi Wind Farm'\n",
      " 'Essel Mining Wind Farm' 'FARAKKA STPS' 'F_BAD CCGT'\n",
      " 'Frost International Palankottai Wind Farm' 'G.I.P.C.L. GT'\n",
      " 'GACL Kutch Wind Farm' 'GADARWARA' 'GADEPAN WORKS' 'GAJ'\n",
      " 'GAMA CCPP  Module - 1' 'GANDHAR GT' 'GANDHARBAL' 'GANDHI NAGAR'\n",
      " 'GANDHI SAGAR' 'GANGUWAL' 'GAUTAMI CCCP' 'GEPL' 'GFL Gudhepanchgani'\n",
      " 'GHANVI' 'GHAT PRABHA' 'GHATGHAR PSS' 'GHTP (LEH.MOH.)' 'GHUGUS LMEL'\n",
      " 'GIRI BATA' 'GIWPP Telagi' 'GMR WARORA TPP' 'GODAVARI GT'\n",
      " 'GOINDWAL SAHIB TPP' 'GRACE INDUSTRIES' 'GREL CCPP (RAJAMUNDRY)'\n",
      " 'GULBARGA CEMENT' 'GUMTI' 'Gadag Wind Farm' 'Gadna 1 Solar Power Plant'\n",
      " 'Gadna 2 Solar Power Plant' 'Gandhinagar Solar Power Plant'\n",
      " 'Garacharma Solar Power Plant' 'Godawari' 'Godelai Solar Power Plant'\n",
      " 'Gondri Solar Power Plant' 'Gorsar Wind Farm' 'Grewal Solar Power Plant'\n",
      " 'Gujurat Solar On' 'Gulabpura Solar Power Plant'\n",
      " 'Gwal Pahari Solar Power Plant' 'HALDIA' 'HAMPI' 'HAPURI MILL'\n",
      " 'HASDEOBANGO' 'HAVALGA SUGAR' 'HAZIRA CCCP' 'HAZIRA-GSECL' 'HINGOLI MILL'\n",
      " 'HIRAKUD I&II' 'HIRIYUR BIOMASS' 'HZL Gadag Wind Farm'\n",
      " 'HZL Nandurbar Maharashtra' 'HZL Palladum Wind Farm'\n",
      " 'HZL Parewar Wind Farm' 'HZL Samana Wind Farm' 'H_GANJ B'\n",
      " 'Hirewaddatti Wind Farm' 'Horti Solar Power Plant' 'I.B.VALLEY' 'I.P.GT'\n",
      " 'IDAMALAYAR' 'IDUKKI' 'IEPL  BELA TPP' 'IL&FS Kaladeh Wind Farm'\n",
      " 'IND BARATH TPP' 'INDIA POWER TPP(HALDIA  HIRANMAYE )' 'INDIRA SAGAR'\n",
      " 'INDRA GANDHI STPP' 'ITPCL TPP' 'Ingaleshwar Wind Farm'\n",
      " 'Isanpur Solar Power Plant' 'Itnal Solar Power Plant' 'J.SAGAR'\n",
      " 'JAISALMER GODAWARI' 'JALDHAKA I&II' 'JALLIPPA KAPURDI TPP'\n",
      " 'JAYKAYPURAM PLANT' 'JAYPEE BELA CEMENT' 'JAYPEE REWA CEMENT'\n",
      " 'JAYPEE SIDHI CEMENT' 'JEGURUPADU GT' 'JOG' 'JOJBERA' 'JORETHANG LOOP'\n",
      " 'JSW RATNAGIRI TPP' 'Jafrabad Solar Power Plant'\n",
      " 'Jamuria Solar Power Plant' 'Jangi Wind Farm' 'Jangi village wind farm'\n",
      " 'Jeloo Wind Farm' 'Jodiya Wind Farm' 'K.N. Ram Kaltek Wind Farm'\n",
      " 'KADAMPARI' 'KADANA' 'KADRA' 'KAHALGAON' 'KAIGA' 'KAKATIYA TPP' 'KAKKAD'\n",
      " 'KAKRAPARA' 'KALINADI' 'KALINADI SUPA' 'KALISINDH' 'KALLADA'\n",
      " 'KALLUR GRINDING' 'KAMAL SPONGE' 'KAMALANGA' 'KANHER' 'KARAD MILL'\n",
      " 'KARAIKAL' 'KARBI LANGPI' 'KARCHAM WANGTOO' 'KARGIL' 'KARUPPUR GT'\n",
      " 'KASAIPALLI' 'KASARGODE DG' 'KASHANG INTEGRATED' 'KASHIPUR CCPP'\n",
      " 'KASRAWAD FACTORY' 'KATGHORA TPP' 'KATHALGURI GT' 'KAWAI TPP' 'KAWAS GT'\n",
      " 'KAYAM KULAM GT' 'KCSF SANGUR' 'KHADAVASLA I&II' 'KHAMBERKHERA IPP'\n",
      " 'KHANDONG' 'KHARA' 'KHATIMA' 'KHODRI' 'KHOPOLI' 'KHOPOLI WORKS'\n",
      " 'KISHENGANGA' 'KM DODDI SUGAR' 'KODASALI' 'KODAYAR-I&II' 'KODERMA'\n",
      " 'KOJIKODE DG' 'KOLAGHAT' 'KOLDAM' 'KOLHAPUR HEMARUS' 'KOLHAPUR KAGAL'\n",
      " 'KOLHAPUR KUMBHI' 'KOLLEGAL SUGAR' 'KONASEEMA CCCP' 'KONDAPALLI GT'\n",
      " 'KOPILI' 'KOPPA SUGAR' 'KOPPAL HKMP' 'KORADI' 'KORBA STPS' 'KORBA-EAST'\n",
      " 'KORBA-WEST' 'KOSI' 'KOTA' 'KOTA COMPLEX' 'KOTESHWAR' 'KOTLA'\n",
      " 'KOVILKALAPPAL' 'KOYNA COMPLEX' 'KS Oils Chinnakuyili Wind Farm' 'KUDGI'\n",
      " 'KULHAL' 'KUNDAH I-V' 'KUNDANKULAM' 'KUNDARGI MILL' 'KUNDARKI TPP'\n",
      " 'KUTCH LIG.' 'KUTHUNGAL' 'KUTTALAM GT' 'KUTTIADI' 'KUTTIYADI Add ext'\n",
      " 'KVK Energy Solar Project' 'KYMORE' 'KYREDEMKULAI' 'K_GUDEM'\n",
      " 'K_GUDEM NEW' 'K_KHEDA II' 'Kaladonger Wind Farm'\n",
      " 'Kamuthi Solar Power Plant' 'Karmaria Solar Power Plant'\n",
      " 'Karur Textile Park Wind Farm' 'Kathauti 1 Solar Power Plant'\n",
      " 'Kathauti 2 Solar Power Plant' 'Katol - Citra Solar Power Plant'\n",
      " 'Katol - Sepset Solar Power Plant' 'Khadoda Solar Power Plant'\n",
      " 'Khandala Solar Power Plant' 'Khetusar - Northern Solar Power Plant'\n",
      " 'Khetusar - Suryauday Solar Power Plant' 'Khilchipur Solar Power Plant'\n",
      " 'Khirsara - Unity Solar Power Plant'\n",
      " 'Khirsara - Welspun Solar Power Plant' 'Khirwa Solar Power Plant'\n",
      " 'Khori Wind Farm' 'Kohinoor Wind Farm' 'Komal West Solar Power Plant'\n",
      " 'Kosa Wind Farm' 'Kottamangalam Wind Farm' 'Kottathara Village Wind Farm'\n",
      " 'Kudankulam' 'LAKHERI CEMENT PLANT' 'LAKWA GT' 'LALITPUR TPP' 'LARA'\n",
      " 'LARGI' 'LEIMAKHONG DG' 'LIGANAMAKKI' 'LIKIM RO' 'LITL Uthumalai'\n",
      " 'LNJP Bahla Basti Wind Farm' 'LODHIVALI' 'LOKMANGAL SUGAR ETHANOL'\n",
      " 'LOKTAK' 'LOWER JHELUM' 'LOWER JURALA' 'LOWER LAGYAP' 'LOWER METTUR'\n",
      " 'LOWER PERIYAR' 'LOWER SILERU' 'LTML Wind Energy Project in Tamil Nadu'\n",
      " 'LVS POWER DG' 'Lakhewali Solar Power Plant'\n",
      " 'Lakhmirwala Solar Power Plant' 'Lallian Kalan Solar Power Plant'\n",
      " 'Lalpur Wind Farm' 'Landewadi Wind Farm' 'Lathi Solar Power Plant'\n",
      " 'Liberty Oil Satara Wind Farm' 'M.A.P.P.' 'MACHKUND' 'MADHAVAMANTRI'\n",
      " 'MADHIKHEDA' 'MAHADEV PRASAD STPP' 'MAHAN TPP' 'MAHATMA GANDHI TPP'\n",
      " 'MAHATMA SUGAR' 'MAHI BAJAJ I&II' 'MAHUL REFINERY' 'MAIHAR CEMENT PLANT'\n",
      " 'MAITHON' 'MAITHON RB TPP' 'MALANA' 'MALLARPUR' 'MANERI BHALI'\n",
      " 'MANGALORE REFINERY' 'MANGAON CCPP' 'MANGLAM CEMENT' 'MANI DPH'\n",
      " 'MANIKDOH' 'MANIKGARH CEMENT' 'MANIYAR' 'MAQSOODPUR  IPP'\n",
      " 'MARATHA CEMENT PLANT' 'MARWA TPP' 'MATATILLA' 'MEJA STPP' 'MEJIA'\n",
      " 'MEJIA TPS EXT' 'MELAMARUTHUR (MUTHIARA)' 'METTUR' 'METTUR DAM'\n",
      " 'METTUR TPS EXT' 'MIHAN TPP' 'MOHAMAD PUR' 'MOHARA' 'MONARCHAK CCPP'\n",
      " 'MORDI PLANT' 'MOUDA STPS' 'MOYAGCHU' 'MOYAR' 'MRMPL Mudari Wind Farm'\n",
      " 'MSPL Wind Farm' 'MUDHOL CEMENT' 'MUKERIAN I -IV' 'MUL GRETA'\n",
      " 'MUMBAI BPCL' 'MUMBAI JINDAL' 'MUMBAI ONGC' 'MUNDRA TPP' 'MUNDRA UMPP'\n",
      " 'MUNIRABAD' 'MUNOLI DISTILLERY' 'MURBAD PLANT' 'MUZAFFARPUR' 'MYNTDU'\n",
      " 'Maloshi Wind Farm' 'Mandrup - Giriraj Solar Power Plant'\n",
      " 'Megha Solar Plant' 'Mirpur Kalan - Alianz Eco Solar Power Plant'\n",
      " 'Mirpur Kalan - Nexgen Solux Solar Power Plant'\n",
      " 'Mithapur Solar Power Plant' 'Mokal Wind Farm' 'Mokla Wind farm'\n",
      " 'Mulshi Solar Power Plant' 'Muradwala Dal Singh Solar Power Plant'\n",
      " 'N.A.P.S' 'NABI NAGAR TPP' 'NAGARJUNA SAGAR' 'NAGARJUNA SAGAR   TPD'\n",
      " 'NAGDA GRASIM' 'NAGOTHANE COMPLEX' 'NAGPUR GMT' 'NAGPUR MILL'\n",
      " 'NAGPUR SPONGE IRON' 'NAMRUP GT' 'NARASINGPUR' 'NARAYANPUR' 'NARIMANGLAM'\n",
      " 'NASIK' 'NASIK SINNAR' 'NASIK TPP  PH 1' 'NATHPA JHAKRI' 'NAWAPARA'\n",
      " 'NEPANAGAR MILL' 'NEW UMTRU' 'NEYVELI FST EXT' 'NEYVELI ST I'\n",
      " 'NEYVELI ST II' 'NEYVELI TPS EXP -II' 'NEYVELI TPS(Z)' 'NIGRI'\n",
      " 'NIMBAHERA JK CEMENT' 'NIMOO BAZGO' 'NIRGAJANI(Ganga Canal)'\n",
      " 'NITIN PLANT' 'NIWARI TPP' 'NIZAM SAGAR' 'NMDC Anehalu Wind Farm'\n",
      " 'NORTH CHENNAI' 'NORTH CHENNAI EXTENSION' 'NSL Wind Farm' 'NURANANG'\n",
      " 'N_SAGAR LBC' 'N_SAGAR RBC' 'Nagda Hills Wind Energy project'\n",
      " 'Nagercoli Wind Farm' 'Naini Solar Power Plant' 'Nallakonda Wind Farm'\n",
      " 'Nargund Wind Farm' 'Nokh - GGEL Solar Power Plant'\n",
      " 'Nokh - Precision Technik Solar Power Plant'\n",
      " 'Nokha Daiya Solar Power Plant' 'NuPower Tirunelveli Wind Farm' 'OBRA'\n",
      " 'OBRA-A' 'OMKARESHWAR' 'ONGC Jerat Wind Farm' 'ONGC Kutch Wind Farm'\n",
      " 'P.NALLUR CCGT' 'PAGUTHAN' 'PAINAMPURAM' 'PAITHON' 'PALATANA CCPP'\n",
      " 'PALLIVASAL' 'PAMPORE GT' 'PANCHET' 'PANIPAT' 'PANNIAR' 'PAPANASAM'\n",
      " 'PARAS' 'PARBATI-III' 'PARBHANI GANGAKHED' 'PARE' 'PARICHA' 'PARLI'\n",
      " 'PARSEN_S VALLE' 'PATALGANGA' 'PATHADI TPS PH -I' 'PATHRI' 'PAWANA'\n",
      " 'PEDDAPURAM CCGT(Samalkot)' 'PENCH' 'PENNA AHOBELAM' 'PERIYAR'\n",
      " 'PIPAVAV CCCP' 'POCHAMPAD' 'PONG' 'PORINGALKUTTU' 'PORINGALKUTTU L'\n",
      " 'PRAGATI CCCP -III' 'PRAGATI CCGT' 'PRIYADARSHNI JURALA'\n",
      " 'PRYAGRAJ (BARA) TPP' 'PULICHINTALA' 'PUNE MILL' 'PURULIA PSS' 'PYKARA'\n",
      " 'PYKARA ALIMATE' 'Panandhro Solar Power Plant' 'Patan Taluka Wind Farm'\n",
      " 'Patnaik Hatti Wind Farm' 'Patnaik Jamnagar Wind Farm'\n",
      " 'Patodi Solar Power Plant' 'Phagi Solar Power Plant'\n",
      " 'Pokhran FVE Solar Power Plant' 'Pokhran THE Solar Power Plant'\n",
      " 'Powerica Jangi Vandjiya' 'Powerica Kutch Wind Farm'\n",
      " 'Powerica Theni Wind Farm' 'Powerica Tirunelveli Wind Farm'\n",
      " 'Pratapgarh Solar Power Plant' 'Precious Solar Power Plant'\n",
      " 'Punjawa - Sikh Wala Solar Power Plant' 'R.A.P.S.' 'R.P.SAGAR'\n",
      " 'RABRIYAWAS CEMENT' 'RADHANAGRI' 'RAGHUNATHPUR TPP PH-I' 'RAICHUR'\n",
      " 'RAICHUR STEEL' 'RAIGARH TPP' 'RAIKHEDA' 'RAJASHREE CEMENT' 'RAJGHAT'\n",
      " 'RAJGHAT (MP)' 'RAJIV GANDHI  TPS HISAR' 'RAJPURA DARIBA MINE'\n",
      " 'RAJPURA TPP' 'RAMANAGARAM MILL' 'RAMGANGA' 'RAMGARH GT' 'RAMMAM'\n",
      " 'RAMPUR' 'RANGANADI' 'RANGIT-III' 'RANJANI MILL' 'RANJIT SAGAR'\n",
      " 'RAS CEMENT PLANT' 'RATIJA TPP' 'RATNAGIRI GAS' 'RAYAL SEEMA'\n",
      " 'RELIANCE ENERGY' 'RENGALI' 'RIHAND' 'RIHAND_Hydro' 'RITHALA CCCP'\n",
      " 'RMC MANGROL' 'ROKHIA GT' 'ROPAR' 'ROSA TPP PH - 1' 'RSMNL Wind Farm'\n",
      " 'R_GUNDEM - B' 'R_GUNDEM STPS' 'Rajgarh - NTPC Solar Power Plant'\n",
      " 'Rajgarh - Ujaas Solar Power Plant' 'Raksa Solar Power Plant'\n",
      " 'Ram Tirath Jaga Solar Power Plant' 'Ramagundam Solar Power Plant'\n",
      " 'Rapar Khokhara Solar Power Plant' 'Rasulpur Solar Power Plant'\n",
      " 'Ratedi Mondri Wind Farm' 'Ravra - IOC Solar Power Plant'\n",
      " 'Ravra - NWEPL Solar Power Plant' 'Ravra - SEI Solar Power Plant'\n",
      " 'Ravra - Welspun Solar Power Plant' 'Relaxo Footwear Kui Inda Wind Farm'\n",
      " 'Roaring 40s Wind Farms (Khandke) Private Limited - Phase II'\n",
      " 'Rojhani Solar Power Plant' 'Rucha Soya Wind Farm'\n",
      " 'Ruchi Soya Palsodi Wind Farm' 'S.SAROVAR CHPH' 'S.SAROVAR RBPH'\n",
      " 'SABARIGIRI' 'SAGARDIGHI TPP' 'SAHAKAR SHIROMANI' 'SAINJ' 'SALAL I & II'\n",
      " 'SALAYA TPP' 'SALORA' 'SAMALPATTI DG' 'SAMAYANALLUR DG' 'SAMEERWADI MILL'\n",
      " 'SANGLI KRANTI' 'SANGLI MIRAJ BIOMASS' 'SANGLI VASANTDADA' 'SANJAY BHABA'\n",
      " 'SANJAY GANDHI' 'SANKESHWAR MILL' 'SANTALDIH' 'SARKARPATHY' 'SASAN UMPP'\n",
      " 'SATNA CEMENT PLANT' 'SATPURA' 'SBT SUGAR' 'SEIONI TPP'\n",
      " 'SEMBCORP GAYATRI' 'SENGULAM' 'SERVALAR' 'SEWA-II' 'SEWA-III' 'SHAHPUR'\n",
      " 'SHANAN' 'SHARAVATHY' 'SHARAVATHY TAIL RACE (Gerusupa)' 'SHIMSAPURA'\n",
      " 'SHIROL MILL' 'SHIRPUR' 'SHIVAPURA' 'SHOLAYAR' 'SHOLAYAR I&II'\n",
      " 'SHREE MEGA POWER' 'SHRI MALAPRABHA' 'SHRI SHANKAR'\n",
      " 'SHRIRAM RAYONS PLANT' 'SIIL Jaibhim Wind Farm' 'SIKKA REP.' 'SIMHADRI'\n",
      " 'SIMHAPURI TPP' 'SINGARENI TPP' 'SINGRAULI STPS' 'SINGUR' 'SIPAT STPS'\n",
      " 'SITAPURAM POWER LIMITED' 'SIVASAMUNDRUM' 'SOLAPUR STPP' 'SONAI MILL'\n",
      " 'SONE EAST CANAL' 'SONE WEST CANAL' 'SOUTHERN REPL.' 'SRINAGAR'\n",
      " 'SRISAILAM' 'SRISAILAM LBPH' 'STAKNA' 'STERLITE TPP' 'SUBERNREKHA I&II'\n",
      " 'SUGEN CCCP' 'SURAT GARH' 'SURAT LIG.' 'SURATGARH' 'SURULIYAR' 'SURYA'\n",
      " 'SVPL' 'SWASTIK KORBA' 'SWPPL Madhavakurichi' 'SWPPL Manurpalayam'\n",
      " 'SWPPL Vadakkupanavadali' 'Sadeipali - ASPL Solar Power Plant'\n",
      " 'Sadeipali - REHPL Solar Power Plant' 'Sai Sulphonates Wind Mill'\n",
      " 'Sakri 1A Solar Power Plant' 'Sakri 1B Solar Power Plant'\n",
      " 'Sangatpura Solar Power Plant' 'Satara Wind Farm'\n",
      " 'Shiloj Solar Power Plant' 'Shirsoli Solar Power Plant'\n",
      " 'Shivasamundra Solar Power Plant'\n",
      " 'Shivlakha - Backbone Solar Power Plant'\n",
      " 'Shivlakha - CPEC Solar Power Plant'\n",
      " 'Shivlakha - Konark Solar Power Plant' 'Shree Nashik Wind Farm'\n",
      " 'Shree Sangli Wind Farm' 'Shree Southern Wind Farm'\n",
      " 'Shri Singaji MALWA TPP' 'Singrauli Solar Power Plant'\n",
      " 'Sivaganga Solar Power Plant' 'Sivalaperi Wind Farm'\n",
      " 'Solitaire Solar Power Plant' 'Sonu Wind Farm'\n",
      " 'Sterling Agro Akal Wind Farm' 'Sterling Agro Mokla Wind Farm'\n",
      " 'Sterling Karnataka site' 'Sterling Madhya Pradesh site'\n",
      " 'Sumilon Shikarpur Wind Farm' 'Sumilon Vershamedi Wind Farm'\n",
      " 'Supe Solar Power Plant' 'Surajbari Creek Wind Farm' 'T.B. DAM' 'TADALI'\n",
      " 'TADALI SPONGE IRON' 'TAGO' 'TALCHER' 'TALCHER STPS' 'TALWANDI SABO'\n",
      " 'TAMNAR TPP' 'TANAKPUR' 'TANDA' 'TANIR BAVI' 'TARAPUR' 'TASHIDING' 'TAWA'\n",
      " 'TEESTA  I-III' 'TEESTA -V' 'TEESTA LOW DAM -IV' 'TEESTA LOW DAM-III'\n",
      " 'TEESTA-III' 'TEHRI ST -1' 'TENUGHAT' 'THAL WORKS' 'THAMMINAPATNAM TPP'\n",
      " 'THANE PLANT' 'THIROT' 'TILLARI' 'TILLAYA' 'TIRORA TPP' 'TITAGARH'\n",
      " 'TORANGALLU EXT' 'TORANGALLU IMP' 'TORR POWER SAB.' 'TROMBAY'\n",
      " 'TROMBAY GT' 'TROMBAY WORKS' 'TROMBAY_Coal' 'TROMBAY_Oil' 'TUIRIAL'\n",
      " 'TUNGABHADRA SUGAR' 'TUTICORIN' 'TUTICORIN JV' 'TUTICORIN- IND BARATH'\n",
      " 'TVS Kunnur Wind Farm' 'TVS Tirunelveli Wind Farm' 'TVS Virali Wind Farm'\n",
      " 'Tadas wind farm' 'Talcher Kaniha Solar Power Plant'\n",
      " 'Tamilnadu Wind Farm' 'Tata BP - Electronics City Solar Panel Plant'\n",
      " 'Tata Power Gadag Plains Wind Farm' 'Tata Wind Farm'\n",
      " 'Teona Pujarian Solar Power Plant' 'Theni Wind Farm'\n",
      " 'Thimmapuram Wind Farm' 'Tinwari - MB Solar Power Plant' 'Tiruppur'\n",
      " 'Tiruppur 2' 'Torrent Gujurat Wind Farm' 'U.B.D.C. ST.-I& II'\n",
      " 'U.ROGNICHU' 'UCHPINDA TPP' 'UDUPI TPP' 'UJJAINI' 'UKAI LBC' 'UKAI_Coal'\n",
      " 'UKAI_Hydro' 'UMIAM I II &IV' 'UMTRU (NEW)' 'UNCHAHAR' 'UNO SUGEN'\n",
      " 'UPL Dharapuram Wind Farm' 'UPPAR INDRAVATI' 'UPPER KOLAB'\n",
      " 'UPPER SILERU I&II' 'UPPER SINDH I& II' 'URAN GT' 'URAN ONGC' 'URI'\n",
      " 'URI -II' 'URUMI' 'UTRAN CCCP EXT' 'UTRAULA TPP' 'Udumalpet Wind Farm'\n",
      " 'VAIGAI DAM' 'VAITARNA' 'VALANTHARVI GT' 'VALLUR ntpc/ntecl'\n",
      " 'VALUTHUR GT' 'VARAHI' 'VARDHAM BUDNI' 'VARDHAM SATLAPUR'\n",
      " 'VASAVADATTA CEMENT' 'VEMAGIRI CCCP' 'VENUNAGAR SUGAR' 'VIJAIPUR WORKS'\n",
      " 'VIJAYWADA' 'VIJAYWADA TPP-IV' 'VIJESWARAM GT' 'VIKRAM CEMENT'\n",
      " 'VINDH_CHAL STPS' 'VIR' 'VISHNU PRAYAG' 'VIZAG TPP' 'VRL Wind Farm'\n",
      " 'Vaayu Ashti Wind Farm' 'Vankuswade Wind Farm' 'Vastan Solar Power Plant'\n",
      " 'WADI CEMENT PLANT' 'WANAKBORI' 'WARDHA WARORA(Sai Wardha Power)'\n",
      " 'WARDHA WORKS' 'WARNA' 'WY.CANAL A -D' 'Wadgam Solar Power Plant'\n",
      " 'Warora Solar Power Plant' 'Weizzmann Forex Idukki Wind Farm'\n",
      " 'Wind power project by Riddhi Siddhi Gluco Biols Limited (RSGBL)'\n",
      " 'Wind power project in Rajasthan' 'YAMUNANAGAR TPP' 'YASHWANTRAO MOHITE'\n",
      " 'YELHANKA (DG)' 'YERMARUS TPP' 'Yelesandra Solar Power Plant'\n",
      " 'Yelisirur wind power project' 'ZAWAR MINES' 'iEnergy Theni Wind Farm']\n",
      "ACME Solar Tower           1\n",
      "RAICHUR                    1\n",
      "PRYAGRAJ (BARA) TPP        1\n",
      "PULICHINTALA               1\n",
      "PUNE MILL                  1\n",
      "                          ..\n",
      "KADANA                     1\n",
      "KADRA                      1\n",
      "KAHALGAON                  1\n",
      "KAIGA                      1\n",
      "iEnergy Theni Wind Farm    1\n",
      "Name: name, Length: 907, dtype: int64\n",
      "-----------------------------------------------------------------------------------------------------------\n",
      "gppd_idnr : ['WRI1020239' 'WRI1019881' 'WRI1026669' 'IND0000001' 'IND0000002'\n",
      " 'IND0000003' 'IND0000004' 'IND0000005' 'IND0000006' 'IND0000007'\n",
      " 'IND0000008' 'IND0000009' 'IND0000010' 'IND0000011' 'IND0000012'\n",
      " 'IND0000013' 'IND0000014' 'WRI1019996' 'IND0000015' 'WRI1019938'\n",
      " 'WRI1019939' 'WRI1019904' 'IND0000016' 'IND0000017' 'WRI1019940'\n",
      " 'WRI1020238' 'WRI1026104' 'WRI1026069' 'WRI1026105' 'WRI1026768'\n",
      " 'WRI1026347' 'WRI1026068' 'WRI1026106' 'WRI1026107' 'WRI1026108'\n",
      " 'WRI1026109' 'WRI1026110' 'WRI1026111' 'WRI1026112' 'IND0000019'\n",
      " 'WRI1019905' 'IND0000020' 'IND0000021' 'IND0000022' 'IND0000023'\n",
      " 'IND0000025' 'IND0000024' 'WRI1019941' 'WRI1019882' 'IND0000026'\n",
      " 'IND0000027' 'IND0000028' 'IND0000029' 'IND0000030' 'IND0000031'\n",
      " 'IND0000032' 'WRI1019883' 'IND0000033' 'IND0000034' 'IND0000035'\n",
      " 'IND0000036' 'IND0000037' 'IND0000038' 'IND0000039' 'IND0000040'\n",
      " 'IND0000041' 'IND0000042' 'WRI1026675' 'WRI1026664' 'WRI1019942'\n",
      " 'WRI1019906' 'WRI1019907' 'IND0000044' 'WRI1019908' 'WRI1019909'\n",
      " 'IND0000045' 'IND0000046' 'WRI1019910' 'IND0000047' 'WRI1019943'\n",
      " 'WRI1019944' 'IND0000048' 'IND0000049' 'IND0000050' 'IND0000514'\n",
      " 'IND0000052' 'IND0000053' 'IND0000051' 'WRI1019945' 'IND0000054'\n",
      " 'IND0000055' 'IND0000056' 'IND0000057' 'IND0000058' 'WRI1019884'\n",
      " 'WRI1019997' 'IND0000059' 'WRI1019885' 'IND0000527' 'IND0000060'\n",
      " 'IND0000061' 'IND0000063' 'IND0000064' 'IND0000066' 'WRI1026079'\n",
      " 'IND0000067' 'IND0000068' 'IND0000069' 'IND0000070' 'WRI1019946'\n",
      " 'IND0000071' 'WRI1026113' 'WRI1026114' 'WRI1026655' 'WRI1026115'\n",
      " 'WRI1026116' 'WRI1026117' 'WRI1026118' 'WRI1026119' 'WRI1026120'\n",
      " 'WRI1026121' 'WRI1026122' 'WRI1026090' 'WRI1026075' 'WRI1026073'\n",
      " 'WRI1026074' 'WRI1026083' 'WRI1026123' 'WRI1026088' 'WRI1026124'\n",
      " 'WRI1026125' 'WRI1026126' 'WRI1026127' 'IND0000072' 'IND0000073'\n",
      " 'IND0000074' 'IND0000075' 'WRI1019947' 'WRI1019886' 'WRI1019887'\n",
      " 'WRI1019948' 'WRI1019949' 'IND0000078' 'IND0000076' 'IND0000515'\n",
      " 'IND0000079' 'IND0000080' 'IND0000081' 'IND0000082' 'IND0000083'\n",
      " 'IND0000084' 'IND0000085' 'WRI1019911' 'WRI1026128' 'WRI1026129'\n",
      " 'WRI1026672' 'WRI1026130' 'IND0000087' 'IND0000088' 'IND0000089'\n",
      " 'IND0000086' 'WRI1019902' 'IND0000090' 'WRI1019912' 'WRI1019950'\n",
      " 'WRI1019914' 'IND0000091' 'IND0000092' 'IND0000093' 'IND0000094'\n",
      " 'IND0000095' 'IND0000096' 'IND0000097' 'IND0000098' 'IND0000099'\n",
      " 'IND0000101' 'WRI1019951' 'IND0000528' 'IND0000102' 'IND0000103'\n",
      " 'WRI1019952' 'WRI1019953' 'IND0000104' 'IND0000105' 'IND0000106'\n",
      " 'WRI1019915' 'IND0000107' 'WRI1019998' 'IND0000108' 'IND0000109'\n",
      " 'WRI1026131' 'WRI1019913' 'WRI1026100' 'WRI1026132' 'WRI1026089'\n",
      " 'WRI1026133' 'WRI1026134' 'WRI1026135' 'WRI1020240' 'WRI1020241'\n",
      " 'WRI1026136' 'IND0000110' 'IND0000111' 'WRI1026662' 'IND0000114'\n",
      " 'WRI1026670' 'WRI1026095' 'WRI1026667' 'WRI1026101' 'IND0000117'\n",
      " 'IND0000115' 'WRI1026653' 'IND0000118' 'WRI1026671' 'IND0000539'\n",
      " 'WRI1019888' 'IND0000119' 'IND0000516' 'IND0000120' 'IND0000121'\n",
      " 'IND0000122' 'IND0000123' 'IND0000124' 'IND0000125' 'IND0000126'\n",
      " 'WRI1026793' 'IND0000127' 'IND0000128' 'IND0000129' 'IND0000130'\n",
      " 'WRI1019955' 'IND0000132' 'WRI1026658' 'IND0000112' 'IND0000134'\n",
      " 'IND0000136' 'WRI1019956' 'IND0000137' 'WRI1019916' 'IND0000135'\n",
      " 'WRI1026072' 'WRI1026137' 'WRI1026138' 'WRI1026139' 'WRI1026140'\n",
      " 'WRI1020242' 'WRI1026141' 'WRI1026142' 'WRI1026081' 'WRI1026143'\n",
      " 'WRI1020243' 'WRI1026144' 'WRI1026145' 'IND0000139' 'IND0000140'\n",
      " 'WRI1019958' 'IND0000141' 'WRI1019917' 'IND0000142' 'IND0000143'\n",
      " 'WRI1019957' 'IND0000144' 'WRI1019918' 'WRI1026795' 'WRI1026080'\n",
      " 'WRI1026656' 'WRI1026094' 'WRI1026794' 'IND0000138' 'WRI1026071'\n",
      " 'WRI1026146' 'IND0000145' 'IND0000146' 'IND0000148' 'IND0000149'\n",
      " 'IND0000150' 'WRI1026766' 'IND0000153' 'IND0000529' 'IND0000151'\n",
      " 'IND0000154' 'IND0000152' 'WRI1026661' 'WRI1026147' 'WRI1026148'\n",
      " 'IND0000155' 'WRI1019903' 'IND0000156' 'IND0000157' 'WRI1019889'\n",
      " 'WRI1019999' 'WRI1020000' 'WRI1020001' 'IND0000158' 'IND0000159'\n",
      " 'IND0000160' 'IND0000161' 'IND0000162' 'WRI1026149' 'WRI1026150'\n",
      " 'WRI1026096' 'WRI1026777' 'WRI1026099' 'WRI1026082' 'WRI1026339'\n",
      " 'IND0000166' 'IND0000167' 'IND0000168' 'IND0000169' 'IND0000170'\n",
      " 'IND0000171' 'IND0000172' 'IND0000173' 'IND0000174' 'IND0000175'\n",
      " 'IND0000176' 'IND0000177' 'WRI1019919' 'WRI1020002' 'IND0000178'\n",
      " 'IND0000179' 'WRI1019959' 'IND0000180' 'IND0000181' 'IND0000182'\n",
      " 'IND0000183' 'IND0000184' 'IND0000185' 'IND0000186' 'IND0000517'\n",
      " 'IND0000518' 'WRI1020003' 'IND0000187' 'IND0000188' 'IND0000189'\n",
      " 'IND0000190' 'IND0000191' 'WRI1019920' 'IND0000192' 'IND0000193'\n",
      " 'IND0000194' 'IND0000195' 'IND0000196' 'IND0000197' 'IND0000198'\n",
      " 'WRI1019960' 'IND0000530' 'WRI1019921' 'IND0000199' 'IND0000200'\n",
      " 'IND0000201' 'IND0000202' 'IND0000203' 'IND0000204' 'WRI1019961'\n",
      " 'WRI1019962' 'WRI1019963' 'WRI1019922' 'IND0000205' 'IND0000206'\n",
      " 'IND0000207' 'WRI1019923' 'WRI1019924' 'IND0000208' 'IND0000209'\n",
      " 'IND0000210' 'IND0000211' 'IND0000212' 'IND0000213' 'WRI1019890'\n",
      " 'IND0000214' 'IND0000215' 'IND0000216' 'IND0000217' 'WRI1026340'\n",
      " 'IND0000519' 'IND0000218' 'IND0000219' 'IND0000220' 'WRI1019925'\n",
      " 'IND0000221' 'IND0000222' 'IND0000223' 'IND0000224' 'IND0000225'\n",
      " 'IND0000226' 'WRI1020244' 'WRI1020004' 'IND0000227' 'IND0000163'\n",
      " 'IND0000164' 'IND0000165' 'WRI1026341' 'WRI1026151' 'WRI1026152'\n",
      " 'WRI1026778' 'WRI1026153' 'WRI1026154' 'WRI1026155' 'WRI1026156'\n",
      " 'WRI1026157' 'WRI1026158' 'WRI1026159' 'WRI1026160' 'WRI1026161'\n",
      " 'WRI1026162' 'WRI1026163' 'WRI1026164' 'WRI1026668' 'WRI1026342'\n",
      " 'WRI1026165' 'WRI1026086' 'WRI1026067' 'WRI1026775' 'WRI1026848'\n",
      " 'WRI1019891' 'IND0000228' 'IND0000230' 'IND0000531' 'IND0000229'\n",
      " 'IND0000231' 'IND0000232' 'IND0000233' 'WRI1026343' 'WRI1026674'\n",
      " 'WRI1019964' 'WRI1019965' 'IND0000234' 'IND0000235' 'IND0000236'\n",
      " 'IND0000237' 'IND0000238' 'IND0000239' 'IND0000240' 'WRI1026344'\n",
      " 'IND0000241' 'WRI1026166' 'WRI1026167' 'WRI1026168' 'WRI1026345'\n",
      " 'WRI1026790' 'WRI1026169' 'WRI1026346' 'IND0000242' 'IND0000243'\n",
      " 'IND0000244' 'IND0000245' 'IND0000246' 'IND0000247' 'IND0000248'\n",
      " 'WRI1019966' 'IND0000249' 'WRI1019967' 'WRI1020005' 'IND0000250'\n",
      " 'IND0000252' 'IND0000253' 'IND0000254' 'IND0000255' 'WRI1019926'\n",
      " 'IND0000520' 'WRI1019892' 'IND0000256' 'IND0000257' 'WRI1019968'\n",
      " 'IND0000258' 'IND0000259' 'WRI1019969' 'IND0000260' 'IND0000261'\n",
      " 'IND0000532' 'IND0000262' 'IND0000263' 'IND0000264' 'IND0000265'\n",
      " 'IND0000266' 'IND0000267' 'IND0000268' 'IND0000270' 'IND0000271'\n",
      " 'IND0000272' 'WRI1019893' 'IND0000273' 'IND0000274' 'IND0000275'\n",
      " 'WRI1026348' 'WRI1026070' 'WRI1019927' 'IND0000276' 'WRI1019970'\n",
      " 'WRI1019971' 'WRI1020014' 'WRI1020015' 'IND0000278' 'IND0000279'\n",
      " 'IND0000280' 'WRI1019928' 'WRI1019972' 'IND0000281' 'IND0000282'\n",
      " 'WRI1026077' 'WRI1026170' 'WRI1020245' 'WRI1026171' 'WRI1026172'\n",
      " 'WRI1026173' 'WRI1026093' 'WRI1026092' 'WRI1026174' 'WRI1026175'\n",
      " 'IND0000283' 'IND0000287' 'IND0000286' 'IND0000521' 'WRI1020006'\n",
      " 'WRI1019973' 'WRI1019974' 'WRI1019975' 'WRI1019976' 'IND0000288'\n",
      " 'WRI1020007' 'IND0000289' 'IND0000291' 'IND0000292' 'WRI1019977'\n",
      " 'IND0000293' 'IND0000294' 'IND0000522' 'WRI1020008' 'IND0000533'\n",
      " 'IND0000297' 'IND0000298' 'IND0000299' 'IND0000300' 'IND0000301'\n",
      " 'IND0000302' 'WRI1019894' 'IND0000303' 'IND0000304' 'WRI1019895'\n",
      " 'IND0000305' 'IND0000306' 'WRI1026349' 'IND0000307' 'IND0000308'\n",
      " 'WRI1026676' 'IND0000309' 'IND0000284' 'IND0000285' 'WRI1026350'\n",
      " 'WRI1026064' 'WRI1026176' 'WRI1026351' 'WRI1026352' 'WRI1026177'\n",
      " 'WRI1026178' 'WRI1026179' 'WRI1026065' 'IND0000310' 'IND0000311'\n",
      " 'IND0000312' 'WRI1026091' 'WRI1026085' 'IND0000313' 'IND0000314'\n",
      " 'IND0000315' 'IND0000316' 'IND0000317' 'IND0000318' 'IND0000319'\n",
      " 'IND0000320' 'IND0000321' 'IND0000323' 'IND0000324' 'IND0000325'\n",
      " 'IND0000326' 'WRI1019954' 'IND0000540' 'IND0000327' 'IND0000328'\n",
      " 'IND0000329' 'WRI1020017' 'IND0000330' 'IND0000331' 'IND0000333'\n",
      " 'IND0000334' 'IND0000335' 'IND0000336' 'IND0000337' 'IND0000338'\n",
      " 'IND0000339' 'IND0000340' 'IND0000341' 'IND0000342' 'IND0000343'\n",
      " 'IND0000344' 'IND0000345' 'IND0000346' 'IND0000523' 'WRI1019978'\n",
      " 'IND0000347' 'IND0000348' 'IND0000349' 'WRI1026180' 'WRI1026663'\n",
      " 'WRI1026750' 'WRI1026751' 'WRI1026181' 'WRI1026182' 'WRI1026183'\n",
      " 'WRI1026184' 'WRI1026673' 'WRI1026788' 'WRI1026792' 'WRI1026791'\n",
      " 'WRI1026185' 'WRI1026186' 'WRI1026187' 'IND0000350' 'IND0000351'\n",
      " 'WRI1019896' 'IND0000354' 'IND0000355' 'IND0000356' 'WRI1019929'\n",
      " 'IND0000357' 'IND0000358' 'WRI1019930' 'IND0000359' 'IND0000360'\n",
      " 'IND0000361' 'WRI1019897' 'IND0000362' 'WRI1019931' 'IND0000363'\n",
      " 'IND0000364' 'IND0000365' 'IND0000366' 'IND0000367' 'IND0000368'\n",
      " 'WRI1019979' 'IND0000369' 'WRI1019898' 'IND0000370' 'IND0000371'\n",
      " 'IND0000372' 'IND0000373' 'IND0000374' 'IND0000375' 'IND0000376'\n",
      " 'IND0000377' 'IND0000378' 'IND0000379' 'IND0000380' 'IND0000381'\n",
      " 'WRI1026679' 'IND0000352' 'IND0000353' 'WRI1026188' 'WRI1026189'\n",
      " 'WRI1026190' 'WRI1026191' 'WRI1026192' 'WRI1026193' 'WRI1026194'\n",
      " 'WRI1026770' 'WRI1026195' 'WRI1026196' 'WRI1026197' 'WRI1026198'\n",
      " 'WRI1026752' 'WRI1026666' 'WRI1026199' 'WRI1026084' 'WRI1026678'\n",
      " 'IND0000382' 'IND0000383' 'IND0000384' 'IND0000385' 'WRI1019980'\n",
      " 'IND0000534' 'IND0000386' 'IND0000387' 'IND0000388' 'IND0000389'\n",
      " 'IND0000390' 'WRI1019932' 'WRI1019981' 'WRI1019982' 'WRI1019983'\n",
      " 'IND0000391' 'IND0000392' 'WRI1019933' 'IND0000393' 'IND0000394'\n",
      " 'IND0000395' 'WRI1020009' 'IND0000396' 'WRI1019984' 'IND0000397'\n",
      " 'IND0000524' 'IND0000398' 'IND0000399' 'IND0000400' 'IND0000401'\n",
      " 'IND0000402' 'IND0000403' 'IND0000404' 'IND0000405' 'IND0000406'\n",
      " 'WRI1019985' 'IND0000535' 'IND0000407' 'IND0000408' 'IND0000409'\n",
      " 'WRI1019899' 'WRI1019934' 'WRI1019986' 'WRI1019900' 'WRI1026789'\n",
      " 'IND0000411' 'IND0000412' 'IND0000413' 'IND0000414' 'IND0000415'\n",
      " 'IND0000416' 'IND0000417' 'IND0000525' 'IND0000418' 'IND0000536'\n",
      " 'WRI1019987' 'IND0000419' 'IND0000420' 'IND0000421' 'IND0000422'\n",
      " 'IND0000423' 'IND0000424' 'IND0000425' 'IND0000426' 'IND0000427'\n",
      " 'IND0000428' 'IND0000429' 'IND0000430' 'IND0000431' 'IND0000432'\n",
      " 'IND0000433' 'IND0000434' 'IND0000435' 'WRI1026771' 'WRI1026773'\n",
      " 'WRI1026772' 'WRI1026200' 'WRI1026201' 'WRI1026657' 'WRI1026202'\n",
      " 'WRI1026203' 'WRI1026204' 'WRI1026076' 'WRI1026205' 'WRI1026206'\n",
      " 'WRI1026207' 'WRI1026208' 'WRI1026209' 'WRI1026210' 'WRI1026786'\n",
      " 'WRI1026785' 'WRI1026784' 'IND0000410' 'WRI1026211' 'WRI1026212'\n",
      " 'WRI1026677' 'WRI1026213' 'WRI1026764' 'WRI1026754' 'WRI1026755'\n",
      " 'WRI1026756' 'WRI1026757' 'WRI1026762' 'WRI1026763' 'WRI1026214'\n",
      " 'WRI1026087' 'IND0000436' 'WRI1020016' 'WRI1019988' 'IND0000437'\n",
      " 'IND0000438' 'IND0000439' 'IND0000440' 'IND0000441' 'IND0000442'\n",
      " 'IND0000443' 'IND0000444' 'IND0000445' 'IND0000537' 'IND0000446'\n",
      " 'IND0000447' 'IND0000450' 'IND0000449' 'IND0000448' 'IND0000526'\n",
      " 'IND0000451' 'IND0000452' 'WRI1019989' 'IND0000453' 'WRI1019990'\n",
      " 'IND0000454' 'IND0000455' 'IND0000456' 'IND0000457' 'IND0000458'\n",
      " 'IND0000459' 'IND0000460' 'IND0000461' 'IND0000462' 'IND0000463'\n",
      " 'WRI1019991' 'IND0000464' 'IND0000465' 'IND0000538' 'WRI1019935'\n",
      " 'IND0000466' 'IND0000468' 'IND0000467' 'WRI1026758' 'WRI1026774'\n",
      " 'WRI1026767' 'WRI1026660' 'WRI1026215' 'WRI1026102' 'WRI1026216'\n",
      " 'WRI1026787' 'WRI1026078' 'WRI1026217' 'WRI1026654' 'WRI1026659'\n",
      " 'WRI1026218' 'WRI1026098' 'WRI1026097' 'WRI1026765' 'IND0000469'\n",
      " 'IND0000470' 'IND0000471' 'IND0000472' 'IND0000473' 'IND0000474'\n",
      " 'IND0000475' 'IND0000476' 'IND0000477' 'IND0000478' 'IND0000479'\n",
      " 'IND0000480' 'WRI1026759' 'IND0000481' 'IND0000482' 'IND0000483'\n",
      " 'IND0000484' 'IND0000485' 'WRI1019992' 'IND0000486' 'IND0000487'\n",
      " 'IND0000488' 'IND0000489' 'IND0000491' 'WRI1026066' 'IND0000492'\n",
      " 'IND0000493' 'IND0000494' 'IND0000495' 'IND0000496' 'IND0000497'\n",
      " 'WRI1020010' 'WRI1020011' 'WRI1019936' 'IND0000499' 'WRI1019993'\n",
      " 'WRI1020012' 'IND0000500' 'IND0000501' 'IND0000502' 'WRI1020013'\n",
      " 'IND0000503' 'IND0000504' 'IND0000505' 'IND0000506' 'WRI1026103'\n",
      " 'WRI1026665' 'WRI1026680' 'WRI1026219' 'WRI1019937' 'IND0000507'\n",
      " 'IND0000508' 'WRI1019994' 'IND0000509' 'IND0000510' 'WRI1026220'\n",
      " 'WRI1026221' 'WRI1026760' 'WRI1026753' 'WRI1026769' 'IND0000511'\n",
      " 'WRI1019995' 'IND0000512' 'IND0000513' 'WRI1026222' 'WRI1026776'\n",
      " 'WRI1019901' 'WRI1026761']\n",
      "WRI1020239    1\n",
      "IND0000356    1\n",
      "IND0000346    1\n",
      "IND0000523    1\n",
      "WRI1019978    1\n",
      "             ..\n",
      "IND0000167    1\n",
      "IND0000168    1\n",
      "IND0000169    1\n",
      "IND0000170    1\n",
      "WRI1026761    1\n",
      "Name: gppd_idnr, Length: 907, dtype: int64\n",
      "-----------------------------------------------------------------------------------------------------------\n",
      "primary_fuel : ['Solar' 'Coal' 'Wind' 'Gas' 'Hydro' 'Biomass' 'Oil' 'Nuclear']\n",
      "Coal       258\n",
      "Hydro      251\n",
      "Solar      127\n",
      "Wind       123\n",
      "Gas         69\n",
      "Biomass     50\n",
      "Oil         20\n",
      "Nuclear      9\n",
      "Name: primary_fuel, dtype: int64\n",
      "-----------------------------------------------------------------------------------------------------------\n",
      "other_fuel1 : [nan 'Oil' 'Cogeneration' 'Gas']\n",
      "Oil             195\n",
      "Gas               2\n",
      "Cogeneration      1\n",
      "Name: other_fuel1, dtype: int64\n",
      "-----------------------------------------------------------------------------------------------------------\n",
      "other_fuel2 : [nan 'Oil']\n",
      "Oil    1\n",
      "Name: other_fuel2, dtype: int64\n",
      "-----------------------------------------------------------------------------------------------------------\n",
      "owner : ['Solar Paces' 'Ultratech Cement ltd' 'AES' nan 'Hindustan Pvt lt'\n",
      " 'Dr Ssk ltd' 'Ashok Ssk ltd' 'Shree Sugars ltd'\n",
      " 'Ener-t International Ltd.' 'Nav Bharat Buildcon Private Limited'\n",
      " 'MEIL Green Power Limited' 'Madras Cement Limited'\n",
      " 'DDE Renewable Energy Private Limited (DREPL)'\n",
      " 'Electromech Maritech Private Limited'\n",
      " 'Finehope Allied Engineering Private Limited'\n",
      " 'Khaya Solar Projects Private Limited' 'Newton Solar Private Limited'\n",
      " 'Saidham Overseas Private Limited' 'Vasavi Solar Power Private Limited'\n",
      " 'Indian Power ltd' 'Ballarpur Industries ltd' 'Jk Cement ltd'\n",
      " 'India Ltd icl)' 'Bharat Petroleum Corporation Limited'\n",
      " 'Bhilwara Energy Limited' 'Ideal Projects ltd' 'Ugar Works ltd'\n",
      " 'Vishwanath Sugars ltd' 'Hothur Pvt ltd' 'Janki Corp ltd'\n",
      " 'Mysore Mills ltd' 'Sunflag Co ltd' 'Varam Pvt ltd' 'Sangam Spinners ltd'\n",
      " 'Bharat Refinery ltd' 'Binani Industries ltd' 'Indo Synthetics ltd'\n",
      " 'Dr Babasaheb Ambedkar SSK Limited' 'AEW Infratech Private Limited'\n",
      " 'Enercon India Ltd.' 'Green Infra Solar Farms Private Limited (GIS)'\n",
      " 'OPG Energy Private Limited' 'Punj Lloyd Solar Private Limited'\n",
      " 'Hiraco Renewable Energy Private Limited (HREPL)'\n",
      " 'Moser Baer Energy & Development Limited (MBEDL)' 'Giriraj Enterprises'\n",
      " 'LEPL Projects Limited' 'Lanco Solar Energy Private Limited'\n",
      " 'Abellon CleanEnergy Limited' 'Adani Power Limited'\n",
      " 'Madhav Solar Private Limited' 'Rays Power Private Limited' 'Acc Acc ltd'\n",
      " 'Birla Corp ltd' 'Hindustan Zinc ltd' 'Gupta Ltd gepl)'\n",
      " 'Manikghar Cement co' 'Core Fuels ltd'\n",
      " 'Maharashtra State Power Generation Co Ltd (MAHAGENCO)'\n",
      " 'Charanka Solar Park' 'India Oil Corporation Limited'\n",
      " 'Alex Green Energy Private Limited' 'Reliance Power ltd' 'Bmm Pvt ltd'\n",
      " 'Daund Sugar ltd' 'Davangere Co ltd' 'Mukand Mukand ltd' 'Shri Ssk ltd'\n",
      " 'Jsw Steel ltd' 'Shamanur Sugars ltd' 'Jai Industries ltd'\n",
      " 'Government of India' 'West Coast Paper Mills Ltd.' 'Sanjeev Prakashan'\n",
      " 'Ujaas Energy Limited' 'Sand Land Real Estates Pvt Ltd'\n",
      " 'Aravali Infrapower Private Limited (AIPL)' 'Reliance Power'\n",
      " 'Lanco Infratech' 'Sovox Renewables Private Limited' 'EMCO Limited'\n",
      " 'Frost International Limited' 'Gujurat Alkalies and Chemicals Limited'\n",
      " 'Chambal & chem' 'GFL' 'Lloyds Industries ltd'\n",
      " 'Bangalore Electricity Supply Company Limited' 'Grace Industries ltd'\n",
      " 'Orient Cement ltd' 'SunBorne Energy Gujarat'\n",
      " 'Pandit Deendayal Petrolium University (PDPU)'\n",
      " 'National Thermal Power Corporation (NTPC) Limited'\n",
      " 'Godwari Green Energy Limited'\n",
      " 'Zamil New Delhi Infrastructure Private Limited'\n",
      " 'Shree Saibaba Green Power Private Limited' 'Solaer' 'Cargo Solar Power'\n",
      " 'Amrit Energy Private Limited' 'Solar Energy Centre' 'Jawahar Ssk ltd'\n",
      " 'Purna Ssk ltd' 'Rk Pvt ltd' 'Hindustan Zinc Ltd.' 'HZL'\n",
      " 'Essel MP Energy Limited' 'IL&FS Wind Power Limited'\n",
      " 'Fortune Five Hydel Projects Limited' 'Harsha Engineers Limited'\n",
      " 'Karnataka Power Corporation Limited' 'Godawari Energy ltd'\n",
      " 'Jaypee Ltd jccl)' 'Sunkon Energy Private Limited'\n",
      " 'West Bengal Energy Development Corporation Limited (WBEDCL)'\n",
      " 'Energy Infratech Private Limited' 'K. N. Ram' 'Chettinad Corp ltd'\n",
      " 'Kjs Ahluwalia group' 'Ym Ssk ltd' 'Maral Overseas ltd' 'Gm Energy ltd'\n",
      " 'Uttam Steels ltd' 'Sri Sugars ltd' 'Hemarus Technologies ltd'\n",
      " 'Shri Vedganga ssk' 'Kumbhi Ssk ltd' 'Bannari Sugars ltd'\n",
      " 'Nsl Sugars ltd' 'Hare Pvt ltd' 'Dcm & chem' 'KS Oils' 'Gem Sugars ltd'\n",
      " 'KVK Energy Ventures Ltd' 'Bindu Vau Urja Private Limited'\n",
      " 'SunBorne Energy Gujarat One Pvt' 'Karur Textile Park limited'\n",
      " 'Azure Power (Rajasthan) Private Limited' 'Citra Real Estate Limited'\n",
      " 'Sepset Construction Limited' 'Gujarat Urja Vikas Nigam Limited'\n",
      " 'Firestone Trading Private Limited'\n",
      " 'Northern Solaire Prakash Private Limited'\n",
      " 'Suryauday Solaire Prakash Private Limited' 'ACME Solar Energy'\n",
      " 'Unity Power Limited' 'Welspun Urja India Limited'\n",
      " 'Conflux Infratech Private Limited' 'REI Agro Limited'\n",
      " 'Kohinoor Planet Construction Pvt. Ltd'\n",
      " 'Tata Power Solar Systems Limited (TPREL)' 'Loyal Textile Mills Limited'\n",
      " 'LNJ Power Ventures Limited' 'Tata Co ltd' 'Lokmangal Lokmangal group'\n",
      " 'Atma Powers Private Limited' 'Essel Clean Energy Limited'\n",
      " 'IK Energy Private Limited' 'Serum Institute of India Limited'\n",
      " 'Lanco Solar Power Limited' 'Liberty Oil Mills Limited'\n",
      " 'Mahatma Power ltd' 'Bharat Corp ltd' 'Maihar Cement ltd'\n",
      " 'Mangalore & petrochem' 'Manglam Cement ltd' 'Manikgarh Manikgarh cement'\n",
      " 'Ambuja Cements ltd' 'Rswm Rswm ltd'\n",
      " 'Jodhpur Vidyut Vitran Nigam Limited' 'MSPL' 'Greta Energy ltd'\n",
      " 'Ongc Gas corp' 'Technocraft Technocraft group'\n",
      " 'Megha Engineering and Infrastructure' 'Alianz Eco Power Private Limited'\n",
      " 'Nexgen Solux Private Limited'\n",
      " 'Solairedirect Projects India Private Limited' 'Grasim Industries ltd'\n",
      " 'Reliance Reliance petrochemicals' 'Gmt Pvt ltd' 'Purti Sugar ltd'\n",
      " 'Topworth Metals ltd' 'Orient Power ltd' 'Rattanindia Power ltd'\n",
      " 'National And paper' 'Nitin Spinners ltd' 'NMDC'\n",
      " 'Nuziveedu Seeds limited' 'EMC Limited' 'Tadas Wind Energy'\n",
      " 'Bhoruka Power' 'Godawari Green Energy Limited (GGEL)'\n",
      " 'Precision Technik Private Limited'\n",
      " 'Alex Spectrum Radiations Private Limited' 'NuPower'\n",
      " 'Gangakhed Energy ltd' 'Reliance Ltd ril)' 'Sinarmas Paper ltd'\n",
      " 'Gujarat Mineral Development Corporation Limited (GMDC)'\n",
      " 'Tratnagiri Wind Power Projects Private Limited'\n",
      " 'Patnaik Minerals Pvt. Ltd' 'Vivek Pharmachem (India) Limited'\n",
      " 'Rajasthan Renewable Energy Corporation Limited (RREC)'\n",
      " 'Reliance Power Limited' 'Powerica Limited'\n",
      " 'Integrated Coal Mining (ICML)' 'Precious Energy Services Pvt Ltd'\n",
      " 'Azure Urja Private Limited' 'Surana Industries ltd' 'Grasim Cement ltd'\n",
      " 'Spr Pvt ltd' 'Natural Alliend indust' 'Shree Cement ltd'\n",
      " 'Rajasthan State Mines and Minerals Limited'\n",
      " 'National Thermal Power Corporation (NTPC)'\n",
      " 'Astonfield Management Limited' 'Welspun Solar Punjab Private Limited'\n",
      " 'Taxus Infrastructure and Power Projects Pvt Ltd'\n",
      " 'Ganges Enterprises Private Limited' 'Ratedi Wind Power Private Limited'\n",
      " 'Indian Oil Corporation (IOC)' 'Northwest Energy Private Limited (NWEPL)'\n",
      " 'SEI Solar Energy Private Limited' 'Welspun Solar AP Private Limited'\n",
      " 'Relaxo Footwears Limited' \"Roaring 40's Wind Farms Private Limited\"\n",
      " 'Rucha Soya Industries Limited' 'Sahakar Shiromani vasantrao'\n",
      " 'Godavari Mills ltd' 'Kranti Ssk ltd' 'Sinewave Pvt ltd'\n",
      " 'Vasantdada Ssk ltd' 'Shri Hiranyakeshi ssk'\n",
      " 'Sahakarmaharshi Bhausaheb thor' 'Datta Ssk ltd' 'Shri Malaprabha ssk'\n",
      " 'Dcm Industries ltd' 'Mula Ssk ltd' 'SWPPL'\n",
      " 'Aftaab Solar Private Limited (ASPL)'\n",
      " 'Raajratna Energy Holdings Private Limited (REHPL)' 'Sai Sulphonates'\n",
      " 'Omega Solar Projects Private Limited' 'Mono Steel (India) Ltd'\n",
      " 'Jain Solar' 'Backbone Enterprises Limited'\n",
      " 'S J Green Park Energy Private Limited' 'Konark Gujarat Private Limited'\n",
      " 'Shree Naman Developers Ltd.' 'Moser Baer Clean Energy Limited (MBCEL)'\n",
      " 'Green Infra Wind Power Projects Limited' 'Solitaire Energies Pvt Ltd'\n",
      " 'Centaur Mercantile Pvt. Ltd.' 'Sterling Agro Industries ltd.'\n",
      " 'Sumilon Industries Limited' 'Clover Solar Private Limited (CSPL)'\n",
      " 'Dhariwal Pvt ltd' 'Mukesh Gupta group' 'Rashtriya & fert'\n",
      " 'Nocil Nocil rubber' 'TVS Energy limited' 'TVS Energy Limited'\n",
      " 'Tadas Wind Energy Private Limited' 'Tata BP Solar India Limited'\n",
      " 'Tata Power' 'Rayala Wind Power Company Private Limited'\n",
      " 'Moser Baer Solar Limited (MBSL)' 'Torrent Power Limited' 'UPL'\n",
      " 'Vardham Vardham group' 'Kesoram Industries ltd' 'National Ltd nfl)'\n",
      " 'Vikram Vikram cement' 'Vaayu Renew'\n",
      " 'Gujarat Industries Power Company Limited (GIPCL)'\n",
      " 'ACME Cleantech Solutions Private Limited' 'Videocon Industries Limited'\n",
      " 'Weizzmann Forex Limited' 'Riddhi Siddhi Gluco Biols Limited'\n",
      " 'Mytrah Energy (India) Limited' 'Yashwantrao Krishna ssk'\n",
      " 'iEnergy Wind Farms']\n",
      "Acc Acc ltd                                                    4\n",
      "Sterling Agro Industries ltd.                                  4\n",
      "Jk Cement ltd                                                  4\n",
      "SWPPL                                                          3\n",
      "Jaypee Ltd jccl)                                               3\n",
      "                                                              ..\n",
      "Sunkon Energy Private Limited                                  1\n",
      "West Bengal Energy Development Corporation Limited (WBEDCL)    1\n",
      "Energy Infratech Private Limited                               1\n",
      "K. N. Ram                                                      1\n",
      "iEnergy Wind Farms                                             1\n",
      "Name: owner, Length: 280, dtype: int64\n",
      "-----------------------------------------------------------------------------------------------------------\n",
      "source : ['National Renewable Energy Laboratory' 'Ultratech Cement ltd' 'CDM'\n",
      " 'Central Electricity Authority' 'Hindustan Pvt lt' 'Dr Ssk ltd'\n",
      " 'Ashok Ssk ltd' 'Shree Sugars ltd' 'Navbharat' 'Meil.In/P' 'Lancosola'\n",
      " 'Indian Power ltd' 'Ballarpur Industries ltd' 'Jk Cement ltd'\n",
      " 'India Ltd icl)' 'Ideal Projects ltd' 'Ugar Works ltd'\n",
      " 'Vishwanath Sugars ltd' 'Hothur Pvt ltd' 'Janki Corp ltd'\n",
      " 'Mysore Mills ltd' 'Sunflag Co ltd' 'Varam Pvt ltd' 'Sangam Spinners ltd'\n",
      " 'Bharat Refinery ltd' 'Binani Industries ltd' 'Indo Synthetics ltd'\n",
      " 'Ambed K Sugar' 'AES Winfra' 'Sembcorp' 'Punj Lloyd' 'Hiraco India'\n",
      " 'Moserbaer Solar' 'Lingandwi' 'LEPL' 'CleanEnerg teLeanenergy'\n",
      " 'Adani Power Limite r Er' 'Madhav Group' 'Power Private edM/Pdf'\n",
      " 'Acc Acc ltd' 'Birla Corp ltd' 'Hindustan Zinc ltd' 'Gupta Ltd gepl)'\n",
      " 'Manikghar Cement co' 'Core Fuels ltd'\n",
      " 'Maharashtra State Power Generation Co Ltd (MAHAGENCO)' 'Solar for India'\n",
      " 'P3 Green' 'Reliance Power Ltd' 'Bmm Pvt ltd' 'Daund Sugar ltd'\n",
      " 'Davangere Co ltd' 'Mukand Mukand ltd' 'Shri Ssk ltd' 'Jsw Steel ltd'\n",
      " 'Shamanur Sugars ltd' 'Jai Industries ltd'\n",
      " 'National Thermal Power Corporation (NTPC)' 'West Coast Paper Mills Ltd.'\n",
      " 'Ujaas Energy Limited' 'Est vt Arind'\n",
      " 'Aravali Infrapower Private Limited (AIPL)'\n",
      " 'Sovox Renewables Private Limited' 'Chambal & chem'\n",
      " 'Lloyds Industries ltd' 'Grace Industries ltd' 'Orient Cement ltd'\n",
      " 'SunBorne Energy Gujarat One Private Limited'\n",
      " 'Pandit Deendayal Petrolium University (PDPU)'\n",
      " 'Ministry of New and Renewable Energy'\n",
      " 'Rajasthan Renewable Energy Corporation Limited (RREC)' 'Solaer'\n",
      " 'Amrit Energy Private Limited' 'Jawahar Ssk ltd' 'Purna Ssk ltd'\n",
      " 'Rk Pvt ltd' 'Essel MP Energy Limited' 'Harsha Engineers Limited'\n",
      " 'Karnataka Power Corporation Limited' 'Godawari Energy ltd'\n",
      " 'Jaypee Ltd jccl)' 'Sunkon Energy Private Limited'\n",
      " 'West Bengal Energy Development Corporation Limited (WBEDCL)'\n",
      " 'Chettinad Corp ltd' 'Kjs Ahluwalia group' 'Ym Ssk ltd'\n",
      " 'Maral Overseas ltd' 'Gm Energy ltd' 'Uttam Steels ltd' 'Sri Sugars ltd'\n",
      " 'Hemarus Technologies ltd' 'Shri Vedganga ssk' 'Kumbhi Ssk ltd'\n",
      " 'Bannari Sugars ltd' 'Nsl Sugars ltd' 'Hare Pvt ltd' 'Dcm & chem'\n",
      " 'Gem Sugars ltd' 'Azure Power (Rajasthan) Private Limited'\n",
      " 'Real Estate e' 'Sepset Constructio te'\n",
      " 'Gujarat Urja Vikas Nigam Limited' 'Firestone Trading Private Limited'\n",
      " 'Solairedirect' 'ACME Solar Energy' 'Unity Power Limite r World'\n",
      " 'Urja India edEnewables' 'Infratech e M/Pdf' 'S Limited Rsolar' 'IAEA'\n",
      " 'Tata Co ltd' 'Lokmangal Lokmangal group' 'Powers Private'\n",
      " 'Clean Energy edOjects.Com' 'PEDA' 'Mahatma Power ltd' 'Bharat Corp ltd'\n",
      " 'Maihar Cement ltd' 'Mangalore & petrochem' 'Manglam Cement ltd'\n",
      " 'Manikgarh Manikgarh cement' 'Ambuja Cements ltd' 'Rswm Rswm ltd'\n",
      " 'Greta Energy ltd' 'Ongc Gas corp' 'Technocraft Technocraft group'\n",
      " 'Tata Power Solar' 'Grasim Industries ltd' 'Reliance Petrochemicals'\n",
      " 'Gmt Pvt ltd' 'Purti Sugar ltd' 'Topworth Metals ltd' 'Orient Power ltd'\n",
      " 'Rattanindia Power ltd' 'National And paper' 'Nitin Spinners ltd'\n",
      " 'EMC Limited' 'Hira Group' 'Precision Technik Private Limited'\n",
      " 'Gangakhed Energy ltd' 'Sinarmas Paper ltd'\n",
      " 'Gujarat Mineral Development Corporation Limited (GMDC)' 'Coal Mi ICM'\n",
      " 'Se Pvt Rsolar' 'Urja Private edEr' 'Surana Industries ltd'\n",
      " 'Grasim Cement ltd' 'Spr Pvt ltd' 'Natural Alliend indust'\n",
      " 'Shree Cement ltd' 'Astonfield Management Limited'\n",
      " 'Welspun Solar Punjab Private Limited'\n",
      " 'Taxus Infrastructure and Power Projects Pvt Ltd'\n",
      " 'Indian Oil Corporation (IOC)' 'Sterling and Wilson'\n",
      " 'SEI Solar Energy Private Limited' 'Welspun Solar AP Private Limited'\n",
      " 'Sahakar Shiromani vasantrao' 'Godavari Mills ltd' 'Kranti Ssk ltd'\n",
      " 'Sinewave Pvt ltd' 'Vasantdada Ssk ltd' 'Shri Hiranyakeshi ssk'\n",
      " 'Sahakarmaharshi Bhausaheb thor' 'Datta Ssk ltd' 'Shri Malaprabha ssk'\n",
      " 'Dcm Industries ltd' 'Mula Ssk ltd' 'Aftaab Solar Private Limited (ASPL)'\n",
      " 'Raajratna Energy Holdings Private Limited (REHPL)'\n",
      " 'Mono Steel (India) Ltd' 'Jain Solar' 'Backbone Enterprises Limited'\n",
      " 'S J Green Park Energy Private Limited' 'Konark Gujarat Private Limited'\n",
      " 'Moser Baer Clean Energy Limited (MBCEL)'\n",
      " 'Clover Solar Private Limited (CSPL)' 'Dhariwal Pvt ltd'\n",
      " 'Mukesh Gupta group' 'Rashtriya & fert' 'Nocil Nocil rubber'\n",
      " 'Tata BP Solar India Limited' 'Moser Baer Solar Limited (MBSL)'\n",
      " 'Vardham Vardham group' 'Kesoram Industries ltd' 'National Ltd nfl)'\n",
      " 'Vikram Vikram cement' 'Gujarat Industries Power Company Limited (GIPCL)'\n",
      " 'ACME Cleantech Solutions Private Limited' 'Videocon Industries Limited'\n",
      " 'Yashwantrao Krishna ssk']\n",
      "Central Electricity Authority                                  519\n",
      "CDM                                                            124\n",
      "Lancosola                                                       10\n",
      "National Renewable Energy Laboratory                             8\n",
      "National Thermal Power Corporation (NTPC)                        6\n",
      "                                                              ... \n",
      "Harsha Engineers Limited                                         1\n",
      "Godawari Energy ltd                                              1\n",
      "Sunkon Energy Private Limited                                    1\n",
      "West Bengal Energy Development Corporation Limited (WBEDCL)      1\n",
      "Yashwantrao Krishna ssk                                          1\n",
      "Name: source, Length: 191, dtype: int64\n",
      "-----------------------------------------------------------------------------------------------------------\n",
      "url : ['http://www.nrel.gov/csp/solarpaces/project_detail.cfm/projectID=262'\n",
      " 'http://www.ultratechcement.com/'\n",
      " 'https://cdm.unfccc.int/Projects/DB/DNV-CUK1328700673.83/view'\n",
      " 'http://www.cea.nic.in/' 'http://www.hindustanpowerprojects.com/'\n",
      " 'http://www.ambedkarsugar.com/'\n",
      " 'http://www.mapsofindia.com/whitepages/foods-and-beverages/food-processors-and-manufacturers/ashokssklimited'\n",
      " 'http://www.renukasugars.com/'\n",
      " 'http://www.nrel.gov/csp/solarpaces/project_detail.cfm/projectID=254'\n",
      " 'http://www.navbharatbuildcon.com/windmill--solar-plant.html'\n",
      " 'https://cdm.unfccc.int/Projects/DB/DNV-CUK1216117082.43/view'\n",
      " 'http://www.meil.in/power-projects'\n",
      " 'https://cdm.unfccc.int/Projects/DB/LRQA%20Ltd1348755977.79/view'\n",
      " 'https://cdm.unfccc.int/Projects/DB/BVQI1379744232.36/viewhttps://cdm.unfccc.int/Projects/DB/LRQA%20Ltd1278588174.29/view'\n",
      " 'http://www.lancosolar.com/pdfs/rajasthan-pv-project-details.pdf'\n",
      " 'http://www.icpluttur.com/' 'http://bilt.com/' 'http://www.jkcement.com/'\n",
      " 'http://www.indiacements.co.in/'\n",
      " 'https://cdm.unfccc.int/Projects/DB/DNV-CUK1218300485.48/view'\n",
      " 'https://cdm.unfccc.int/Projects/DB/RINA1416216844.8/view'\n",
      " 'http://www.idealenergysolar.com/' 'http://www.ugarsugar.com/'\n",
      " 'http://www.vssil.co.in/' 'http://hothurindia.com/'\n",
      " 'http://jankicorp.com/' 'http://www.mpm.co.in/'\n",
      " 'http://www.sunflagsteel.com/'\n",
      " 'http://www.bloomberg.com/profiles/companies/4115076Z:IN-varam-bio-energy-pvt-ltd'\n",
      " 'http://www.sangamgroup.com/' 'http://borl.in/'\n",
      " 'http://binaniindustries.com/'\n",
      " 'https://cdm.unfccc.int/filestorage/T/0/C/T0CJ85FSL1WN9VEXID67ZOBMQRGAPH/Revised%20PDD%20-%20Clean.pdf?t=UE58b2pkZGN1fDC4di78ksdJWNuCM4aKL4xu'\n",
      " 'http://www.indoramaindia.com/'\n",
      " 'http://www.ambedkarsugar.com/solar_power.php'\n",
      " 'http://www.aewinfra.com/solar.html'\n",
      " 'https://cdm.unfccc.int/filestorage/S/7/J/S7JBL0QFRHWA1DEZ2O4NUTG5Y6VKMP/PDD%20BASML%20Version%2003.pdf?t=Mmh8b2pxZWR0fDDj8zCpobgUeh2ry3t0r5N5'\n",
      " 'http://www.sembcorp.com/en/media/features?Id=9179'\n",
      " 'https://cdm.unfccc.int/filestorage/Jyh1M'\n",
      " 'http://www.punjlloyd.com/energy/renewables' 'http://www.hiracoindia.com'\n",
      " 'http://www.moserbaersolar.com'\n",
      " 'http://sterlingandwilson.com/giriraj-enterprises-solar-rajasthan'\n",
      " 'http://www.lepl.in'\n",
      " 'https://cdm.unfccc.int/filestorage/7/l/SG76AFZB9EYTJ4321MOWIKQ8PCDNXR.pdf/9684%20PDD.pdf?t=emF8b2pibm5jfDCvkTnPwzrrv5OWSd79JKVI'\n",
      " 'https://cdm.unfccc.int/filestorage/t/h/3ZTDL1JSY8F96X7WM05GQEOBHVCRKU.pdf/PDD_0.85%20MW%20x%202%20Wind?t=OUd8b2pibmtifDA3QWPDKTd9w1VzFuhHzr3p'\n",
      " 'https://cdm.unfccc.int/Projects/DB/DNV-CUK1204705646.68/view'\n",
      " 'https://cdm.unfccc.int/filestorage/K/H/4/KH4609PBJU1SRCMD8W7FNQ2LTZGIO5/ENRE%20PDD%20version%205_0_21_12_2010%20Clean%20Mode.pdf?t=dWt8b2picnVxfDDdBloH5bI-0qA-0I--EtaE'\n",
      " 'https://cdm.unfccc.int/filestorage/z/g/GHX720LOZTBENA6IVS1PJCWF8YMKUD.pdf/2347%20Revised%20PDD.pdf?t=YUh8b2picHN3fDCY1tP_B8ik_E25vGal7UR-'\n",
      " 'http://www.lancosolar.com'\n",
      " 'https://cdm.unfccc.int/filestorage/h/l/W9FUXHOTR0Y5V2KQBIS4MPN17JEZLC.pdf/PDD%20-%2098.7%20MW%20wind%20power%20project%20at%20Ratlam%20in%20Madhya%20Pradesh%20by%20DJ%20Energy%20Private%20Limited.pdf?t=R2x8b2picWpsfDACMivhrOTU62i3hfmcbopg'\n",
      " 'http://www.abelloncleanenergy.com' 'http://www.adanipower.com'\n",
      " 'http://www.madhavcorp.com'\n",
      " 'http://www.rrecl.com/PDF/Details%20of%20Rajasthan.pdf'\n",
      " 'http://www.acclimited.com/' 'http://www.birlacorporation.com/'\n",
      " 'http://www.hzlindia.com/' 'http://guptacoal.com/'\n",
      " 'http://www.manikgarhcement.com/' 'http://www.coregreen.in/'\n",
      " 'http://mahagenco.in' 'https://natgrp.org/charanka-gujarat-solar-park/'\n",
      " 'https://cdm.unfccc.int/Projects/DB/DNV-CUK1304071464.49/view'\n",
      " 'http://www.p3green.com' 'http://www.reliancepower.co.in/'\n",
      " 'http://jobs.cari.co.in/jobs/bmm-ispat-ltd' 'http://www.daundsugar.com/'\n",
      " 'http://biomass-power.industry-focus.net/karnataka-biomass-projects/148-davangere-sugar-co-to-set-up-30-mw-biomass-power-project-davangere-sugar-co-to-set-up-30-mw-biomass-power-project.html'\n",
      " 'http://www.mukand.com/' 'http://dssk.co.in/' 'http://www.jsw.in/'\n",
      " 'http://www.tradeindia.com/Seller-5380843-SHAMANUR-SUGARS-LIMITED/'\n",
      " 'https://www.jaibalajigroup.com/power.html' 'http://www.ntpc.co.in'\n",
      " 'http://www.westcoastpaper.com/infrastructure/'\n",
      " 'https://cdm.unfccc.int/Projects/DB/DNV-CUK1142448670.58/view'\n",
      " 'https://natgrp.files.wordpress.com/solar-power-rajasthan-upto-march-2013.pdf'\n",
      " 'https://cdm.unfccc.int/filestorage/Y/I/R/YIR8M4NQJKLW63H1OZCGBTSA729PU5/37.5_MW_PDD_-_37.5_MW_Wind_power_project_at_Pratapgarh%2C_Rajasthan?t=WTF8b2pkZHAyfDApG31asZJ6b9TuTgaPGJDE'\n",
      " 'http://ujaas.com' 'http://www.firstsolarind.com' 'http://www.aipl.in'\n",
      " 'http://www.nrel.gov/csp/solarpaces/project_detail.cfm/projectID=272'\n",
      " 'http://www.nrel.gov/csp/solarpaces/project_detail.cfm/projectID=258'\n",
      " 'http://www.rrecl.com/PDF/Details%20of20Rajasthan.pdf'\n",
      " 'https://cdm.unfccc.int/Projects/DB/PJR%20CDM1328594375.93/view'\n",
      " 'https://cdm.unfccc.int/Projects/DB/URSCert1371557111.17/view'\n",
      " 'https://cdm.unfccc.int/Projects/DB/DNV-CUK1185356859.49/view'\n",
      " 'https://cdm.unfccc.int/Projects/DB/DNV-CUK1279516994.31/view'\n",
      " 'https://cdm.unfccc.int/filestorage/O/6/L/O6LOWTE60VD7BDDY8ZB8AQBVNQQZCJ/1115%20PDD%20revised.pdf?t=dWd8b2picW9kfDBLXNNinuA2EARAJAJta6Yw'\n",
      " 'https://cdm.unfccc.int/Projects/DB/BVQI1354554757.67/view'\n",
      " 'https://cdm.unfccc.int/Projects/DB/RWTUV1346053136.1/view'\n",
      " 'http://chambalfertilisers.com/'\n",
      " 'https://cdm.unfccc.int/Projects/DB/RWTUV1202913883.06/view'\n",
      " 'http://www.lloyds.in/'\n",
      " 'https://cdm.unfccc.int/Projects/DB/RWTUV1323884772.8/view'\n",
      " 'http://www.graceindustries.com/' 'http://www.orientcement.com/'\n",
      " 'https://cdm.unfccc.int/Projects/DB/BVQI1239021527.94/view'\n",
      " 'http://sunborneenergy.com' 'http://www.pdpu.ac.in'\n",
      " 'http://www.nrel.gov/csp/solarpaces/project_detail.cfm/projectID=247'\n",
      " 'http://mnre.gov.in/file-manager/UserFiles/State%20wise%20commissioning%20status%20of%20grid%20connected%20solar%20power%20projects/Rajasthan.pdf'\n",
      " 'http://energy.rajasthan.gov.in/content/dam/raj/energy/common/Details%20of%20commissioned%20Solar%20Projects%20.pdf'\n",
      " 'https://cdm.unfccc.int/filestorage/d/d/56KO8FQND07Y3H12PBALXWG9MRC4JV.pdf/PDD_-_GMDC_V05.pdf?t=bGh8b2pkZDEwfDAxL3Mrj_s1ZpnXL5ljSdCb'\n",
      " 'https://www.google.com/maps/d/embed?mid=1bXiXRcLRnBCUfpkHM2J5EVryhG4&ll=31.06035315253383%2C35.02284616406246&z=8'\n",
      " 'http://www.nrel.gov/csp/solarpaces/project_detail.cfm/projectID=263'\n",
      " 'http://www.rrecl.com/PDF/Details%0Rajasthan.pdf'\n",
      " 'http://www.mnre.gov.in' 'http://www.shamrajenercon.com/cer16.htm'\n",
      " 'http://www.purnasakhar.com/' 'http://rkmpowergen.in/'\n",
      " 'https://cdm.unfccc.int/Projects/DB/BVQI1208874936.63/view'\n",
      " 'https://cdm.unfccc.int/Projects/DB/DNV-CUK1351776938.73/view'\n",
      " 'https://cdm.unfccc.int/Projects/DB/DNV-CUK1352807242.64/view'\n",
      " 'https://cdm.unfccc.int/filestorage/x/_/BYO3D0NJE4W2ZULSAXTQC61IM5HV9R.pdf/7873-PDD-25%20Oct%2012.pdf?t=ZGh8b2pkZ3A5fDB5_GTLkYcWdSL2xW6rf1F3'\n",
      " 'https://cdm.unfccc.int/Projects/DB/BVQI1211956663.14/view'\n",
      " 'https://cdm.unfccc.int/filestorage/s/x/8LZ62R4VIOK570F3AWSBNTUECYJ9XD.pdf/3_Revsied_PDD_JAL_2013_01_08_Clean_mode.pdf?t=VkZ8b2pkY2xwfDD7-5fVv-HnyeV-IOsi3cee'\n",
      " 'http://www.esselgroup.com'\n",
      " 'https://cdm.unfccc.int/Projects/DB/LRQA%20Ltd1346322352.66/view'\n",
      " 'https://cdm.unfccc.int/Projects/DB/DNV-CUK1351166669.28/view'\n",
      " 'http://harshaengineers.com' 'http://karnatakapower.com'\n",
      " 'http://hiragroup.com/companies/godawari-green-energy-limited/'\n",
      " 'http://www.jklakshmicement.com/'\n",
      " 'http://www.jalindia.com/subsidiaries.html'\n",
      " 'http://www.jinkosolar.com/press_detail_568.html?lan=en'\n",
      " 'http://wbpdcl.co.in'\n",
      " 'https://cdm.unfccc.int/Projects/DB/RWTUV1342443620.03/view'\n",
      " 'https://cdm.unfccc.int/Projects/DB/RWTUV1279520653.8/view'\n",
      " 'https://cdm.unfccc.int/Projects/DB/BVQI1312546277.77/view'\n",
      " 'https://cdm.unfccc.int/Projects/DB/BVQI1351922842.98/view'\n",
      " 'http://www.chettinad.com/' 'http://www.kjsahluwaliagroup.com/'\n",
      " 'http://www.kcpsugar.com/index.html' 'http://maraloverseas.com/'\n",
      " 'http://www.gmsugars.com/' 'http://www.uttamgalva.com/'\n",
      " 'http://www.chamundeswarisugars.in/'\n",
      " 'http://www.hemarus.co.in/facilities.html'\n",
      " 'http://www.tradeindia.com/Seller-6835496-Shri-Dudhganga-Vedganga-SSK-Ltd-/'\n",
      " 'http://www.kumbhisugar.com/' 'http://www.bannari.com/sugar.html'\n",
      " 'http://www.nslsugars.com/'\n",
      " 'http://www.tradeindia.com/Seller-2020295-HARE-KRISHNA-METALLICS-PVT-LTD-/'\n",
      " 'http://www.dcmshriram.com/'\n",
      " 'https://cdm.unfccc.int/Projects/DB/SGS-UKL1300103078.33/view'\n",
      " 'http://www.gemgroup.in/gem-sugar.html'\n",
      " 'http://www.nrel.gov/csp/solarpaces/project_detail.cfm/projectID=260'\n",
      " 'https://cdm.unfccc.int/Projects/DB/RWTUV1356681143.52/view'\n",
      " 'https://cdm.unfccc.int/Projects/DB/RWTUV1297334588.3/view'\n",
      " 'http://www.azurepower.com'\n",
      " 'http://www.mahaurja.com/PDF/PG2_GridConnSPPCommissioned.pdf'\n",
      " 'http://www.solairedirect.com' 'http://www.acme.in'\n",
      " 'http://www.backboneworld.com' 'http://www.welspunrenewables.com'\n",
      " 'http://www.rrecl.com/PDF/Details%20of%Rajasthan.pdf'\n",
      " 'https://cdm.unfccc.int/filestorage/L/V/Q/LVQ9ANSCJX8164E5H7PWYIB3O0RZ2U/Revised%20PDD%20Version%2006%20dated%205th%20June%202012%20-%20Clean%20mode.pdf?t=akx8b2pxZm9ufDC6M3RsDeQKejKPRFouqWsR'\n",
      " 'https://cdm.unfccc.int/Projects/DB/BVQI1302691944.71/view'\n",
      " 'http://www.tatapowersolar.com'\n",
      " 'https://cdm.unfccc.int/filestorage/w/m/64TXH0Y1V9ZCISBKO3F758PEQNUJDR.pdf/PDD__V-2_5_19_10_2012.pdf?t=akh8b2pkZTFtfDAP0pu4sjZSao0P-GV-Qzqn'\n",
      " 'https://cdm.unfccc.int/filestorage/a/1/0JPNG5S4A821KD6IUHWBOEYRVFTL3X.pdf/ALWE%20PDD_Ver%206%20_06.03.2013_%20Clean%20.pdf?t=dlV8b2picjMyfDAQ_TbHluMZz9jMHYOK8XbU'\n",
      " 'https://cdm.unfccc.int/Projects/DB/BVQI1315830379.2/view'\n",
      " 'https://www.iaea.org/PRIS/CountryStatistics/ReactorDetails.aspx?current=853'\n",
      " 'https://cdm.unfccc.int/Projects/DB/SGS-UKL1200600517.28/view'\n",
      " 'https://cdm.unfccc.int/Projects/DB/KBS_Cert1356901378.31/view'\n",
      " 'http://www.tatapower.com/' 'http://lokmangal.com/site/agro.html'\n",
      " 'https://cdm.unfccc.int/Projects/DB/RINA1359562234.41/view'\n",
      " 'http://www.peda.gov.in/main/SPVPowerProjects.html'\n",
      " 'http://esselinfraprojects.com'\n",
      " 'https://cdm.unfccc.int/Projects/DB/LRQA%20Ltd1354282051.48/view'\n",
      " 'https://cdm.unfccc.int/Projects/DB/LRQA%20Ltd1335362700.21/view'\n",
      " 'http://www.lancogroup.com'\n",
      " 'https://cdm.unfccc.int/Projects/DB/Applus1436171071.3/view'\n",
      " 'https://www.zaubacorp.com/company/MAHATMA-SUGAR-POWER-LIMITED/U15421MH1997PLC111855'\n",
      " 'https://bharatpetroleum.com/' 'http://www.maiharcement.co.in/'\n",
      " 'https://mrpl.co.in/' 'http://www.mangalamcement.com/'\n",
      " 'http://www.ambujacement.com/' 'http://rswm.in/'\n",
      " 'https://cdm.unfccc.int/Projects/DB/LRQA%20Ltd1278588174.29/view'\n",
      " 'https://cdm.unfccc.int/filestorage/I/M/8/IM82KOV79XD6W1FSRY0APUBQT5HNG3/PDD%20Version%203.1?t=eXJ8b2pkY3A3fDDe6Zq2yZtRMfXDrbXuYkLx'\n",
      " 'http://www.jkcement.com/power-plants' 'http://www.gretagroup.com/'\n",
      " 'http://www.ongcindia.com/' 'http://www.technocraftgroup.com/'\n",
      " 'https://cdm.unfccc.int/filestorage/A/R/Q/ARQ8TKW54JBLF1U3E6OXVHCDSN9M70/PDD-CEM-0792-27-09.pdf?t=V0d8b2pibmNpfDBisKvrZGRCvGuhGr5W8zZF'\n",
      " 'http://www.nrel.gov/csp/solarpaces/project_detail.cfm/projectID=264'\n",
      " 'https://cdm.unfccc.int/filestorage/o/t/LOE8KY3952J1UZAFN6CHMPQBVD7RS0.pdf/PDD_RSMML.pdf?t=QUZ8b2pkZzRzfDAgGCgKw2iEeb78bqr1DaV0'\n",
      " 'https://cdm.unfccc.int/filestorage/_/r/F932EYQBPVM7IXZ4KWRUG5HT6S0ACL.pdf/7895-PDD-26%20Oct%2012.pdf?t=aEJ8b2picjhvfDAyiJ_x---be015MnlJwvjn'\n",
      " 'https://www.solairedirect.com' 'http://www.grasim.com/'\n",
      " 'http://www.ril.com/OurBusinesses/Petrochemicals.aspx'\n",
      " 'http://purtigroup.com/gmt-mining.html' 'http://purtigroup.com/'\n",
      " 'http://www.topworthgroup.com/' 'http://www.orientgreenpower.com/'\n",
      " 'http://www.rattanindia.com/'\n",
      " 'http://www.epw.in/journal/1962/42/chair-uncategorised/national-newsprint-and-paper-mills-ltd-nepanagar-mp.html'\n",
      " 'http://www.moneycontrol.com/india/stockpricequote/cement-major/jkcement/JKC03'\n",
      " 'http://www.nitinspinners.com/'\n",
      " 'https://cdm.unfccc.int/Projects/DB/RWTUV1323884913.69/view'\n",
      " 'https://cdm.unfccc.int/Projects/DB/DNV-CUK1173772302.89/view'\n",
      " 'https://cdm.unfccc.int/Projects/DB/RWTUV1135356510.37/view'\n",
      " 'https://cdm.unfccc.int/filestorage/5/D/0/5D0I7GCWXZ1VFNS6ROQKHTMYL8JA39/Nagercoil%20PDD%20Corrected_c.pdf?t=bkl8b2pkZGlofDAiW_GZYG7HXm3tF_Ie-IsH'\n",
      " 'http://www.emcpower.com'\n",
      " 'https://cdm.unfccc.int/Projects/DB/LRQA%20Ltd1355495522.4/view'\n",
      " 'https://cdm.unfccc.int/Projects/DB/PJR%20CDM1353582075.03/view'\n",
      " 'http://hiragroup.com'\n",
      " 'https://cdm.unfccc.int/filestorage/3/x/NUSA0ZGPJRT6YXIMEVOB74WDHQ5KF8.pdf/Final%20PDD.pdf?t=QzV8b2picHExfDDzqlVY2T6pSjzHeaKJVjyC'\n",
      " 'https://cdm.unfccc.int/filestorage/L/M/Z/LMZG56NYST19Q7IHD4EPXJRF2VB03W/PDD.pdf?t=R1p8b2picTYxfDApzXyA-gGP8NbbOgKvi68C'\n",
      " 'https://cdm.unfccc.int/filestorage/F/X/W/FXWNHT2DU5RV3BGL7YA8ZKPI46OS9E/2856_PDD_clean.pdf?t=RGp8b2picmp5fDB2P7QGVKqmOvLt7pNBaIqW'\n",
      " 'http://www.gangakhedicpp.com/' 'http://www.ril.com/'\n",
      " 'http://www.sinarmas.com/en/business-units/' 'http://www.gmdcltd.com'\n",
      " 'https://cdm.unfccc.int/Projects/DB/SIRIM1355276782.28/view'\n",
      " 'https://cdm.unfccc.int/Projects/DB/RWTUV1306214743.43/view'\n",
      " 'https://cdm.unfccc.int/Projects/DB/RWTUV1288029478.94/view'\n",
      " 'http://www.reliancepower.co.in'\n",
      " 'https://cdm.unfccc.int/Projects/DB/RWTUV1411994965.49/view'\n",
      " 'https://cdm.unfccc.int/Projects/DB/LRQA%20Ltd1270819651.34/view'\n",
      " 'https://cdm.unfccc.int/Projects/DB/LRQA%20Ltd1300097036.88/view'\n",
      " 'https://cdm.unfccc.int/Projects/DB/LRQA%20Ltd1264590823.08/view'\n",
      " 'http://icmlindia.com' 'http://www.suranaind.com/'\n",
      " 'http://www.mapsofindia.com/whitepages/foods-and-beverages/food-processors-and-manufacturers/sprsugars'\n",
      " 'http://naturalsugar.in/' 'http://www.shreecement.in/'\n",
      " 'https://cdm.unfccc.int/Projects/DB/BVQI1201770524.09/view'\n",
      " 'http://astonfield.com' 'http://taxusgroup.com'\n",
      " 'https://cdm.unfccc.int/Projects/DB/RINA1354700454.05/view'\n",
      " 'https://www.iocl.com'\n",
      " 'http://sterlingandwilson.com/northwest-energy-pvt-ltd'\n",
      " 'http://ifcext.ifc.org/ifcext/91'\n",
      " 'https://cdm.unfccc.int/Projects/DB/SGS-UKL1316100537.64/view'\n",
      " 'https://cdm.unfccc.int/Projects/DB/DNV-CUK1263981578.63/view'\n",
      " 'https://cdm.unfccc.int/filestorage/z/4/H6BE40Q3YPZ7ULD8OWFR1AIT5V2SXM.pdf/8592%20PDD.pdf?t=Sjd8b2pkZHV0fDDHMHx5kl40-cCl4qrFlA08'\n",
      " 'https://cdm.unfccc.int/Projects/DB/RWTUV1285157251.43/view'\n",
      " 'http://www.sitsonindia.com/pdf/EPC%20power%20projects.pdf'\n",
      " 'http://www.somaiya.com/'\n",
      " 'http://food.industry-focus.net/sugar/379-kranti-ssk-to-expand-its-sugar-mill-in-kundal-village-kranti-ssk-to-expand-its-sugar-mill-in-kundal-village.html'\n",
      " 'https://cdm.unfccc.int/Projects/redirector?ref=4063'\n",
      " 'http://viainfotech.biz/Biomass/theme5/document/green_market/REC-project-list.pdf'\n",
      " 'http://www.belgaum.nic.in/english/Heerasugarfactory.html'\n",
      " 'http://www.thoratsugar.com/' 'http://dattasugar.co.in/'\n",
      " 'http://www.mapsofindia.com/whitepages/foods-and-beverages/wine-and-beer/shrimassk'\n",
      " 'http://www.dcmsr.com/'\n",
      " 'https://cdm.unfccc.int/Projects/DB/LRQA%20Ltd1340102581.62/view'\n",
      " 'https://cdm.unfccc.int/Projects/DB/BVQI1351312018.91/view'\n",
      " 'http://www.cdmindia.gov.in/project_details_view.php?id=1511'\n",
      " 'http://rehpl.co.in'\n",
      " 'https://cdm.unfccc.int/Projects/DB/DNV-CUK1318484242.75/view'\n",
      " 'https://cdm.unfccc.int/filestorage/0/5/A/05AYCZFT4LWMHD216PU9SV7XO8BENR/PDD%20Version%201.2?t=U2Z8b2picWJsfDAiEl4MxIcSh1urnyFbvIy_'\n",
      " 'http://www.monosteel.in'\n",
      " 'http://www.jains.com/Solar/Renewable%20energy.htm'\n",
      " 'http://www.madhavgrp.co.in/SJ_solar.html' 'http://www.konarkgroup.co.in'\n",
      " 'https://cdm.unfccc.int/filestorage/D/O/R/DORZF791H8K4NWACPQ5IMTUYLG2VXE/CDM_PDD_v6.pdf?t=WGN8b2sxbDRnfDDF8h6MT3w9DKjkxFa903Mt'\n",
      " 'http://www.moserbaerprojects.com'\n",
      " 'https://cdm.unfccc.int/Projects/DB/RWTUV1352192814.76/view'\n",
      " 'https://cdm.unfccc.int/Projects/DB/LRQA%20Ltd1321971513.67/view'\n",
      " 'https://cdm.unfccc.int/Projects/DB/SGS-UKL1333450990.34/view'\n",
      " 'https://cdm.unfccc.int/Projects/DB/KBS_Cert1356901324.44/view'\n",
      " 'http://www.cloversolar.com'\n",
      " 'https://cdm.unfccc.int/filestorage/M/7/A/M7ACU21YQXKW5HF8R03TPIJZENO4B9/PDD_30MW_Gujarat_MSPL%20Limited_rev.pdf?t=NlZ8b2pkZ2FofDBI3_hXb8zCdgFEZVKDwM4F'\n",
      " 'http://cescnewinitiatives.com/contents/view/DHARIWALINFRASTRUCTURELIMITED/T'\n",
      " 'http://sanvijay.com/gil.html' 'http://www.rcfltd.com/'\n",
      " 'http://www.nocil.com/'\n",
      " 'http://documents.worldbank.org/curated/en/442061468041961880/pdf/multi-page.pdf'\n",
      " 'https://cdm.unfccc.int/Projects/DB/BVQI1331114727.08/view'\n",
      " 'https://cdm.unfccc.int/Projects/DB/BVQI1336676184.92/view'\n",
      " 'https://cdm.unfccc.int/Projects/DB/DNV-CUK1354626555.71/view'\n",
      " 'https://cdm.unfccc.int/Projects/DB/RINA1356126148.87/view'\n",
      " 'https://cdm.unfccc.int/filestorage/2/F/R/2FRTLO45MK87SJZUYCDN9GWHBAEP3X/7647_PDD_-Ver_12%28PRC%29_Clean.pdf?t=MWx8b2picXlqfDDrpXwmh5zMU8K3xoiuspy8'\n",
      " 'http://www.tatabpsolar.com'\n",
      " 'https://cdm.unfccc.int/Projects/DB/RWTUV1352368180.64/view'\n",
      " 'https://cdm.unfccc.int/filestorage/i/o/Z9N7VXYJ5LIE8WRQM1SB3H4FDA6U2K.pdf/PDD%20with%20revised%20MP%20(ver%2010.0)(Clean%20mode).pdf?t=Qmt8b2picnBrfDBPz_lFTjdrigpAyplKqoQb'\n",
      " 'https://cdm.unfccc.int/Projects/DB/SGS-UKL1374760004.52/view'\n",
      " 'https://cdm.unfccc.int/Projects/DB/DNV-CUK1351859167.83/view'\n",
      " 'https://cdm.unfccc.int/Projects/DB/PJR%20CDM1355461708.47/view'\n",
      " 'https://cdm.unfccc.int/Projects/DB/SGS-UKL1353506542.98/view'\n",
      " 'https://cdm.unfccc.int/Projects/DB/RWTUV1351718801.6/view'\n",
      " 'https://cdm.unfccc.int/Projects/DB/DNV-CUK1174563974.61/view'\n",
      " 'https://www.vardhman.com/' 'https://www.kesocorp.com/'\n",
      " 'http://www.nationalfertilizers.com/'\n",
      " 'http://www.adityabirla.com/about/Grey-cement'\n",
      " 'https://cdm.unfccc.int/Projects/DB/SGS-UKL1225104443.35/view'\n",
      " 'https://cdm.unfccc.int/Projects/DB/DNV-CUK1350385874.53/view'\n",
      " 'https://cdm.unfccc.int/Projects/DB/DNV-CUK1172467864.06/view'\n",
      " 'http://www.gipcl.com'\n",
      " 'http://www.gmrgroup.in/energy-gmr-gujarat-solar-power-ltd.aspx'\n",
      " 'https://cdm.unfccc.int/Projects/DB/LRQA%20Ltd1323254431.52/view'\n",
      " 'https://cdm.unfccc.int/Projects/DB/LRQA%20Ltd1356711565.56/view'\n",
      " 'https://cdm.unfccc.int/Projects/DB/DNV-CUK1354785555.66/view'\n",
      " 'https://cdm.unfccc.int/Projects/DB/TUEV-RHEIN1351077305.18/view'\n",
      " 'https://cdm.unfccc.int/Projects/DB/RWTUV1345031355.85/view']\n",
      "http://www.cea.nic.in/                                                              519\n",
      "http://www.lancosolar.com/pdfs/rajasthan-pv-project-details.pdf                       7\n",
      "http://www.ntpc.co.in                                                                 6\n",
      "http://viainfotech.biz/Biomass/theme5/document/green_market/REC-project-list.pdf      5\n",
      "http://www.mahaurja.com/PDF/PG2_GridConnSPPCommissioned.pdf                           4\n",
      "                                                                                   ... \n",
      "https://cdm.unfccc.int/Projects/DB/LRQA%20Ltd1346322352.66/view                       1\n",
      "https://cdm.unfccc.int/Projects/DB/DNV-CUK1351166669.28/view                          1\n",
      "http://harshaengineers.com                                                            1\n",
      "http://hiragroup.com/companies/godawari-green-energy-limited/                         1\n",
      "https://cdm.unfccc.int/Projects/DB/RWTUV1345031355.85/view                            1\n",
      "Name: url, Length: 304, dtype: int64\n",
      "-----------------------------------------------------------------------------------------------------------\n",
      "geolocation_source : ['National Renewable Energy Laboratory' 'WRI' nan 'Industry About']\n",
      "WRI                                     765\n",
      "Industry About                          119\n",
      "National Renewable Energy Laboratory      4\n",
      "Name: geolocation_source, dtype: int64\n",
      "-----------------------------------------------------------------------------------------------------------\n",
      "generation_data_source : [nan 'Central Electricity Authority']\n",
      "Central Electricity Authority    449\n",
      "Name: generation_data_source, dtype: int64\n",
      "-----------------------------------------------------------------------------------------------------------\n"
     ]
    }
   ],
   "source": [
    "for column in df.columns:\n",
    "    if df[column].dtype == object:\n",
    "        print(str(column) + ' : ' + str(df[column].unique()))\n",
    "        print(df[column].value_counts())\n",
    "        print(\"-----------------------------------------------------------------------------------------------------------\")"
   ]
  },
  {
   "cell_type": "markdown",
   "id": "5f03a9d6",
   "metadata": {},
   "source": [
    "### <span style=\"color:green\">To Drop The Unnecessary Columns </span>"
   ]
  },
  {
   "cell_type": "code",
   "execution_count": 12,
   "id": "87aa5c16",
   "metadata": {},
   "outputs": [],
   "source": [
    "df = df.drop(['country', \n",
    "              'country_long', \n",
    "              'name', \n",
    "              'gppd_idnr',\n",
    "              'latitude', \n",
    "              'longitude',\n",
    "              'other_fuel1',\n",
    "              'other_fuel2',\n",
    "              'other_fuel3',\n",
    "              'owner',\n",
    "              'url', \n",
    "              'wepp_id',\n",
    "              'year_of_capacity_data',\n",
    "              'generation_gwh_2013',\n",
    "              'generation_gwh_2019',\n",
    "              'generation_data_source',\n",
    "              'estimated_generation_gwh'],axis = 1)"
   ]
  },
  {
   "cell_type": "code",
   "execution_count": 13,
   "id": "a5ad78ea",
   "metadata": {},
   "outputs": [
    {
     "name": "stdout",
     "output_type": "stream",
     "text": [
      "There are 907 rows and 10 columns\n"
     ]
    }
   ],
   "source": [
    "nRow, nCol = df.shape\n",
    "print(f'There are {nRow} rows and {nCol} columns')"
   ]
  },
  {
   "cell_type": "markdown",
   "id": "71153ffa",
   "metadata": {},
   "source": [
    "#### <span style=\"color:black\">Lets replace null values with 0</span>"
   ]
  },
  {
   "cell_type": "code",
   "execution_count": 14,
   "id": "6490e3ea",
   "metadata": {},
   "outputs": [],
   "source": [
    "\n",
    "df.fillna(value = 0 ,inplace = True)\n",
    "df['commissioning_year'].replace(0, df['commissioning_year'].median(),inplace = True)"
   ]
  },
  {
   "cell_type": "markdown",
   "id": "283380a5",
   "metadata": {},
   "source": [
    "#### <span style=\"color:black\">Lets use commissioning_year to know how old the power plant is and create a column Power_plant_Years</span>"
   ]
  },
  {
   "cell_type": "code",
   "execution_count": 15,
   "id": "98413796",
   "metadata": {},
   "outputs": [],
   "source": [
    "df['Power_plant_Years'] = 2018 - df['commissioning_year']\n",
    "df.drop(columns=[\"commissioning_year\"],inplace=True)"
   ]
  },
  {
   "cell_type": "markdown",
   "id": "5e04dbd3",
   "metadata": {},
   "source": [
    "### <span style=\"color:blue\">We are Replacing NaN Values of 'generation_gwh' column with their respective median</span>"
   ]
  },
  {
   "cell_type": "code",
   "execution_count": 16,
   "id": "6f4c22cf",
   "metadata": {},
   "outputs": [],
   "source": [
    "df['generation_gwh_2014'].replace(0, df['generation_gwh_2014'].median(),inplace = True)\n",
    "\n",
    "df['generation_gwh_2015'].replace(0, df['generation_gwh_2015'].median(),inplace = True)\n",
    "\n",
    "df['generation_gwh_2016'].replace(0, df['generation_gwh_2016'].median(),inplace = True)\n",
    "\n",
    "df['generation_gwh_2017'].replace(0, df['generation_gwh_2017'].median(),inplace = True)\n",
    "\n",
    "df['generation_gwh_2018'].replace(0, df['generation_gwh_2018'].median(),inplace = True)\n"
   ]
  },
  {
   "cell_type": "code",
   "execution_count": 17,
   "id": "98a4a1c4",
   "metadata": {},
   "outputs": [
    {
     "data": {
      "text/plain": [
       "capacity_mw            False\n",
       "primary_fuel           False\n",
       "source                 False\n",
       "generation_gwh_2014    False\n",
       "generation_gwh_2015    False\n",
       "generation_gwh_2016    False\n",
       "generation_gwh_2017    False\n",
       "generation_gwh_2018    False\n",
       "Power_plant_Years      False\n",
       "dtype: bool"
      ]
     },
     "execution_count": 17,
     "metadata": {},
     "output_type": "execute_result"
    }
   ],
   "source": [
    "df.sum().isnull()"
   ]
  },
  {
   "cell_type": "markdown",
   "id": "a2f9e89d",
   "metadata": {},
   "source": [
    "#### <span style=\"color:black\">Lets have a look on entries from geolocation_source column</span>"
   ]
  },
  {
   "cell_type": "code",
   "execution_count": 18,
   "id": "1eda0a86",
   "metadata": {},
   "outputs": [
    {
     "data": {
      "text/plain": [
       "WRI                                     765\n",
       "Industry About                          119\n",
       "0                                        19\n",
       "National Renewable Energy Laboratory      4\n",
       "Name: geolocation_source, dtype: int64"
      ]
     },
     "execution_count": 18,
     "metadata": {},
     "output_type": "execute_result"
    }
   ],
   "source": [
    "df[\"geolocation_source\"].value_counts()"
   ]
  },
  {
   "cell_type": "markdown",
   "id": "4393938a",
   "metadata": {},
   "source": [
    "#### <span style=\"color:black\">Lets replace 0 with most frequent element in geolocation_source column(WRI)</span>"
   ]
  },
  {
   "cell_type": "code",
   "execution_count": 19,
   "id": "21d88324",
   "metadata": {},
   "outputs": [],
   "source": [
    "df['geolocation_source'].replace(0, 'WRI',inplace = True)"
   ]
  },
  {
   "cell_type": "markdown",
   "id": "7efa6152",
   "metadata": {},
   "source": [
    "### <span style=\"color:blue\">Again Checking Null/Missing Values</span>"
   ]
  },
  {
   "cell_type": "code",
   "execution_count": 20,
   "id": "f8304497",
   "metadata": {},
   "outputs": [
    {
     "data": {
      "text/plain": [
       "capacity_mw            0\n",
       "primary_fuel           0\n",
       "source                 0\n",
       "geolocation_source     0\n",
       "generation_gwh_2014    0\n",
       "generation_gwh_2015    0\n",
       "generation_gwh_2016    0\n",
       "generation_gwh_2017    0\n",
       "generation_gwh_2018    0\n",
       "Power_plant_Years      0\n",
       "dtype: int64"
      ]
     },
     "execution_count": 20,
     "metadata": {},
     "output_type": "execute_result"
    }
   ],
   "source": [
    "df.isnull().sum()"
   ]
  },
  {
   "cell_type": "markdown",
   "id": "a6c95a7b",
   "metadata": {},
   "source": [
    "#### <span style=\"color:black\">Let's understand - How plant age affects our model(capacity_mw)</span>"
   ]
  },
  {
   "cell_type": "code",
   "execution_count": 21,
   "id": "f14278d4",
   "metadata": {},
   "outputs": [
    {
     "data": {
      "image/png": "[encoded data removed]",
      "text/plain": [
       "<Figure size 432x288 with 1 Axes>"
      ]
     },
     "metadata": {},
     "output_type": "display_data"
    }
   ],
   "source": [
    "\n",
    "plt.style.use('ggplot')\n",
    "sns.scatterplot(x = \"Power_plant_Years\", y = \"capacity_mw\", data = df)\n",
    "plt.show()"
   ]
  },
  {
   "cell_type": "markdown",
   "id": "3350b0ad",
   "metadata": {},
   "source": [
    "#### <span style=\"color:blue\">Observation:-</span>\n",
    "\n",
    "- As we can see that older powerplants has lower capacity_mw compared to plants which have started recently."
   ]
  },
  {
   "cell_type": "markdown",
   "id": "77f74a66",
   "metadata": {},
   "source": [
    "#### <span style=\"color:black\">Let's understand - Relation between fuel used and powerplant age</span>"
   ]
  },
  {
   "cell_type": "code",
   "execution_count": 22,
   "id": "b960824d",
   "metadata": {},
   "outputs": [
    {
     "data": {
      "image/png": "[encoded data removed]",
      "text/plain": [
       "<Figure size 432x288 with 1 Axes>"
      ]
     },
     "metadata": {},
     "output_type": "display_data"
    }
   ],
   "source": [
    "sns.barplot(x = \"primary_fuel\", y = \"Power_plant_Years\", data = df)\n",
    "plt.show()"
   ]
  },
  {
   "cell_type": "markdown",
   "id": "12abdadd",
   "metadata": {},
   "source": [
    "#### <span style=\"color:blue\">Observation:-</span>\n",
    "\n",
    "- As we can see that that older plants use solar, wind and biomass."
   ]
  },
  {
   "cell_type": "markdown",
   "id": "229a03ae",
   "metadata": {},
   "source": [
    "#### <span style=\"color:black\">Let's understand - primary_fuel based on capaciy_mw</span>"
   ]
  },
  {
   "cell_type": "code",
   "execution_count": 23,
   "id": "719ad591",
   "metadata": {},
   "outputs": [
    {
     "data": {
      "image/png": "[encoded data removed]",
      "text/plain": [
       "<Figure size 432x288 with 1 Axes>"
      ]
     },
     "metadata": {},
     "output_type": "display_data"
    }
   ],
   "source": [
    "sns.barplot(x = 'primary_fuel', y = 'capacity_mw', data = df)\n",
    "plt.show()"
   ]
  },
  {
   "cell_type": "markdown",
   "id": "6f483a98",
   "metadata": {},
   "source": [
    "#### <span style=\"color:blue\">Observation:-</span>\n",
    "\n",
    "- As we can see that capacity_mw is high in case of Nuclear power plants, and coal power plants has capacity_mw next to it."
   ]
  },
  {
   "cell_type": "markdown",
   "id": "db390dae",
   "metadata": {},
   "source": [
    "### <span style=\"color:blue\">Correlation with Heatmap</span>"
   ]
  },
  {
   "cell_type": "code",
   "execution_count": 24,
   "id": "7126d353",
   "metadata": {},
   "outputs": [
    {
     "data": {
      "text/plain": [
       "<AxesSubplot:>"
      ]
     },
     "execution_count": 24,
     "metadata": {},
     "output_type": "execute_result"
    },
    {
     "data": {
      "image/png": "[encoded data removed]",
      "text/plain": [
       "<Figure size 1080x720 with 2 Axes>"
      ]
     },
     "metadata": {},
     "output_type": "display_data"
    }
   ],
   "source": [
    "plt.figure(figsize=(15,10))\n",
    "sns.heatmap(df.corr(),annot=True,cmap='BuPu')"
   ]
  },
  {
   "cell_type": "code",
   "execution_count": 25,
   "id": "9c1245b2",
   "metadata": {},
   "outputs": [
    {
     "data": {
      "image/png": "[encoded data removed]",
      "text/plain": [
       "<Figure size 1800x1440 with 6 Axes>"
      ]
     },
     "metadata": {},
     "output_type": "display_data"
    }
   ],
   "source": [
    "plt.figure(figsize = (25,20))\n",
    "plotnumber = 1\n",
    "col = [\"capacity_mw\",\"Power_plant_Years\",\"generation_gwh_2014\",\"generation_gwh_2015\",\"generation_gwh_2017\",\"generation_gwh_2018\"]\n",
    "for column in col:\n",
    "    if plotnumber <=7:\n",
    "        ax = plt.subplot(3,3,plotnumber)\n",
    "        sns.distplot(df[column], bins=30)\n",
    "        plt.xlabel(column,fontsize = 20)\n",
    "    plotnumber+=1\n",
    "plt.tight_layout()"
   ]
  },
  {
   "cell_type": "markdown",
   "id": "f78f160f",
   "metadata": {},
   "source": [
    "### <span style=\"color:blue\">Removing Outliers With The Help Of ZScore Method From Skewed Features</span>"
   ]
  },
  {
   "cell_type": "code",
   "execution_count": 27,
   "id": "276809a7",
   "metadata": {},
   "outputs": [],
   "source": [
    "from scipy import stats\n",
    "from scipy.stats import zscore\n",
    "z_score = zscore(df[[\"Power_plant_Years\",\"generation_gwh_2014\",\"generation_gwh_2015\",\"generation_gwh_2017\",\"generation_gwh_2018\"]])\n",
    "abs_z_score = np.abs(z_score)\n",
    "filtering_entry = (abs_z_score < 3).all(axis = 1)\n",
    "df = df[filtering_entry]\n",
    "df.reset_index(inplace = True)"
   ]
  },
  {
   "cell_type": "markdown",
   "id": "9951884c",
   "metadata": {},
   "source": [
    "#### <span style=\"color:black\"> Note - We are deleting index column because we don't required </span>"
   ]
  },
  {
   "cell_type": "code",
   "execution_count": 28,
   "id": "18606455",
   "metadata": {},
   "outputs": [],
   "source": [
    "df.drop(columns = \"index\", inplace = True)"
   ]
  },
  {
   "cell_type": "markdown",
   "id": "b75830b4",
   "metadata": {},
   "source": [
    "## <span style=\"color:red\">Model Building</span>"
   ]
  },
  {
   "cell_type": "markdown",
   "id": "93697f78",
   "metadata": {},
   "source": [
    "### <span style=\"color:green\">Level Encoder</span>"
   ]
  },
  {
   "cell_type": "code",
   "execution_count": 29,
   "id": "53c3de4c",
   "metadata": {},
   "outputs": [],
   "source": [
    "from sklearn.preprocessing import LabelEncoder"
   ]
  },
  {
   "cell_type": "code",
   "execution_count": 30,
   "id": "46b3359b",
   "metadata": {},
   "outputs": [],
   "source": [
    "leb_enc = LabelEncoder()\n",
    "for i in df.columns:\n",
    "    if df[i].dtypes == \"object\":\n",
    "        df[i] = leb_enc.fit_transform(df[i])"
   ]
  },
  {
   "cell_type": "code",
   "execution_count": 31,
   "id": "bed44e23",
   "metadata": {},
   "outputs": [],
   "source": [
    "x = df.drop(columns = [\"capacity_mw\"])\n",
    "y = df[\"capacity_mw\"]"
   ]
  },
  {
   "cell_type": "markdown",
   "id": "fdf88a66",
   "metadata": {},
   "source": [
    "### <span style=\"color:green\">Using Log Transformation - To Fix Skewness Present In The Data</span>"
   ]
  },
  {
   "cell_type": "code",
   "execution_count": 32,
   "id": "0e511ba8",
   "metadata": {},
   "outputs": [],
   "source": [
    "for index in x.skew().index:\n",
    "    if x.skew().loc[index]>0.5:\n",
    "        x[index]=np.log1p(x[index])\n",
    "        if x.skew().loc[index]<-0.5:\n",
    "            x[index]=np.square(x[index])"
   ]
  },
  {
   "cell_type": "markdown",
   "id": "697be6cd",
   "metadata": {},
   "source": [
    "### <span style=\"color:green\">Applying Standard Scalar - To Seperating Numerical Data</span>"
   ]
  },
  {
   "cell_type": "markdown",
   "id": "e47c464e",
   "metadata": {},
   "source": [
    "#### <span style=\"color:blue\"> Deleting \"primary_fuel\",\"source\",\"geolocation_source\"</span>"
   ]
  },
  {
   "cell_type": "code",
   "execution_count": 33,
   "id": "95efca5e",
   "metadata": {},
   "outputs": [],
   "source": [
    "num_data = x.drop(columns = [\"primary_fuel\",\"source\",\"geolocation_source\"])"
   ]
  },
  {
   "cell_type": "code",
   "execution_count": 34,
   "id": "336bd316",
   "metadata": {},
   "outputs": [],
   "source": [
    "scaler = StandardScaler()\n",
    "x_num = scaler.fit_transform(num_data)\n",
    "x_num = pd.DataFrame(x_num,columns = num_data.columns)"
   ]
  },
  {
   "cell_type": "markdown",
   "id": "8c90ee2f",
   "metadata": {},
   "source": [
    "## <span style=\"color:green\">Spliting the data for training & testing </span>"
   ]
  },
  {
   "cell_type": "code",
   "execution_count": 35,
   "id": "9298ba11",
   "metadata": {},
   "outputs": [],
   "source": [
    "x_train, x_test, y_train, y_test = train_test_split(x, y,test_size = 0.25,random_state = 1)"
   ]
  },
  {
   "cell_type": "code",
   "execution_count": 36,
   "id": "0a88acb3",
   "metadata": {},
   "outputs": [
    {
     "name": "stdout",
     "output_type": "stream",
     "text": [
      "X Train Shape  (663, 9)\n",
      "Y Train Shape  (663,)\n",
      "X Test Shape  (221, 9)\n",
      "Y Test Shape  (221,)\n"
     ]
    }
   ],
   "source": [
    "print(\"X Train Shape \",x_train.shape)\n",
    "print(\"Y Train Shape \",y_train.shape)\n",
    "\n",
    "print(\"X Test Shape \",x_test.shape)\n",
    "print(\"Y Test Shape \",y_test.shape)"
   ]
  },
  {
   "cell_type": "markdown",
   "id": "04b85906",
   "metadata": {},
   "source": [
    "## <span style=\"color:green\">Applying Linear Regression Model </span>"
   ]
  },
  {
   "cell_type": "code",
   "execution_count": 37,
   "id": "415491ba",
   "metadata": {},
   "outputs": [],
   "source": [
    "lr = LinearRegression()\n",
    "lr.fit(x_train, y_train)\n",
    "y_pred = lr.predict(x_train)\n",
    "pred_lr = lr.predict(x_test)"
   ]
  },
  {
   "cell_type": "markdown",
   "id": "03037d39",
   "metadata": {},
   "source": [
    "#### <span style=\"color:blue\"> Model Evaluation</span>"
   ]
  },
  {
   "cell_type": "code",
   "execution_count": 38,
   "id": "3ca1915f",
   "metadata": {},
   "outputs": [
    {
     "name": "stdout",
     "output_type": "stream",
     "text": [
      "MAE : 202.17795585052247\n",
      "RMSE : 284.36465919351974\n"
     ]
    }
   ],
   "source": [
    "mse = mean_squared_error(y_test,pred_lr)\n",
    "rmse = np.sqrt(mse)\n",
    "mae = mean_absolute_error(y_test,pred_lr)\n",
    "print(\"MAE :\", mae)\n",
    "print(\"RMSE :\", rmse)"
   ]
  },
  {
   "cell_type": "markdown",
   "id": "0b16b9e1",
   "metadata": {},
   "source": [
    "#### <span style=\"color:blue\"> Model r2 Score</span>"
   ]
  },
  {
   "cell_type": "code",
   "execution_count": null,
   "id": "ca55c2de",
   "metadata": {},
   "outputs": [],
   "source": [
    "print(\"Training r2 Score :\", r2_score(y_train,y_pred)*100,'%')\n",
    "print(f\"Testing r2 Score: {r2_score(y_test,pred_lr)*100}%\")"
   ]
  },
  {
   "cell_type": "markdown",
   "id": "acb4458b",
   "metadata": {},
   "source": [
    "## <span style=\"color:green\">Applying DecesionTreeRegressor Model </span>"
   ]
  },
  {
   "cell_type": "code",
   "execution_count": 43,
   "id": "2df26acf",
   "metadata": {},
   "outputs": [],
   "source": [
    "from sklearn.tree import DecisionTreeRegressor"
   ]
  },
  {
   "cell_type": "code",
   "execution_count": 44,
   "id": "f6e74587",
   "metadata": {},
   "outputs": [],
   "source": [
    "dt = DecisionTreeRegressor()"
   ]
  },
  {
   "cell_type": "code",
   "execution_count": 45,
   "id": "68d7ed5d",
   "metadata": {},
   "outputs": [],
   "source": [
    "dt.fit(x_train, y_train)\n",
    "y_pred = dt.predict(x_train)\n",
    "pred_dt = dt.predict(x_test)"
   ]
  },
  {
   "cell_type": "markdown",
   "id": "82e7e3c4",
   "metadata": {},
   "source": [
    "#### <span style=\"color:blue\"> Model Evaluation</span>"
   ]
  },
  {
   "cell_type": "code",
   "execution_count": 46,
   "id": "b836b8fe",
   "metadata": {},
   "outputs": [
    {
     "name": "stdout",
     "output_type": "stream",
     "text": [
      "MAE : 96.96189310814343\n",
      "RMSE : 194.39848260863445\n"
     ]
    }
   ],
   "source": [
    "mse = mean_squared_error(y_test,pred_dt)\n",
    "rmse = np.sqrt(mse)\n",
    "mae = mean_absolute_error(y_test,pred_dt)\n",
    "print(\"MAE :\", mae)\n",
    "print(\"RMSE :\", rmse)"
   ]
  },
  {
   "cell_type": "markdown",
   "id": "ac215226",
   "metadata": {},
   "source": [
    "#### <span style=\"color:blue\"> Model r2 Score</span>"
   ]
  },
  {
   "cell_type": "code",
   "execution_count": 47,
   "id": "0e363f7a",
   "metadata": {},
   "outputs": [
    {
     "name": "stdout",
     "output_type": "stream",
     "text": [
      "Training r2 Score : 99.74309459775714 %\n",
      "Testing r2 Score: 72.59516733198579%\n"
     ]
    }
   ],
   "source": [
    "print(\"Training r2 Score :\", r2_score(y_train,y_pred)*100,'%')\n",
    "print(f\"Testing r2 Score: {r2_score(y_test,pred_dt)*100}%\")"
   ]
  },
  {
   "cell_type": "markdown",
   "id": "6a4e8729",
   "metadata": {},
   "source": [
    "## <span style=\"color:green\">Applying RandomForestRegressor Model </span>"
   ]
  },
  {
   "cell_type": "code",
   "execution_count": 48,
   "id": "c4c933c8",
   "metadata": {},
   "outputs": [],
   "source": [
    "from sklearn.ensemble import RandomForestRegressor"
   ]
  },
  {
   "cell_type": "code",
   "execution_count": 49,
   "id": "dc502d8e",
   "metadata": {},
   "outputs": [],
   "source": [
    "rf = RandomForestRegressor()"
   ]
  },
  {
   "cell_type": "code",
   "execution_count": 50,
   "id": "87a52436",
   "metadata": {},
   "outputs": [],
   "source": [
    "rf.fit(x_train, y_train)\n",
    "y_pred = rf.predict(x_train)\n",
    "pred_rf = rf.predict(x_test)"
   ]
  },
  {
   "cell_type": "markdown",
   "id": "22498ee6",
   "metadata": {},
   "source": [
    "#### <span style=\"color:blue\"> Model Evaluation</span>"
   ]
  },
  {
   "cell_type": "code",
   "execution_count": 51,
   "id": "b3f4f876",
   "metadata": {},
   "outputs": [
    {
     "name": "stdout",
     "output_type": "stream",
     "text": [
      "MAE : 86.31156949628401\n",
      "RMSE : 162.21452974690308\n"
     ]
    }
   ],
   "source": [
    "mse = mean_squared_error(y_test,pred_rf)\n",
    "rmse = np.sqrt(mse)\n",
    "mae = mean_absolute_error(y_test,pred_rf)\n",
    "print(\"MAE :\", mae)\n",
    "print(\"RMSE :\", rmse)"
   ]
  },
  {
   "cell_type": "markdown",
   "id": "6fdc213a",
   "metadata": {},
   "source": [
    "#### <span style=\"color:blue\"> Model r2 Score</span>"
   ]
  },
  {
   "cell_type": "code",
   "execution_count": 52,
   "id": "43ea65aa",
   "metadata": {},
   "outputs": [
    {
     "name": "stdout",
     "output_type": "stream",
     "text": [
      "Training r2 Score : 96.48305256643259 %\n",
      "Testing r2 Score: 80.91813069151034%\n"
     ]
    }
   ],
   "source": [
    "print(\"Training r2 Score :\", r2_score(y_train,y_pred)*100,'%')\n",
    "print(f\"Testing r2 Score: {r2_score(y_test,pred_rf)*100}%\")"
   ]
  },
  {
   "cell_type": "markdown",
   "id": "4c6a7834",
   "metadata": {},
   "source": [
    "## <span style=\"color:green\">Applying KNeighborsRegressor Model </span>"
   ]
  },
  {
   "cell_type": "code",
   "execution_count": 55,
   "id": "58eaffe9",
   "metadata": {},
   "outputs": [],
   "source": [
    "from sklearn.neighbors import KNeighborsRegressor"
   ]
  },
  {
   "cell_type": "code",
   "execution_count": 56,
   "id": "743eac82",
   "metadata": {},
   "outputs": [],
   "source": [
    "knn =  KNeighborsRegressor()"
   ]
  },
  {
   "cell_type": "code",
   "execution_count": 57,
   "id": "9a038184",
   "metadata": {},
   "outputs": [],
   "source": [
    "knn.fit(x_train, y_train)\n",
    "y_pred = knn.predict(x_train)\n",
    "pred_knn = knn.predict(x_test)"
   ]
  },
  {
   "cell_type": "markdown",
   "id": "df3ee3f2",
   "metadata": {},
   "source": [
    "#### <span style=\"color:blue\"> Model Evaluation</span>"
   ]
  },
  {
   "cell_type": "code",
   "execution_count": 58,
   "id": "2b2eb756",
   "metadata": {},
   "outputs": [
    {
     "name": "stdout",
     "output_type": "stream",
     "text": [
      "MAE : 104.33300633484164\n",
      "RMSE : 192.87443776266625\n"
     ]
    }
   ],
   "source": [
    "mse = mean_squared_error(y_test,pred_knn)\n",
    "rmse = np.sqrt(mse)\n",
    "mae = mean_absolute_error(y_test,pred_knn)\n",
    "print(\"MAE :\", mae)\n",
    "print(\"RMSE :\", rmse)"
   ]
  },
  {
   "cell_type": "markdown",
   "id": "0e5954b0",
   "metadata": {},
   "source": [
    "#### <span style=\"color:blue\"> Model r2 Score</span>"
   ]
  },
  {
   "cell_type": "code",
   "execution_count": 60,
   "id": "cf805266",
   "metadata": {},
   "outputs": [
    {
     "name": "stdout",
     "output_type": "stream",
     "text": [
      "Training r2 Score : 78.34405357490257 %\n",
      "Testing r2 Score: 73.0231796720088%\n"
     ]
    }
   ],
   "source": [
    "print(\"Training r2 Score :\", r2_score(y_train,y_pred)*100,'%')\n",
    "print(f\"Testing r2 Score: {r2_score(y_test,pred_knn)*100}%\")"
   ]
  },
  {
   "cell_type": "markdown",
   "id": "6df69614",
   "metadata": {},
   "source": [
    "## <span style=\"color:green\">Applying Support Vactor (SVM) Regressor Model </span>"
   ]
  },
  {
   "cell_type": "code",
   "execution_count": 61,
   "id": "9e72d5ed",
   "metadata": {},
   "outputs": [],
   "source": [
    "from sklearn.svm import SVR"
   ]
  },
  {
   "cell_type": "code",
   "execution_count": 62,
   "id": "a6a25066",
   "metadata": {},
   "outputs": [],
   "source": [
    "svm =  KNeighborsRegressor()"
   ]
  },
  {
   "cell_type": "code",
   "execution_count": 63,
   "id": "24e3c40b",
   "metadata": {},
   "outputs": [],
   "source": [
    "svm.fit(x_train, y_train)\n",
    "y_pred = svm.predict(x_train)\n",
    "pred_svm = svm.predict(x_test)"
   ]
  },
  {
   "cell_type": "markdown",
   "id": "ec8e28b2",
   "metadata": {},
   "source": [
    "#### <span style=\"color:blue\"> Model Evaluation</span>"
   ]
  },
  {
   "cell_type": "code",
   "execution_count": 65,
   "id": "9e172a9e",
   "metadata": {},
   "outputs": [
    {
     "name": "stdout",
     "output_type": "stream",
     "text": [
      "MAE : 104.33300633484164\n",
      "RMSE : 192.87443776266625\n"
     ]
    }
   ],
   "source": [
    "mse = mean_squared_error(y_test,pred_svm)\n",
    "rmse = np.sqrt(mse)\n",
    "mae = mean_absolute_error(y_test,pred_svm)\n",
    "print(\"MAE :\", mae)\n",
    "print(\"RMSE :\", rmse)"
   ]
  },
  {
   "cell_type": "markdown",
   "id": "8c17c679",
   "metadata": {},
   "source": [
    "#### <span style=\"color:blue\"> Model r2 Score</span>"
   ]
  },
  {
   "cell_type": "code",
   "execution_count": 67,
   "id": "64ba8603",
   "metadata": {},
   "outputs": [
    {
     "name": "stdout",
     "output_type": "stream",
     "text": [
      "Training r2 Score : 78.34405357490257 %\n",
      "Testing r2 Score: 73.0231796720088%\n"
     ]
    }
   ],
   "source": [
    "print(\"Training r2 Score :\", r2_score(y_train,y_pred)*100,'%')\n",
    "print(f\"Testing r2 Score: {r2_score(y_test,pred_svm)*100}%\")"
   ]
  },
  {
   "cell_type": "markdown",
   "id": "d2d91bc0",
   "metadata": {},
   "source": [
    "## <span style=\"color:green\">Applying XGBRegressor Regressor Model </span>"
   ]
  },
  {
   "cell_type": "code",
   "execution_count": 68,
   "id": "6b38154f",
   "metadata": {},
   "outputs": [],
   "source": [
    "from xgboost import XGBRegressor"
   ]
  },
  {
   "cell_type": "code",
   "execution_count": 69,
   "id": "cbe8ecfb",
   "metadata": {},
   "outputs": [],
   "source": [
    "xgb = XGBRegressor()"
   ]
  },
  {
   "cell_type": "code",
   "execution_count": 70,
   "id": "3d7a2f3b",
   "metadata": {},
   "outputs": [],
   "source": [
    "xgb.fit(x_train,y_train)\n",
    "y_pred = xgb.predict(x_train)\n",
    "pred_xgb = xgb.predict(x_test)"
   ]
  },
  {
   "cell_type": "markdown",
   "id": "81411b1f",
   "metadata": {},
   "source": [
    "#### <span style=\"color:blue\"> Model Evaluation</span>"
   ]
  },
  {
   "cell_type": "code",
   "execution_count": 71,
   "id": "d1be9d2d",
   "metadata": {},
   "outputs": [
    {
     "name": "stdout",
     "output_type": "stream",
     "text": [
      "MAE : 84.87733886998811\n",
      "RMSE : 161.7539568439394\n"
     ]
    }
   ],
   "source": [
    "mse = mean_squared_error(y_test,pred_xgb)\n",
    "rmse = np.sqrt(mse)\n",
    "mae = mean_absolute_error(y_test,pred_xgb)\n",
    "print(\"MAE :\", mae)\n",
    "print(\"RMSE :\", rmse)"
   ]
  },
  {
   "cell_type": "markdown",
   "id": "c77e68b9",
   "metadata": {},
   "source": [
    "#### <span style=\"color:blue\"> Model Evaluation</span>"
   ]
  },
  {
   "cell_type": "code",
   "execution_count": 72,
   "id": "efcc089d",
   "metadata": {},
   "outputs": [
    {
     "name": "stdout",
     "output_type": "stream",
     "text": [
      "Training r2 Score : 99.72525845236162 %\n",
      "Testing r2 Score: 81.02633450416124%\n"
     ]
    }
   ],
   "source": [
    "print(\"Training r2 Score :\", r2_score(y_train,y_pred)*100,'%')\n",
    "print(f\"Testing r2 Score: {r2_score(y_test,pred_xgb)*100}%\")"
   ]
  },
  {
   "cell_type": "markdown",
   "id": "de045f80",
   "metadata": {},
   "source": [
    "## <span style=\"color:green\">Checking the accuracy of all 8 models</span>"
   ]
  },
  {
   "cell_type": "code",
   "execution_count": 73,
   "id": "e170c754",
   "metadata": {},
   "outputs": [],
   "source": [
    "from sklearn.metrics import accuracy_score,confusion_matrix,classification_report\n",
    "import warnings \n",
    "warnings.filterwarnings('ignore')"
   ]
  },
  {
   "cell_type": "code",
   "execution_count": 84,
   "id": "f38e28ea",
   "metadata": {},
   "outputs": [
    {
     "name": "stdout",
     "output_type": "stream",
     "text": [
      "knn classification score 0.7834405357490257\n",
      "dt classification score 0.9974309459775714\n",
      "rf classification score 0.9648305256643259\n",
      "svm classification score 0.7834405357490257\n",
      "xgboost classification score 0.9972525845236162\n"
     ]
    }
   ],
   "source": [
    "\n",
    "\n",
    "# For KNearest Neibour\n",
    "print(\"knn classification score\",knn.score(x_train,y_train))\n",
    "\n",
    "# For Deciesion Tree\n",
    "print(\"dt classification score\",dt.score(x_train,y_train))\n",
    "\n",
    "# For Random Forest\n",
    "print(\"rf classification score\",rf.score(x_train,y_train))\n",
    "\n",
    "\n",
    "# For support vactor classifier\n",
    "print(\"svm classification score\",svm.score(x_train,y_train))\n",
    "\n",
    "\n",
    "# For Xtrim Gredient Boosting Classifier\n",
    "print(\"xgboost classification score\",xgb.score(x_train,y_train))"
   ]
  },
  {
   "cell_type": "markdown",
   "id": "4b2bc790",
   "metadata": {},
   "source": [
    "## <span style=\"color:blue\">-> K-Fold Cross Validation</span>"
   ]
  },
  {
   "cell_type": "markdown",
   "id": "19e3b0c0",
   "metadata": {},
   "source": [
    "- __The goal of cross-validation is to test the model’s ability to predict new data that was not used in estimating it, in order to flag problems like overfitting or selection bias and to give an insight on how the model will generalize to an independent dataset (i.e., an unknown dataset, for instance from a real problem).__"
   ]
  },
  {
   "cell_type": "markdown",
   "id": "6dbd5c13",
   "metadata": {},
   "source": [
    "- __K-Fold Cross Validation randomly splits the training data into K subsets called folds. When we write K=3, it means we are spliting our data into 3 parts in order to train and evaluate.__"
   ]
  },
  {
   "cell_type": "code",
   "execution_count": 99,
   "id": "10bbffe0",
   "metadata": {},
   "outputs": [
    {
     "data": {
      "text/plain": [
       "KFold(n_splits=4, random_state=None, shuffle=True)"
      ]
     },
     "execution_count": 99,
     "metadata": {},
     "output_type": "execute_result"
    }
   ],
   "source": [
    "from sklearn.model_selection import KFold,cross_val_score\n",
    "k_f = KFold(n_splits=4,shuffle=True)\n",
    "k_f"
   ]
  },
  {
   "cell_type": "code",
   "execution_count": 102,
   "id": "4d17df8b",
   "metadata": {},
   "outputs": [
    {
     "name": "stdout",
     "output_type": "stream",
     "text": [
      "Mean of Cross validation score for rf  model => 0.7685427993182146\n",
      "Cross validation score for rf model => 0.777874936965798\n"
     ]
    }
   ],
   "source": [
    "print(\"Mean of Cross validation score for rf  model\",\"=>\",cross_val_score(rf,x,y,cv=5).mean())\n",
    "print(\"Cross validation score for rf model\",\"=>\",cross_val_score(rf,x,y,cv=5).mean())\n"
   ]
  },
  {
   "cell_type": "code",
   "execution_count": 103,
   "id": "4b0c1ac0",
   "metadata": {},
   "outputs": [
    {
     "name": "stdout",
     "output_type": "stream",
     "text": [
      "Mean of Cross validation score for rf  model => 0.6957256863759449\n",
      "Cross validation score for rf model => 0.6957256863759449\n"
     ]
    }
   ],
   "source": [
    "print(\"Mean of Cross validation score for knn  model\",\"=>\",cross_val_score(knn,x,y,cv=5).mean())\n",
    "print(\"Cross validation score for knn model\",\"=>\",cross_val_score(knn,x,y,cv=5).mean())"
   ]
  },
  {
   "cell_type": "code",
   "execution_count": 104,
   "id": "6afdd8df",
   "metadata": {},
   "outputs": [
    {
     "name": "stdout",
     "output_type": "stream",
     "text": [
      "Mean of Cross validation score for rf  model => 0.5386266994311855\n",
      "Cross validation score for rf model => 0.525789858939554\n"
     ]
    }
   ],
   "source": [
    "print(\"Mean of Cross validation score for dt  model\",\"=>\",cross_val_score(dt,x,y,cv=5).mean())\n",
    "print(\"Cross validation score for dt model\",\"=>\",cross_val_score(dt,x,y,cv=5).mean())"
   ]
  },
  {
   "cell_type": "code",
   "execution_count": 105,
   "id": "12dd460b",
   "metadata": {},
   "outputs": [
    {
     "name": "stdout",
     "output_type": "stream",
     "text": [
      "Mean of Cross validation score for rf  model => 0.6957256863759449\n",
      "Cross validation score for rf model => 0.6957256863759449\n"
     ]
    }
   ],
   "source": [
    "print(\"Mean of Cross validation score for svm  model\",\"=>\",cross_val_score(svm,x,y,cv=5).mean())\n",
    "print(\"Cross validation score for svm model\",\"=>\",cross_val_score(svm,x,y,cv=5).mean())"
   ]
  },
  {
   "cell_type": "code",
   "execution_count": 107,
   "id": "e7791242",
   "metadata": {},
   "outputs": [
    {
     "name": "stdout",
     "output_type": "stream",
     "text": [
      "Mean of Cross validation score for rf  model => 0.6983319632084773\n",
      "Cross validation score for rf model => 0.6983319632084773\n"
     ]
    }
   ],
   "source": [
    "print(\"Mean of Cross validation score for xgb  model\",\"=>\",cross_val_score(xgb,x,y,cv=5).mean())\n",
    "print(\"Cross validation score for xgb model\",\"=>\",cross_val_score(xgb,x,y,cv=5).mean())"
   ]
  },
  {
   "cell_type": "markdown",
   "id": "e97f846e",
   "metadata": {},
   "source": [
    "#### <span style=\"color:blue\">Observation:-</span>\n",
    "\n",
    "\n",
    "- As per above we can see our ‘xgboost’ model giving the less cross validation score. so we will consider this model is best for our prediction. Now will try hyperparameter tuning to check chances of accuracy increase."
   ]
  },
  {
   "cell_type": "markdown",
   "id": "3147d128",
   "metadata": {},
   "source": [
    "### <span style=\"color:red\"> Selecting Random Forest (rf) Model  </span>"
   ]
  },
  {
   "cell_type": "markdown",
   "id": "4e738911",
   "metadata": {},
   "source": [
    "# <span style=\"color:red\">MODEL SAVING:---------</span>"
   ]
  },
  {
   "cell_type": "code",
   "execution_count": 108,
   "id": "4ec9c447",
   "metadata": {},
   "outputs": [],
   "source": [
    "import pickle\n",
    "Census_model = 'Plant_FuelType_prediction.pickle'\n",
    "pickle.dump(rf,open(Census_model,'wb'))"
   ]
  },
  {
   "cell_type": "code",
   "execution_count": 110,
   "id": "2a0e1dd9",
   "metadata": {},
   "outputs": [
    {
     "name": "stdout",
     "output_type": "stream",
     "text": [
      "0.8091813069151035\n"
     ]
    }
   ],
   "source": [
    "Model = pickle.load(open('Plant_FuelType_prediction.pickle','rb'))\n",
    "result = Model.score(x_test, y_test)\n",
    "print(result)"
   ]
  },
  {
   "cell_type": "code",
   "execution_count": 113,
   "id": "af3340ed",
   "metadata": {},
   "outputs": [],
   "source": [
    "Prediction=np.array(rf.predict(x_test))"
   ]
  },
  {
   "cell_type": "code",
   "execution_count": 115,
   "id": "bb761b52",
   "metadata": {},
   "outputs": [],
   "source": [
    "Conclusion  =pd.DataFrame([Model.predict(x_test)[:],Prediction[:]],index=['Predicted','Original'])"
   ]
  },
  {
   "cell_type": "code",
   "execution_count": 116,
   "id": "e2271b67",
   "metadata": {},
   "outputs": [
    {
     "data": {
      "text/html": [
       "<div>\n",
       "<style scoped>\n",
       "    .dataframe tbody tr th:only-of-type {\n",
       "        vertical-align: middle;\n",
       "    }\n",
       "\n",
       "    .dataframe tbody tr th {\n",
       "        vertical-align: top;\n",
       "    }\n",
       "\n",
       "    .dataframe thead th {\n",
       "        text-align: right;\n",
       "    }\n",
       "</style>\n",
       "<table border=\"1\" class=\"dataframe\">\n",
       "  <thead>\n",
       "    <tr style=\"text-align: right;\">\n",
       "      <th></th>\n",
       "      <th>0</th>\n",
       "      <th>1</th>\n",
       "      <th>2</th>\n",
       "      <th>3</th>\n",
       "      <th>4</th>\n",
       "      <th>5</th>\n",
       "      <th>6</th>\n",
       "      <th>7</th>\n",
       "      <th>8</th>\n",
       "      <th>9</th>\n",
       "      <th>...</th>\n",
       "      <th>211</th>\n",
       "      <th>212</th>\n",
       "      <th>213</th>\n",
       "      <th>214</th>\n",
       "      <th>215</th>\n",
       "      <th>216</th>\n",
       "      <th>217</th>\n",
       "      <th>218</th>\n",
       "      <th>219</th>\n",
       "      <th>220</th>\n",
       "    </tr>\n",
       "  </thead>\n",
       "  <tbody>\n",
       "    <tr>\n",
       "      <th>Predicted</th>\n",
       "      <td>599.18</td>\n",
       "      <td>1162.312</td>\n",
       "      <td>1801.4</td>\n",
       "      <td>12.07905</td>\n",
       "      <td>29.245165</td>\n",
       "      <td>247.87222</td>\n",
       "      <td>8.875</td>\n",
       "      <td>29.245165</td>\n",
       "      <td>250.07755</td>\n",
       "      <td>29.245165</td>\n",
       "      <td>...</td>\n",
       "      <td>184.8221</td>\n",
       "      <td>29.245165</td>\n",
       "      <td>203.57754</td>\n",
       "      <td>838.59</td>\n",
       "      <td>100.96</td>\n",
       "      <td>104.12</td>\n",
       "      <td>4.461434</td>\n",
       "      <td>33.701833</td>\n",
       "      <td>277.23771</td>\n",
       "      <td>29.245165</td>\n",
       "    </tr>\n",
       "    <tr>\n",
       "      <th>Original</th>\n",
       "      <td>599.18</td>\n",
       "      <td>1162.312</td>\n",
       "      <td>1801.4</td>\n",
       "      <td>12.07905</td>\n",
       "      <td>29.245165</td>\n",
       "      <td>247.87222</td>\n",
       "      <td>8.875</td>\n",
       "      <td>29.245165</td>\n",
       "      <td>250.07755</td>\n",
       "      <td>29.245165</td>\n",
       "      <td>...</td>\n",
       "      <td>184.8221</td>\n",
       "      <td>29.245165</td>\n",
       "      <td>203.57754</td>\n",
       "      <td>838.59</td>\n",
       "      <td>100.96</td>\n",
       "      <td>104.12</td>\n",
       "      <td>4.461434</td>\n",
       "      <td>33.701833</td>\n",
       "      <td>277.23771</td>\n",
       "      <td>29.245165</td>\n",
       "    </tr>\n",
       "  </tbody>\n",
       "</table>\n",
       "<p>2 rows × 221 columns</p>\n",
       "</div>"
      ],
      "text/plain": [
       "              0         1       2         3          4          5      6    \\\n",
       "Predicted  599.18  1162.312  1801.4  12.07905  29.245165  247.87222  8.875   \n",
       "Original   599.18  1162.312  1801.4  12.07905  29.245165  247.87222  8.875   \n",
       "\n",
       "                 7          8          9    ...       211        212  \\\n",
       "Predicted  29.245165  250.07755  29.245165  ...  184.8221  29.245165   \n",
       "Original   29.245165  250.07755  29.245165  ...  184.8221  29.245165   \n",
       "\n",
       "                 213     214     215     216       217        218        219  \\\n",
       "Predicted  203.57754  838.59  100.96  104.12  4.461434  33.701833  277.23771   \n",
       "Original   203.57754  838.59  100.96  104.12  4.461434  33.701833  277.23771   \n",
       "\n",
       "                 220  \n",
       "Predicted  29.245165  \n",
       "Original   29.245165  \n",
       "\n",
       "[2 rows x 221 columns]"
      ]
     },
     "execution_count": 116,
     "metadata": {},
     "output_type": "execute_result"
    }
   ],
   "source": [
    "Conclusion"
   ]
  },
  {
   "cell_type": "markdown",
   "id": "a6cf2a59",
   "metadata": {},
   "source": [
    "# <span style=\"color:red\">--------------------------------------------> Conclusion <----------------------------------------------- </span>"
   ]
  },
  {
   "cell_type": "markdown",
   "id": "8fd5418c",
   "metadata": {},
   "source": [
    "__The predicting photovoltaic power is an important research field that employs various forecasting approaches to mitigate the consequences of solar output unpredictability. In smart grid and microgrid concepts, there is an increasing amount of photovoltaic (PV) generating penetration. PV power is intermittent and heavily dependent on irradiance, temperature, and humidity, due to the irregular nature of solar sources. Solar energy generation has a lot of potential in India. The country’s geographic position is advantageous for solar energy generation. The reason for this is because India is a tropical nation that receives solar radiation practically all year, averaging 3,000 hours of sunlight. This equates to almost 5,000 trillion kWh. In the case of Malaysia, it will be a center for solar cell production by 2030, according to the Malaysian Solar PV Roadmap 2017. According to the Renewable Energy Policy and Action Plan, electricity generated from renewable sources such as solar PV, biomass, biogas, minihydro, and solid wastes could total to 11,227 GWh by 2020 (NREPAP). Solar power will generate a clean and green environment in the future, and by employing the tracking system, the power produced will be maximized. Solar power as a source of energy will also assist to minimize global warming and the greenhouse effect by reducing the usage of nonrenewable energy. When compared to other models, our model was more accurate in calculating the output power with a RMSE of 1.556.__\n",
    "\n",
    "(1)\tOur trained ANN model is simple and easy to understand, which can be used to calculate and predict the output power of PV system in India and Malaysia with performing complex calculations.\n",
    "(2)\tSince the research was based for counties of India and Malaysia, it can help other researchers in these countries who can use our method and its performance for the prediction in their region.\n",
    "\n",
    "For further research, we can acquire more PV and environmental data by setting up a physical system and collecting the data from it, this would help us acquire better data, which would help build more accurate models. This would help in making a more predictive model using the approach from this research and can be compared with other CNNs in the future. Cooling and cleaning effects can also be added in the future and can be used with a dataset being collected for five years, making a more accurate model."
   ]
  },
  {
   "cell_type": "code",
   "execution_count": null,
   "id": "f455f109",
   "metadata": {},
   "outputs": [],
   "source": []
  }
 ],
 "metadata": {
  "kernelspec": {
   "display_name": "Python 3 (ipykernel)",
   "language": "python",
   "name": "python3"
  },
  "language_info": {
   "codemirror_mode": {
    "name": "ipython",
    "version": 3
   },
   "file_extension": ".py",
   "mimetype": "text/x-python",
   "name": "python",
   "nbconvert_exporter": "python",
   "pygments_lexer": "ipython3",
   "version": "3.9.12"
  }
 },
 "nbformat": 4,
 "nbformat_minor": 5
}
